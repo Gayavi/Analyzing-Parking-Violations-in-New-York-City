{
  "nbformat": 4,
  "nbformat_minor": 0,
  "metadata": {
    "colab": {
      "name": "Analysis On Parking Violations.ipynb",
      "provenance": [],
      "collapsed_sections": []
    },
    "kernelspec": {
      "name": "python3",
      "display_name": "Python 3"
    },
    "language_info": {
      "name": "python"
    }
  },
  "cells": [
    {
      "cell_type": "code",
      "metadata": {
        "id": "ffCmnfsWkgX5",
        "colab": {
          "base_uri": "https://localhost:8080/"
        },
        "outputId": "03c4e187-0554-4c2d-a8a3-bd45d707bdb1"
      },
      "source": [
        "!pip install pyspark"
      ],
      "execution_count": null,
      "outputs": [
        {
          "output_type": "stream",
          "text": [
            "Collecting pyspark\n",
            "\u001b[?25l  Downloading https://files.pythonhosted.org/packages/89/db/e18cfd78e408de957821ec5ca56de1250645b05f8523d169803d8df35a64/pyspark-3.1.2.tar.gz (212.4MB)\n",
            "\u001b[K     |████████████████████████████████| 212.4MB 70kB/s \n",
            "\u001b[?25hCollecting py4j==0.10.9\n",
            "\u001b[?25l  Downloading https://files.pythonhosted.org/packages/9e/b6/6a4fb90cd235dc8e265a6a2067f2a2c99f0d91787f06aca4bcf7c23f3f80/py4j-0.10.9-py2.py3-none-any.whl (198kB)\n",
            "\u001b[K     |████████████████████████████████| 204kB 17.3MB/s \n",
            "\u001b[?25hBuilding wheels for collected packages: pyspark\n",
            "  Building wheel for pyspark (setup.py) ... \u001b[?25l\u001b[?25hdone\n",
            "  Created wheel for pyspark: filename=pyspark-3.1.2-py2.py3-none-any.whl size=212880768 sha256=95fa6b769907368a53ae9e24edc4a3dc971eb512bfbca2892d9371d8802ee988\n",
            "  Stored in directory: /root/.cache/pip/wheels/40/1b/2c/30f43be2627857ab80062bef1527c0128f7b4070b6b2d02139\n",
            "Successfully built pyspark\n",
            "Installing collected packages: py4j, pyspark\n",
            "Successfully installed py4j-0.10.9 pyspark-3.1.2\n"
          ],
          "name": "stdout"
        }
      ]
    },
    {
      "cell_type": "code",
      "metadata": {
        "colab": {
          "base_uri": "https://localhost:8080/"
        },
        "id": "2SreJ3xJqyBp",
        "outputId": "23c36580-7d24-4d41-f928-5888453ef9ef"
      },
      "source": [
        "from google.colab import drive\n",
        "drive.mount(\"/content/gdrive\")"
      ],
      "execution_count": null,
      "outputs": [
        {
          "output_type": "stream",
          "text": [
            "Mounted at /content/gdrive\n"
          ],
          "name": "stdout"
        }
      ]
    },
    {
      "cell_type": "code",
      "metadata": {
        "id": "iP3RU4x9q4aO"
      },
      "source": [
        "from pyspark.sql import SparkSession\n",
        "spark = SparkSession \\\n",
        "    .builder \\\n",
        "    .appName(\"Exploratory Analysis\") \\\n",
        "    .getOrCreate()"
      ],
      "execution_count": null,
      "outputs": []
    },
    {
      "cell_type": "code",
      "metadata": {
        "colab": {
          "base_uri": "https://localhost:8080/"
        },
        "id": "xyJ-zyu2q64w",
        "outputId": "f255134e-de22-48c5-d4e9-8766f820e69a"
      },
      "source": [
        "parking = spark.read.format(\"csv\").option(\"header\", \"true\").option(\"inferSchema\", \"true\").load('/content/gdrive/My Drive/Big Data/Parking_Violations_Issued_-_Fiscal_Year_2017.csv')\n",
        "parking"
      ],
      "execution_count": null,
      "outputs": [
        {
          "output_type": "execute_result",
          "data": {
            "text/plain": [
              "DataFrame[Summons Number: bigint, Plate ID: string, Registration State: string, Plate Type: string, Issue Date: string, Violation Code: int, Vehicle Body Type: string, Vehicle Make: string, Issuing Agency: string, Street Code1: int, Street Code2: int, Street Code3: int, Vehicle Expiration Date: int, Violation Location: int, Violation Precinct: int, Issuer Precinct: int, Issuer Code: int, Issuer Command: string, Issuer Squad: string, Violation Time: string, Time First Observed: string, Violation County: string, Violation In Front Of Or Opposite: string, House Number: string, Street Name: string, Intersecting Street: string, Date First Observed: int, Law Section: int, Sub Division: string, Violation Legal Code: string, Days Parking In Effect    : string, From Hours In Effect: string, To Hours In Effect: string, Vehicle Color: string, Unregistered Vehicle?: int, Vehicle Year: int, Meter Number: string, Feet From Curb: int, Violation Post Code: string, Violation Description: string, No Standing or Stopping Violation: string, Hydrant Violation: string, Double Parking Violation: string]"
            ]
          },
          "metadata": {
            "tags": []
          },
          "execution_count": 4
        }
      ]
    },
    {
      "cell_type": "code",
      "metadata": {
        "colab": {
          "base_uri": "https://localhost:8080/"
        },
        "id": "BeEBlqOKrElL",
        "outputId": "94102765-663b-4f48-a46c-25cc76bad7c8"
      },
      "source": [
        "parking.show(25)"
      ],
      "execution_count": null,
      "outputs": [
        {
          "output_type": "stream",
          "text": [
            "+--------------+--------+------------------+----------+----------+--------------+-----------------+------------+--------------+------------+------------+------------+-----------------------+------------------+------------------+---------------+-----------+--------------+------------+--------------+-------------------+----------------+---------------------------------+------------+--------------------+-------------------+-------------------+-----------+------------+--------------------+--------------------------+--------------------+------------------+-------------+---------------------+------------+------------+--------------+-------------------+---------------------+---------------------------------+-----------------+------------------------+\n",
            "|Summons Number|Plate ID|Registration State|Plate Type|Issue Date|Violation Code|Vehicle Body Type|Vehicle Make|Issuing Agency|Street Code1|Street Code2|Street Code3|Vehicle Expiration Date|Violation Location|Violation Precinct|Issuer Precinct|Issuer Code|Issuer Command|Issuer Squad|Violation Time|Time First Observed|Violation County|Violation In Front Of Or Opposite|House Number|         Street Name|Intersecting Street|Date First Observed|Law Section|Sub Division|Violation Legal Code|Days Parking In Effect    |From Hours In Effect|To Hours In Effect|Vehicle Color|Unregistered Vehicle?|Vehicle Year|Meter Number|Feet From Curb|Violation Post Code|Violation Description|No Standing or Stopping Violation|Hydrant Violation|Double Parking Violation|\n",
            "+--------------+--------+------------------+----------+----------+--------------+-----------------+------------+--------------+------------+------------+------------+-----------------------+------------------+------------------+---------------+-----------+--------------+------------+--------------+-------------------+----------------+---------------------------------+------------+--------------------+-------------------+-------------------+-----------+------------+--------------------+--------------------------+--------------------+------------------+-------------+---------------------+------------+------------+--------------+-------------------+---------------------+---------------------------------+-----------------+------------------------+\n",
            "|    5092469481| GZH7067|                NY|       PAS|07/10/2016|             7|             SUBN|       TOYOT|             V|           0|           0|           0|                      0|              null|                 0|              0|          0|          null|        null|         0143A|               null|              BX|                             null|        null|ALLERTON AVE (W/B) @|         BARNES AVE|                  0|       1111|           D|                   T|                      null|                null|              null|           GY|                 null|        2001|        null|             0|               null| FAILURE TO STOP A...|                             null|             null|                    null|\n",
            "|    5092451658| GZH7067|                NY|       PAS|07/08/2016|             7|             SUBN|       TOYOT|             V|           0|           0|           0|                      0|              null|                 0|              0|          0|          null|        null|         0400P|               null|              BX|                             null|        null|ALLERTON AVE (W/B) @|         BARNES AVE|                  0|       1111|           D|                   T|                      null|                null|              null|           GY|                 null|        2001|        null|             0|               null| FAILURE TO STOP A...|                             null|             null|                    null|\n",
            "|    4006265037| FZX9232|                NY|       PAS|08/23/2016|             5|             SUBN|        FORD|             V|           0|           0|           0|                      0|              null|                 0|              0|          0|          null|        null|         0233P|               null|              BX|                             null|        null|SB WEBSTER AVE @ E 1|            94TH ST|                  0|       1111|           C|                   T|                      null|                null|              null|           BK|                 null|        2004|        null|             0|               null|   BUS LANE VIOLATION|                             null|             null|                    null|\n",
            "|    8478629828| 66623ME|                NY|       COM|06/14/2017|            47|             REFG|       MITSU|             T|       10610|       34330|       34350|               20180630|                14|                14|             14|     359594|          T102|           J|         1120A|               null|              NY|                                O|         330|             7th Ave|               null|                  0|        408|          l2|                null|                         Y|               0700A|             0700P|           WH|                 null|        2007|        null|             0|                 04| 47-Double PKG-Mid...|                             null|             null|                    null|\n",
            "|    7868300310| 37033JV|                NY|       COM|11/21/2016|            69|             DELV|       INTER|             T|       10510|       34310|       34330|               20170228|                13|                13|             13|     364832|          T102|           M|         0555P|               null|              NY|                                F|         799|             6th Ave|               null|                  0|        408|          h1|                null|                         Y|               0700A|             0700P|        WHITE|                 null|        2007|        null|             0|               31 6| 69-Failure to Dis...|                             null|             null|                    null|\n",
            "|    5096917368| FZD8593|                NY|       PAS|06/13/2017|             7|             SUBN|       ME/BE|             V|           0|           0|           0|                      0|              null|                 0|              0|          0|          null|        null|         0852P|               null|              QN|                             null|        null| NORTHERN BLVD (E/B)|    @ MARATHON PKWY|                  0|       1111|           D|                   T|                      null|                null|              null|           WH|                 null|        2012|        null|             0|               null| FAILURE TO STOP A...|                             null|             null|                    null|\n",
            "|    1413609545|  X20DCM|                NJ|       PAS|08/03/2016|            40|              SDN|       TOYOT|             P|       54070|       39430|       54930|                      0|                71|                71|             71|     960290|          0071|        0000|         0215A|               null|               K|                                F|         439|            KINGSTON|               null|                  0|        408|          C3|                null|                   BBBBBBB|                 ALL|               ALL|        WHITE|                    0|           0|           -|             1|               null|                 null|                             null|             null|                    null|\n",
            "|    4628525523|  326SF9|                MA|       PAS|12/21/2016|            36|               UT|         BMW|             V|           0|           0|           0|                      0|              null|                 0|              0|          0|          null|        null|         0758A|               null|              BX|                             null|        null|EB E GUN HILL RD @ B|          ARNES AVE|                  0|       1180|           B|                   T|                      null|                null|              null|         null|                 null|        2001|        null|             0|               null| PHTO SCHOOL ZN SP...|                             null|             null|                    null|\n",
            "|    4627113330| HCA5464|                NY|       OMS|11/21/2016|            36|             SUBN|       DODGE|             V|           0|           0|           0|                      0|              null|                 0|              0|          0|          null|        null|         1005A|               null|              QN|                             null|        null|NB BAISLEY BLVD @ 15|             5TH ST|                  0|       1180|           B|                   T|                      null|                null|              null|           BK|                 null|        2016|        null|             0|               null| PHTO SCHOOL ZN SP...|                             null|             null|                    null|\n",
            "|    4006478550| VAD7274|                VA|       PAS|10/05/2016|             5|               4D|         BMW|             V|           0|           0|           0|                      0|              null|                 0|              0|          0|          null|        null|         0845A|               null|              BX|                             null|        null|SB WEBSTER AVE @ E 2|            04TH ST|                  0|       1111|           C|                   T|                      null|                null|              null|          BLK|                 null|        2008|        null|             0|               null|   BUS LANE VIOLATION|                             null|             null|                    null|\n",
            "|    1407740258| 2513JMG|                NY|       COM|01/11/2017|            78|             DELV|       FRUEH|             P|           0|       40404|       40404|               20161130|               106|               106|            106|     960979|          0106|        0000|         0015A|               null|               Q|                             null|         126|          ST 115 AVE|               null|                  0|        408|          E2|                null|                   BBBBBBB|                 ALL|               ALL|        WHITE|                    0|        2015|           -|             0|               null|                 null|                             null|             null|                    null|\n",
            "|    8009901763| 13657MD|                NY|       COM|09/27/2016|            19|             DELV|       KENWO|             T|       10510|       34870|       34890|               20170331|                18|                18|             18|     357355|          T400|           A|         0707A|               null|              NY|                                O|        1365|             6th Ave|               null|                  0|        408|          c3|                null|                   YYYYYYY|                null|              null|           RD|                 null|        2013|        null|             0|               01 9| 19-No Stand (bus ...|                             null|             null|                    null|\n",
            "|    4625926610|N102911C|                NY|       OMT|10/27/2016|            36|              VAN|        FORD|             V|           0|           0|           0|                      0|              null|                 0|              0|          0|          null|        null|         1022A|               null|              QN|                             null|        null|EB HORACE HARDING EX|PRESSWAY @ PECK AVE|                  0|       1180|           B|                   T|                      null|                null|              null|           WH|                 null|        2008|        null|             0|               null| PHTO SCHOOL ZN SP...|                             null|             null|                    null|\n",
            "|    1416492320| FGR5997|                NY|       PAS|09/30/2016|            21|              SDN|       NISSA|             P|       53620|       74250|       74260|               20170303|                44|                44|             44|     905733|          0044|        0000|         1150A|               null|              BX|                                F|        1224|          NELSON AVE|               null|                  0|        408|          F1|                null|                   BYBBYBB|               1130A|             0100P|          TAN|                    0|           0|           -|             0|               null|                 null|                             null|             null|                    null|\n",
            "|    1413656420|T672371C|                NY|       PAS|02/04/2017|            40|             TAXI|       TOYOT|             P|       59630|       73470|       82230|               20170531|                73|                73|             73|     960758|          0073|        0000|         0525A|               null|               K|                                F|         279|         MCDOUGAL ST|               null|                  0|        408|          F1|                null|                   BBBBBBB|                 ALL|               ALL|          BLK|                    0|        2015|           -|             0|               null|                 null|                             null|             null|                    null|\n",
            "|    7959486440| GYF2052|                NY|       PAS|07/07/2016|            71|             4DSD|       VOLKS|             T|       70407|       17390|       48890|               20170527|               120|               120|            120|     356557|          T303|           E|         0645P|               null|               R|                                F|         143|     N St Austins Pl|               null|                  0|        408|          j6|                null|                      null|                null|              null|           GY|                 null|        2012|        null|             0|               C-PM| 71-Insp. Sticker ...|                             null|             null|                    null|\n",
            "|    5093620865| AD80228|                AZ|       PAS|09/24/2016|             7|               TK|        FORD|             V|           0|           0|           0|                      0|              null|                 0|              0|          0|          null|        null|         1122A|               null|              QN|                             null|        null|SO CONDUIT AVE (E/B)|          @ 89TH ST|                  0|       1111|           D|                   T|                      null|                null|              null|         null|                 null|        2009|        null|             0|               null| FAILURE TO STOP A...|                             null|             null|                    null|\n",
            "|    8480309064| 51771JW|                NY|       COM|01/26/2017|            64|              VAN|       INTER|             T|       17850|       10210|       10110|               88888888|                17|                17|             17|     363557|          T102|           L|         0256P|               null|              NY|                                F|         204|           E 43rd St|               null|                  0|        408|          C8|                null|                   YYYYYYY|                null|              null|        BROWN|                 null|        2007|        null|             0|                 06| 64-No STD Ex Con/...|                             null|             null|                    null|\n",
            "|    1416638830|  GLP367|                NY|       PAS|04/30/2017|            20|             SUBN|       DODGE|             P|       17650|       10110|       10010|               20180304|                17|                17|             17|     940179|          0017|        0000|         1232A|               null|              NY|                                O|         330|             E 33 ST|               null|                  0|        408|          E2|                null|                   YYYYYYY|               1200A|             1159P|          BLK|                    0|        2009|           -|             0|               null|                 null|                             null|             null|                    null|\n",
            "|    4630524241|  HJBP29|                FL|       PAS|02/03/2017|            36|               4D|         BMW|             V|           0|           0|           0|                      0|              null|                 0|              0|          0|          null|        null|         1034A|               null|              BK|                             null|        null|WB LINDEN BLVD @ SCH|           ENCK AVE|                  0|       1180|           B|                   T|                      null|                null|              null|          SIL|                 null|        2009|        null|             0|               null| PHTO SCHOOL ZN SP...|                             null|             null|                    null|\n",
            "|    8505131836| 87155MA|                NY|       COM|05/27/2017|            38|              VAN|       CHEVR|             T|       27050|       15350|       44890|               20171231|                 1|                 1|              1|     351949|          T105|           C|         1021A|               null|              NY|                                F|          50|           Murray St|               null|                  0|        408|          h1|                null|                         Y|               1000A|             0400P|           WH|                 null|        2016|        null|             0|                023| 38-Failure to Dis...|                             null|             null|                    null|\n",
            "|    8472853342| HJN6543|                NY|       PAS|10/04/2016|            71|             2DSD|       LINCO|             T|       39680|       23290|       58590|               20180915|               107|               107|            107|     363074|          T402|           R|         0122P|               null|               Q|                                F|      150-34|        Coolidge Ave|               null|                  0|        408|          j6|                null|                   YYYYYYY|                null|              null|           RD|                 null|        1989|        null|             0|               H 42| 71A-Insp Sticker ...|                             null|             null|                    null|\n",
            "|    8513520615| 77026MG|                NY|       COM|05/31/2017|            14|             TRAC|       VOLVO|             T|       15710|       35670|       35690|               20180430|                24|                24|             24|     352009|          T103|           E|         0721A|               null|              NY|                                F|         730|        Columbus Ave|               null|                  0|        408|           c|                null|                     YYYYY|               0700A|             1000A|        GREEN|                 null|        2016|        null|             0|                  H|       14-No Standing|                             null|             null|                    null|\n",
            "|    8556155431| HFB9919|                NY|       PAS|05/26/2017|            75|             4DSD|       DODGE|             T|       10090|        7890|        7990|               20180412|               114|               114|            114|     359604|          T401|           C|         0940A|               null|               Q|                                F|       30-87|             44th St|               null|                  0|        408|          j5|                null|                   YYYYYYY|                null|              null|           GY|                 null|        2013|        null|             0|               25-A| 75-No Match-Plate...|                             null|             null|                    null|\n",
            "|    8483087236| 76822MH|                NY|       COM|05/19/2017|            10|             DELV|         HIN|             T|       10810|       34490|       34510|               20170531|                14|                14|             14|     356484|          T106|           P|         1223P|               null|              NY|                                F|         535|             8th Ave|               null|                  0|        408|           b|                null|                   YYYYYYY|                null|              null|           WH|                 null|        2012|        null|             0|                 10|       10-No Stopping|                             null|             null|                    null|\n",
            "+--------------+--------+------------------+----------+----------+--------------+-----------------+------------+--------------+------------+------------+------------+-----------------------+------------------+------------------+---------------+-----------+--------------+------------+--------------+-------------------+----------------+---------------------------------+------------+--------------------+-------------------+-------------------+-----------+------------+--------------------+--------------------------+--------------------+------------------+-------------+---------------------+------------+------------+--------------+-------------------+---------------------+---------------------------------+-----------------+------------------------+\n",
            "only showing top 25 rows\n",
            "\n"
          ],
          "name": "stdout"
        }
      ]
    },
    {
      "cell_type": "code",
      "metadata": {
        "colab": {
          "base_uri": "https://localhost:8080/"
        },
        "id": "TWsC4sC1rJXV",
        "outputId": "5e8d4de2-e1ea-481f-9a78-4b7249197d3c"
      },
      "source": [
        "parking.printSchema()"
      ],
      "execution_count": null,
      "outputs": [
        {
          "output_type": "stream",
          "text": [
            "root\n",
            " |-- Summons Number: long (nullable = true)\n",
            " |-- Plate ID: string (nullable = true)\n",
            " |-- Registration State: string (nullable = true)\n",
            " |-- Plate Type: string (nullable = true)\n",
            " |-- Issue Date: string (nullable = true)\n",
            " |-- Violation Code: integer (nullable = true)\n",
            " |-- Vehicle Body Type: string (nullable = true)\n",
            " |-- Vehicle Make: string (nullable = true)\n",
            " |-- Issuing Agency: string (nullable = true)\n",
            " |-- Street Code1: integer (nullable = true)\n",
            " |-- Street Code2: integer (nullable = true)\n",
            " |-- Street Code3: integer (nullable = true)\n",
            " |-- Vehicle Expiration Date: integer (nullable = true)\n",
            " |-- Violation Location: integer (nullable = true)\n",
            " |-- Violation Precinct: integer (nullable = true)\n",
            " |-- Issuer Precinct: integer (nullable = true)\n",
            " |-- Issuer Code: integer (nullable = true)\n",
            " |-- Issuer Command: string (nullable = true)\n",
            " |-- Issuer Squad: string (nullable = true)\n",
            " |-- Violation Time: string (nullable = true)\n",
            " |-- Time First Observed: string (nullable = true)\n",
            " |-- Violation County: string (nullable = true)\n",
            " |-- Violation In Front Of Or Opposite: string (nullable = true)\n",
            " |-- House Number: string (nullable = true)\n",
            " |-- Street Name: string (nullable = true)\n",
            " |-- Intersecting Street: string (nullable = true)\n",
            " |-- Date First Observed: integer (nullable = true)\n",
            " |-- Law Section: integer (nullable = true)\n",
            " |-- Sub Division: string (nullable = true)\n",
            " |-- Violation Legal Code: string (nullable = true)\n",
            " |-- Days Parking In Effect    : string (nullable = true)\n",
            " |-- From Hours In Effect: string (nullable = true)\n",
            " |-- To Hours In Effect: string (nullable = true)\n",
            " |-- Vehicle Color: string (nullable = true)\n",
            " |-- Unregistered Vehicle?: integer (nullable = true)\n",
            " |-- Vehicle Year: integer (nullable = true)\n",
            " |-- Meter Number: string (nullable = true)\n",
            " |-- Feet From Curb: integer (nullable = true)\n",
            " |-- Violation Post Code: string (nullable = true)\n",
            " |-- Violation Description: string (nullable = true)\n",
            " |-- No Standing or Stopping Violation: string (nullable = true)\n",
            " |-- Hydrant Violation: string (nullable = true)\n",
            " |-- Double Parking Violation: string (nullable = true)\n",
            "\n"
          ],
          "name": "stdout"
        }
      ]
    },
    {
      "cell_type": "code",
      "metadata": {
        "colab": {
          "base_uri": "https://localhost:8080/"
        },
        "id": "S_8cHu2drMXk",
        "outputId": "28b13aa3-09fb-4f5c-dc6b-ce6fd2034f4d"
      },
      "source": [
        "# rows\n",
        "parking.count()"
      ],
      "execution_count": null,
      "outputs": [
        {
          "output_type": "execute_result",
          "data": {
            "text/plain": [
              "10803028"
            ]
          },
          "metadata": {
            "tags": []
          },
          "execution_count": 7
        }
      ]
    },
    {
      "cell_type": "code",
      "metadata": {
        "colab": {
          "base_uri": "https://localhost:8080/"
        },
        "id": "pcjcPfcZrPrx",
        "outputId": "3650254b-8c80-4f86-be0d-789ce5d1d785"
      },
      "source": [
        "# columns\n",
        "len(parking.columns)"
      ],
      "execution_count": null,
      "outputs": [
        {
          "output_type": "execute_result",
          "data": {
            "text/plain": [
              "43"
            ]
          },
          "metadata": {
            "tags": []
          },
          "execution_count": 8
        }
      ]
    },
    {
      "cell_type": "markdown",
      "metadata": {
        "id": "QUyqNdpNwftR"
      },
      "source": [
        "# Preprocessing"
      ]
    },
    {
      "cell_type": "code",
      "metadata": {
        "colab": {
          "base_uri": "https://localhost:8080/"
        },
        "id": "_yQc8qbYrS_p",
        "outputId": "d5ec84f0-e5aa-4b98-8f26-158ac756ffdc"
      },
      "source": [
        "# Drop duplicates\n",
        "parking=parking.dropDuplicates()\n",
        "parking.count()"
      ],
      "execution_count": null,
      "outputs": [
        {
          "output_type": "execute_result",
          "data": {
            "text/plain": [
              "10803028"
            ]
          },
          "metadata": {
            "tags": []
          },
          "execution_count": 5
        }
      ]
    },
    {
      "cell_type": "code",
      "metadata": {
        "colab": {
          "base_uri": "https://localhost:8080/"
        },
        "id": "E6zQpE0urZFY",
        "outputId": "0a4a899d-2cc3-4827-acee-15ed5e80cebb"
      },
      "source": [
        "# Get count of both null and missing values in pyspark\n",
        "\n",
        "from pyspark.sql.functions import isnan, when, count, col, desc\n",
        "parking.select([count(when(isnan(c) | col(c).isNull(), c)).alias(c) for c in parking.columns]).show()"
      ],
      "execution_count": null,
      "outputs": [
        {
          "output_type": "stream",
          "text": [
            "+--------------+--------+------------------+----------+----------+--------------+-----------------+------------+--------------+------------+------------+------------+-----------------------+------------------+------------------+---------------+-----------+--------------+------------+--------------+-------------------+----------------+---------------------------------+------------+-----------+-------------------+-------------------+-----------+------------+--------------------+--------------------------+--------------------+------------------+-------------+---------------------+------------+------------+--------------+-------------------+---------------------+---------------------------------+-----------------+------------------------+\n",
            "|Summons Number|Plate ID|Registration State|Plate Type|Issue Date|Violation Code|Vehicle Body Type|Vehicle Make|Issuing Agency|Street Code1|Street Code2|Street Code3|Vehicle Expiration Date|Violation Location|Violation Precinct|Issuer Precinct|Issuer Code|Issuer Command|Issuer Squad|Violation Time|Time First Observed|Violation County|Violation In Front Of Or Opposite|House Number|Street Name|Intersecting Street|Date First Observed|Law Section|Sub Division|Violation Legal Code|Days Parking In Effect    |From Hours In Effect|To Hours In Effect|Vehicle Color|Unregistered Vehicle?|Vehicle Year|Meter Number|Feet From Curb|Violation Post Code|Violation Description|No Standing or Stopping Violation|Hydrant Violation|Double Parking Violation|\n",
            "+--------------+--------+------------------+----------+----------+--------------+-----------------+------------+--------------+------------+------------+------------+-----------------------+------------------+------------------+---------------+-----------+--------------+------------+--------------+-------------------+----------------+---------------------------------+------------+-----------+-------------------+-------------------+-----------+------------+--------------------+--------------------------+--------------------+------------------+-------------+---------------------+------------+------------+--------------+-------------------+---------------------+---------------------------------+-----------------+------------------------+\n",
            "|             0|       1|                 0|         0|         0|             0|            42696|       73047|             0|           0|           0|           0|                      0|           2072400|                 0|              0|          0|       2062645|     2063541|            63|            9962281|           39547|                          2161235|     2288618|       4009|            7435473|                  0|          0|         773|             8740321|                   2712416|             5450946|           5450943|       152332|              9675432|           0|     9017555|             0|            3190187|              1127470|                         10803028|         10803028|                10803028|\n",
            "+--------------+--------+------------------+----------+----------+--------------+-----------------+------------+--------------+------------+------------+------------+-----------------------+------------------+------------------+---------------+-----------+--------------+------------+--------------+-------------------+----------------+---------------------------------+------------+-----------+-------------------+-------------------+-----------+------------+--------------------+--------------------------+--------------------+------------------+-------------+---------------------+------------+------------+--------------+-------------------+---------------------+---------------------------------+-----------------+------------------------+\n",
            "\n"
          ],
          "name": "stdout"
        }
      ]
    },
    {
      "cell_type": "code",
      "metadata": {
        "id": "z5i7p37UrjIA"
      },
      "source": [
        "#drop columns having high percentage of null values\n",
        "\n",
        "columns_to_drop = ['Double Parking Violation', 'Hydrant Violation','No Standing or Stopping Violation', 'Meter Number', 'Unregistered Vehicle?', 'Violation Legal Code', 'Intersecting Street', 'Time First Observed', 'Issuer Precinct', 'Issuer Code', 'Issuer Command', 'Issuer Squad', 'Violation In Front Of Or Opposite', 'House Number', 'Vehicle Color', 'From Hours In Effect', 'Days Parking In Effect    ','Violation Post Code','To Hours In Effect']\n",
        "parking = parking.drop(*columns_to_drop)"
      ],
      "execution_count": null,
      "outputs": []
    },
    {
      "cell_type": "code",
      "metadata": {
        "colab": {
          "base_uri": "https://localhost:8080/"
        },
        "id": "82l6voCxvHyE",
        "outputId": "3487eb18-0697-4731-e914-edf172ff3156"
      },
      "source": [
        "#drop the null values in specified columns\n",
        "\n",
        "parking =parking.na.drop(subset=[\"Plate ID\",\"Violation Time\",\"Sub Division\",\"Violation Description\",\"Violation Location\",\"Street Name\",\"Violation County\"])\n",
        "parking.show(truncate=False)"
      ],
      "execution_count": null,
      "outputs": [
        {
          "output_type": "stream",
          "text": [
            "+--------------+--------+------------------+----------+----------+--------------+-----------------+------------+--------------+------------+------------+------------+-----------------------+------------------+------------------+--------------+----------------+---------------+-------------------+-----------+------------+------------+--------------+------------------------------+\n",
            "|Summons Number|Plate ID|Registration State|Plate Type|Issue Date|Violation Code|Vehicle Body Type|Vehicle Make|Issuing Agency|Street Code1|Street Code2|Street Code3|Vehicle Expiration Date|Violation Location|Violation Precinct|Violation Time|Violation County|Street Name    |Date First Observed|Law Section|Sub Division|Vehicle Year|Feet From Curb|Violation Description         |\n",
            "+--------------+--------+------------------+----------+----------+--------------+-----------------+------------+--------------+------------+------------+------------+-----------------------+------------------+------------------+--------------+----------------+---------------+-------------------+-----------+------------+------------+--------------+------------------------------+\n",
            "|8478629828    |66623ME |NY                |COM       |06/14/2017|47            |REFG             |MITSU       |T             |10610       |34330       |34350       |20180630               |14                |14                |1120A         |NY              |7th Ave        |0                  |408        |l2          |2007        |0             |47-Double PKG-Midtown         |\n",
            "|7868300310    |37033JV |NY                |COM       |11/21/2016|69            |DELV             |INTER       |T             |10510       |34310       |34330       |20170228               |13                |13                |0555P         |NY              |6th Ave        |0                  |408        |h1          |2007        |0             |69-Failure to Disp Muni Recpt |\n",
            "|8009901763    |13657MD |NY                |COM       |09/27/2016|19            |DELV             |KENWO       |T             |10510       |34870       |34890       |20170331               |18                |18                |0707A         |NY              |6th Ave        |0                  |408        |c3          |2013        |0             |19-No Stand (bus stop)        |\n",
            "|7959486440    |GYF2052 |NY                |PAS       |07/07/2016|71            |4DSD             |VOLKS       |T             |70407       |17390       |48890       |20170527               |120               |120               |0645P         |R               |N St Austins Pl|0                  |408        |j6          |2012        |0             |71-Insp. Sticker Missing (NYS |\n",
            "|8480309064    |51771JW |NY                |COM       |01/26/2017|64            |VAN              |INTER       |T             |17850       |10210       |10110       |88888888               |17                |17                |0256P         |NY              |E 43rd St      |0                  |408        |C8          |2007        |0             |64-No STD Ex Con/DPL, D/S Dec |\n",
            "|8505131836    |87155MA |NY                |COM       |05/27/2017|38            |VAN              |CHEVR       |T             |27050       |15350       |44890       |20171231               |1                 |1                 |1021A         |NY              |Murray St      |0                  |408        |h1          |2016        |0             |38-Failure to Display Muni Rec|\n",
            "|8472853342    |HJN6543 |NY                |PAS       |10/04/2016|71            |2DSD             |LINCO       |T             |39680       |23290       |58590       |20180915               |107               |107               |0122P         |Q               |Coolidge Ave   |0                  |408        |j6          |1989        |0             |71A-Insp Sticker Expired (NYS)|\n",
            "|8513520615    |77026MG |NY                |COM       |05/31/2017|14            |TRAC             |VOLVO       |T             |15710       |35670       |35690       |20180430               |24                |24                |0721A         |NY              |Columbus Ave   |0                  |408        |c           |2016        |0             |14-No Standing                |\n",
            "|8556155431    |HFB9919 |NY                |PAS       |05/26/2017|75            |4DSD             |DODGE       |T             |10090       |7890        |7990        |20180412               |114               |114               |0940A         |Q               |44th St        |0                  |408        |j5          |2013        |0             |75-No Match-Plate/Reg. Sticker|\n",
            "|8483087236    |76822MH |NY                |COM       |05/19/2017|10            |DELV             |HIN         |T             |10810       |34490       |34510       |20170531               |14                |14                |1223P         |NY              |8th Ave        |0                  |408        |b           |2012        |0             |10-No Stopping                |\n",
            "|8513914599    |65572JU |NY                |COM       |06/09/2017|69            |VAN              |FORD        |T             |10110       |18270       |18290       |20171231               |19                |19                |1028A         |NY              |2nd Ave        |0                  |408        |h1          |2009        |0             |69-Failure to Disp Muni Recpt |\n",
            "|8344027755    |GUP8589 |NY                |PAS       |12/07/2016|21            |SUBN             |NISSA       |T             |67730       |14480       |14530       |20181119               |61                |61                |0950A         |K               |Ocean Pky      |0                  |408        |d1          |2008        |0             |21-No Parking (street clean)  |\n",
            "|8040135217    |GTV5924 |NY                |PAS       |11/19/2016|38            |SUBN             |HONDA       |T             |13610       |13610       |10510       |20181007               |13                |13                |0817A         |NY              |Broadway       |0                  |408        |h1          |2014        |0             |38-Failure to Display Muni Rec|\n",
            "|8466021980    |GSC6098 |NY                |PAS       |12/27/2016|50            |4DSD             |NISSA       |T             |0           |0           |0           |20180706               |102               |102               |0751A         |Q               |95th Ave       |0                  |408        |e5          |2009        |0             |50-Crosswalk                  |\n",
            "|8357020770    |Y56DLT  |NJ                |PAS       |01/20/2017|21            |4DSD             |CHEVR       |T             |60810       |22280       |22390       |88888888               |113               |113               |0148A         |Q               |Rockaway Blvd  |0                  |408        |d1          |0           |0             |21-No Parking (street clean)  |\n",
            "|7047487591    |50741JZ |NY                |COM       |04/13/2017|38            |UTIL             |GMC         |T             |17140       |0           |0           |88888888               |115               |115               |1206P         |Q               |84th St        |0                  |408        |h1          |2008        |0             |38-Failure to Display Muni Rec|\n",
            "|8122530205    |95139JC |NY                |COM       |01/05/2017|48            |DELV             |INTER       |T             |10110       |17870       |17890       |20170430               |13                |13                |0141P         |NY              |2nd Ave        |0                  |408        |e9          |1993        |0             |48-Bike Lane                  |\n",
            "|8544889610    |VVP9002 |VA                |PAS       |06/14/2017|21            |4DSD             |AUDI        |T             |5580        |6930        |7030        |20180488               |72                |72                |0820A         |K               |5th Ave        |0                  |408        |d1          |0           |0             |21-No Parking (street clean)  |\n",
            "|7067047705    |HFF1432 |NY                |PAS       |09/23/2016|71            |SUBN             |JEEP        |T             |45590       |17240       |17390       |20180601               |102               |102               |0849A         |Q               |Forest Pky     |0                  |408        |j6          |2014        |0             |71A-Insp Sticker Expired (NYS)|\n",
            "|8162054819    |EW866X  |NJ                |PAS       |01/29/2017|68            |4DSD             |NISSA       |T             |21130       |93250       |42730       |88888888               |84                |84                |1043A         |K               |Bridge St      |0                  |408        |a1          |0           |0             |68-Not Pkg. Comp. w Psted Sign|\n",
            "+--------------+--------+------------------+----------+----------+--------------+-----------------+------------+--------------+------------+------------+------------+-----------------------+------------------+------------------+--------------+----------------+---------------+-------------------+-----------+------------+------------+--------------+------------------------------+\n",
            "only showing top 20 rows\n",
            "\n"
          ],
          "name": "stdout"
        }
      ]
    },
    {
      "cell_type": "code",
      "metadata": {
        "colab": {
          "base_uri": "https://localhost:8080/"
        },
        "id": "IzCsCBV5vQKR",
        "outputId": "5da0c2d8-4e57-4db9-df80-cf2c30b7f034"
      },
      "source": [
        "# Get count of both null and missing values in pyspark\n",
        "\n",
        "parking.select([count(when(isnan(c) | col(c).isNull(), c)).alias(c) for c in parking.columns]).show()"
      ],
      "execution_count": null,
      "outputs": [
        {
          "output_type": "stream",
          "text": [
            "+--------------+--------+------------------+----------+----------+--------------+-----------------+------------+--------------+------------+------------+------------+-----------------------+------------------+------------------+--------------+----------------+-----------+-------------------+-----------+------------+------------+--------------+---------------------+\n",
            "|Summons Number|Plate ID|Registration State|Plate Type|Issue Date|Violation Code|Vehicle Body Type|Vehicle Make|Issuing Agency|Street Code1|Street Code2|Street Code3|Vehicle Expiration Date|Violation Location|Violation Precinct|Violation Time|Violation County|Street Name|Date First Observed|Law Section|Sub Division|Vehicle Year|Feet From Curb|Violation Description|\n",
            "+--------------+--------+------------------+----------+----------+--------------+-----------------+------------+--------------+------------+------------+------------+-----------------------+------------------+------------------+--------------+----------------+-----------+-------------------+-----------+------------+------------+--------------+---------------------+\n",
            "|             0|       0|                 0|         0|         0|             0|             5301|       15045|             0|           0|           0|           0|                      0|                 0|                 0|             0|               0|          0|                  0|          0|           0|           0|             0|                    0|\n",
            "+--------------+--------+------------------+----------+----------+--------------+-----------------+------------+--------------+------------+------------+------------+-----------------------+------------------+------------------+--------------+----------------+-----------+-------------------+-----------+------------+------------+--------------+---------------------+\n",
            "\n"
          ],
          "name": "stdout"
        }
      ]
    },
    {
      "cell_type": "code",
      "metadata": {
        "colab": {
          "base_uri": "https://localhost:8080/"
        },
        "id": "hs78WDIrvnx5",
        "outputId": "e70e9500-ba53-4ed0-bcb4-4637ce534879"
      },
      "source": [
        "#replace column name spaces with _\n",
        "\n",
        "parking = parking.toDF(*(c.replace(' ', '_') for c in parking.columns))\n",
        "parking.show(5)"
      ],
      "execution_count": null,
      "outputs": [
        {
          "output_type": "stream",
          "text": [
            "+--------------+--------+------------------+----------+----------+--------------+-----------------+------------+--------------+------------+------------+------------+-----------------------+------------------+------------------+--------------+----------------+---------------+-------------------+-----------+------------+------------+--------------+---------------------+\n",
            "|Summons_Number|Plate_ID|Registration_State|Plate_Type|Issue_Date|Violation_Code|Vehicle_Body_Type|Vehicle_Make|Issuing_Agency|Street_Code1|Street_Code2|Street_Code3|Vehicle_Expiration_Date|Violation_Location|Violation_Precinct|Violation_Time|Violation_County|    Street_Name|Date_First_Observed|Law_Section|Sub_Division|Vehicle_Year|Feet_From_Curb|Violation_Description|\n",
            "+--------------+--------+------------------+----------+----------+--------------+-----------------+------------+--------------+------------+------------+------------+-----------------------+------------------+------------------+--------------+----------------+---------------+-------------------+-----------+------------+------------+--------------+---------------------+\n",
            "|    8478629828| 66623ME|                NY|       COM|06/14/2017|            47|             REFG|       MITSU|             T|       10610|       34330|       34350|               20180630|                14|                14|         1120A|              NY|        7th Ave|                  0|        408|          l2|        2007|             0| 47-Double PKG-Mid...|\n",
            "|    7868300310| 37033JV|                NY|       COM|11/21/2016|            69|             DELV|       INTER|             T|       10510|       34310|       34330|               20170228|                13|                13|         0555P|              NY|        6th Ave|                  0|        408|          h1|        2007|             0| 69-Failure to Dis...|\n",
            "|    8009901763| 13657MD|                NY|       COM|09/27/2016|            19|             DELV|       KENWO|             T|       10510|       34870|       34890|               20170331|                18|                18|         0707A|              NY|        6th Ave|                  0|        408|          c3|        2013|             0| 19-No Stand (bus ...|\n",
            "|    7959486440| GYF2052|                NY|       PAS|07/07/2016|            71|             4DSD|       VOLKS|             T|       70407|       17390|       48890|               20170527|               120|               120|         0645P|               R|N St Austins Pl|                  0|        408|          j6|        2012|             0| 71-Insp. Sticker ...|\n",
            "|    8480309064| 51771JW|                NY|       COM|01/26/2017|            64|              VAN|       INTER|             T|       17850|       10210|       10110|               88888888|                17|                17|         0256P|              NY|      E 43rd St|                  0|        408|          C8|        2007|             0| 64-No STD Ex Con/...|\n",
            "+--------------+--------+------------------+----------+----------+--------------+-----------------+------------+--------------+------------+------------+------------+-----------------------+------------------+------------------+--------------+----------------+---------------+-------------------+-----------+------------+------------+--------------+---------------------+\n",
            "only showing top 5 rows\n",
            "\n"
          ],
          "name": "stdout"
        }
      ]
    },
    {
      "cell_type": "code",
      "metadata": {
        "colab": {
          "base_uri": "https://localhost:8080/"
        },
        "id": "vOVF_NIzvRnN",
        "outputId": "c026762c-6644-4624-fcef-afa14eec908a"
      },
      "source": [
        "parking.count()"
      ],
      "execution_count": null,
      "outputs": [
        {
          "output_type": "execute_result",
          "data": {
            "text/plain": [
              "7611565"
            ]
          },
          "metadata": {
            "tags": []
          },
          "execution_count": 15
        }
      ]
    },
    {
      "cell_type": "code",
      "metadata": {
        "colab": {
          "base_uri": "https://localhost:8080/"
        },
        "id": "BXHkQ8tRvagt",
        "outputId": "5ff1c17a-4436-4a58-920f-6a62794ce787"
      },
      "source": [
        "#current no of columns\n",
        "\n",
        "print(len(parking.columns))"
      ],
      "execution_count": null,
      "outputs": [
        {
          "output_type": "stream",
          "text": [
            "24\n"
          ],
          "name": "stdout"
        }
      ]
    },
    {
      "cell_type": "code",
      "metadata": {
        "colab": {
          "base_uri": "https://localhost:8080/"
        },
        "id": "aZ3MUvn3vXBz",
        "outputId": "e2353cdd-0fa2-4815-aa6a-194648c05430"
      },
      "source": [
        "parking.printSchema()"
      ],
      "execution_count": null,
      "outputs": [
        {
          "output_type": "stream",
          "text": [
            "root\n",
            " |-- Summons_Number: long (nullable = true)\n",
            " |-- Plate_ID: string (nullable = true)\n",
            " |-- Registration_State: string (nullable = true)\n",
            " |-- Plate_Type: string (nullable = true)\n",
            " |-- Issue_Date: string (nullable = true)\n",
            " |-- Violation_Code: integer (nullable = true)\n",
            " |-- Vehicle_Body_Type: string (nullable = true)\n",
            " |-- Vehicle_Make: string (nullable = true)\n",
            " |-- Issuing_Agency: string (nullable = true)\n",
            " |-- Street_Code1: integer (nullable = true)\n",
            " |-- Street_Code2: integer (nullable = true)\n",
            " |-- Street_Code3: integer (nullable = true)\n",
            " |-- Vehicle_Expiration_Date: integer (nullable = true)\n",
            " |-- Violation_Location: integer (nullable = true)\n",
            " |-- Violation_Precinct: integer (nullable = true)\n",
            " |-- Violation_Time: string (nullable = true)\n",
            " |-- Violation_County: string (nullable = true)\n",
            " |-- Street_Name: string (nullable = true)\n",
            " |-- Date_First_Observed: integer (nullable = true)\n",
            " |-- Law_Section: integer (nullable = true)\n",
            " |-- Sub_Division: string (nullable = true)\n",
            " |-- Vehicle_Year: integer (nullable = true)\n",
            " |-- Feet_From_Curb: integer (nullable = true)\n",
            " |-- Violation_Description: string (nullable = true)\n",
            "\n"
          ],
          "name": "stdout"
        }
      ]
    },
    {
      "cell_type": "code",
      "metadata": {
        "colab": {
          "base_uri": "https://localhost:8080/"
        },
        "id": "fZSUMtR63HJE",
        "outputId": "b26bcbb2-0ac4-4125-d2e1-f46b206e6aaf"
      },
      "source": [
        "parking.groupBy('Vehicle_Make').count().sort(desc(\"count\")).show()"
      ],
      "execution_count": null,
      "outputs": [
        {
          "output_type": "stream",
          "text": [
            "+------------+------+\n",
            "|Vehicle_Make| count|\n",
            "+------------+------+\n",
            "|        FORD|961522|\n",
            "|       TOYOT|786514|\n",
            "|       HONDA|720591|\n",
            "|       NISSA|593444|\n",
            "|       CHEVR|533607|\n",
            "|       FRUEH|363957|\n",
            "|       ME/BE|270986|\n",
            "|       DODGE|265064|\n",
            "|         BMW|251787|\n",
            "|        JEEP|235520|\n",
            "|       INTER|228242|\n",
            "|       HYUND|193121|\n",
            "|         GMC|191116|\n",
            "|       LEXUS|158959|\n",
            "|       ACURA|135778|\n",
            "|       VOLKS|126748|\n",
            "|       CHRYS|119992|\n",
            "|       INFIN|112998|\n",
            "|       NS/OT|107281|\n",
            "|       ISUZU|106905|\n",
            "+------------+------+\n",
            "only showing top 20 rows\n",
            "\n"
          ],
          "name": "stdout"
        }
      ]
    },
    {
      "cell_type": "code",
      "metadata": {
        "id": "H3thMtTN6x-L"
      },
      "source": [
        "#replace the null values in Vehicle_Make by most common value\n",
        "colNames = [\"Vehicle_Make\"]\n",
        "parking = parking.na.fill(\"FORD\", colNames)"
      ],
      "execution_count": null,
      "outputs": []
    },
    {
      "cell_type": "code",
      "metadata": {
        "colab": {
          "base_uri": "https://localhost:8080/"
        },
        "id": "wLL1xhHYFK6s",
        "outputId": "e6e3f8ae-6bec-429a-d19a-08d2cbba5d4c"
      },
      "source": [
        "parking.groupBy('Vehicle_Body_Type').count().sort(desc(\"count\")).show()"
      ],
      "execution_count": null,
      "outputs": [
        {
          "output_type": "stream",
          "text": [
            "+-----------------+-------+\n",
            "|Vehicle_Body_Type|  count|\n",
            "+-----------------+-------+\n",
            "|             SUBN|2585390|\n",
            "|             4DSD|2362605|\n",
            "|              VAN|1203057|\n",
            "|             DELV| 567315|\n",
            "|             2DSD| 226291|\n",
            "|             PICK| 219864|\n",
            "|             REFG|  93226|\n",
            "|             TRAC|  62978|\n",
            "|             UTIL|  53561|\n",
            "|             TAXI|  35727|\n",
            "|             CONV|  33922|\n",
            "|              BUS|  30339|\n",
            "|             TRLR|  26228|\n",
            "|              MCY|  21747|\n",
            "|               TK|  20054|\n",
            "|             FLAT|  11112|\n",
            "|             TR/C|   8275|\n",
            "|             DUMP|   7762|\n",
            "|             T/CR|   7450|\n",
            "|             null|   5301|\n",
            "+-----------------+-------+\n",
            "only showing top 20 rows\n",
            "\n"
          ],
          "name": "stdout"
        }
      ]
    },
    {
      "cell_type": "code",
      "metadata": {
        "id": "Rwjf9owj8JrN"
      },
      "source": [
        "#replace the null values in Vehicle_Body_Type by most common value\n",
        "colNames = [\"Vehicle_Body_Type\"]\n",
        "parking = parking.na.fill(\"SUBN\", colNames)"
      ],
      "execution_count": null,
      "outputs": []
    },
    {
      "cell_type": "code",
      "metadata": {
        "id": "v5FGxIVKGcR-",
        "colab": {
          "base_uri": "https://localhost:8080/"
        },
        "outputId": "645e6f7d-3ea5-499a-d228-bd85c62eeca4"
      },
      "source": [
        "parking.select([count(when(isnan(c) | col(c).isNull(), c)).alias(c) for c in parking.columns]).show()"
      ],
      "execution_count": null,
      "outputs": [
        {
          "output_type": "stream",
          "text": [
            "+--------------+--------+------------------+----------+----------+--------------+-----------------+------------+--------------+------------+------------+------------+-----------------------+------------------+------------------+--------------+----------------+-----------+-------------------+-----------+------------+------------+--------------+---------------------+\n",
            "|Summons_Number|Plate_ID|Registration_State|Plate_Type|Issue_Date|Violation_Code|Vehicle_Body_Type|Vehicle_Make|Issuing_Agency|Street_Code1|Street_Code2|Street_Code3|Vehicle_Expiration_Date|Violation_Location|Violation_Precinct|Violation_Time|Violation_County|Street_Name|Date_First_Observed|Law_Section|Sub_Division|Vehicle_Year|Feet_From_Curb|Violation_Description|\n",
            "+--------------+--------+------------------+----------+----------+--------------+-----------------+------------+--------------+------------+------------+------------+-----------------------+------------------+------------------+--------------+----------------+-----------+-------------------+-----------+------------+------------+--------------+---------------------+\n",
            "|             0|       0|                 0|         0|         0|             0|                0|           0|             0|           0|           0|           0|                      0|                 0|                 0|             0|               0|          0|                  0|          0|           0|           0|             0|                    0|\n",
            "+--------------+--------+------------------+----------+----------+--------------+-----------------+------------+--------------+------------+------------+------------+-----------------------+------------------+------------------+--------------+----------------+-----------+-------------------+-----------+------------+------------+--------------+---------------------+\n",
            "\n"
          ],
          "name": "stdout"
        }
      ]
    },
    {
      "cell_type": "markdown",
      "metadata": {
        "id": "UvOHEu_Iwjys"
      },
      "source": [
        "# Aggregations"
      ]
    },
    {
      "cell_type": "code",
      "metadata": {
        "id": "cwT4L3qdNmL2"
      },
      "source": [
        "import pandas as pd\n",
        "import matplotlib.pyplot as plt"
      ],
      "execution_count": null,
      "outputs": []
    },
    {
      "cell_type": "code",
      "metadata": {
        "id": "MafPt4vHwl_f"
      },
      "source": [
        "#create a temporary view of the dataframe\n",
        "parking.createOrReplaceTempView(\"parkingtable\")"
      ],
      "execution_count": null,
      "outputs": []
    },
    {
      "cell_type": "code",
      "metadata": {
        "colab": {
          "base_uri": "https://localhost:8080/"
        },
        "id": "GKDDN55Qwr0k",
        "outputId": "a7872786-9a91-435f-de94-d676e3c28942"
      },
      "source": [
        "spark.sql('Select * from parkingtable')"
      ],
      "execution_count": null,
      "outputs": [
        {
          "output_type": "execute_result",
          "data": {
            "text/plain": [
              "DataFrame[Summons_Number: bigint, Plate_ID: string, Registration_State: string, Plate_Type: string, Issue_Date: string, Violation_Code: int, Vehicle_Body_Type: string, Vehicle_Make: string, Issuing_Agency: string, Street_Code1: int, Street_Code2: int, Street_Code3: int, Vehicle_Expiration_Date: int, Violation_Location: int, Violation_Precinct: int, Violation_Time: string, Violation_County: string, Street_Name: string, Date_First_Observed: int, Law_Section: int, Sub_Division: string, Vehicle_Year: int, Feet_From_Curb: int, Violation_Description: string]"
            ]
          },
          "metadata": {
            "tags": []
          },
          "execution_count": 14
        }
      ]
    },
    {
      "cell_type": "markdown",
      "metadata": {
        "id": "MUadbbUCxH3S"
      },
      "source": [
        "#### 1. Most common parking violations code list with frequencies"
      ]
    },
    {
      "cell_type": "code",
      "metadata": {
        "colab": {
          "base_uri": "https://localhost:8080/"
        },
        "id": "ty7JxiEIxOTo",
        "outputId": "f1bb5f48-1774-45bb-d5a5-f004801f8b2b"
      },
      "source": [
        "violation_frequencies= spark.sql(\"SELECT Violation_Code,Violation_Description,count(*) as Violation_Frequency FROM parkingtable GROUP BY Violation_Code,Violation_Description ORDER BY Violation_Frequency desc\")\n",
        "violation_frequencies.show(truncate=False)"
      ],
      "execution_count": null,
      "outputs": [
        {
          "output_type": "stream",
          "text": [
            "+--------------+------------------------------+-------------------+\n",
            "|Violation_Code|Violation_Description         |Violation_Frequency|\n",
            "+--------------+------------------------------+-------------------+\n",
            "|21            |21-No Parking (street clean)  |1230476            |\n",
            "|38            |38-Failure to Display Muni Rec|1055754            |\n",
            "|14            |14-No Standing                |810792             |\n",
            "|37            |37-Expired Muni Meter         |593797             |\n",
            "|20            |20A-No Parking (Non-COM)      |495566             |\n",
            "|71            |71A-Insp Sticker Expired (NYS)|454845             |\n",
            "|40            |40-Fire Hydrant               |422661             |\n",
            "|19            |19-No Stand (bus stop)        |228920             |\n",
            "|70            |70A-Reg. Sticker Expired (NYS)|221509             |\n",
            "|46            |46B-Double Parking (Com-100Ft)|209214             |\n",
            "|69            |69-Failure to Disp Muni Recpt |183227             |\n",
            "|46            |46A-Double Parking (Non-COM)  |166825             |\n",
            "|31            |31-No Stand (Com. Mtr. Zone)  |144981             |\n",
            "|47            |47-Double PKG-Midtown         |108756             |\n",
            "|16            |16A-No Std (Com Veh) Non-COM  |84523              |\n",
            "|48            |48-Bike Lane                  |75236              |\n",
            "|16            |16-No Std (Com Veh) Com Plate |71416              |\n",
            "|50            |50-Crosswalk                  |70947              |\n",
            "|84            |84-Platform lifts in low posit|70632              |\n",
            "|24            |24-No Parking (exc auth veh)  |65379              |\n",
            "+--------------+------------------------------+-------------------+\n",
            "only showing top 20 rows\n",
            "\n"
          ],
          "name": "stdout"
        }
      ]
    },
    {
      "cell_type": "code",
      "metadata": {
        "id": "PhBIDrnxeeeo"
      },
      "source": [
        "violation_frequency_pandas = violation_frequencies.toPandas()"
      ],
      "execution_count": null,
      "outputs": []
    },
    {
      "cell_type": "code",
      "metadata": {
        "colab": {
          "base_uri": "https://localhost:8080/",
          "height": 574
        },
        "id": "Fm2xtM3UeYW2",
        "outputId": "8f133b33-a13e-4daa-bb02-13c86e6cc399"
      },
      "source": [
        "plt.clf()\n",
        "plt.rcParams[\"figure.figsize\"] = (8, 6)\n",
        "violation_frequency_pandas[violation_frequency_pandas.Violation_Description!=0].head(10).plot(x='Violation_Description', y='Violation_Frequency', kind='bar')\n",
        "plt.title(\"Violations on the basis of Violation Type TOP 10\")\n",
        "plt.xlabel('Violation Type')\n",
        "plt.ylabel('Violation_Frequency')\n",
        "plt.show()"
      ],
      "execution_count": null,
      "outputs": [
        {
          "output_type": "display_data",
          "data": {
            "text/plain": [
              "<Figure size 432x288 with 0 Axes>"
            ]
          },
          "metadata": {
            "tags": []
          }
        },
        {
          "output_type": "display_data",
          "data": {
            "image/png": "[encoded data removed]",
            "text/plain": [
              "<Figure size 576x432 with 1 Axes>"
            ]
          },
          "metadata": {
            "tags": [],
            "needs_background": "light"
          }
        }
      ]
    },
    {
      "cell_type": "markdown",
      "metadata": {
        "id": "mo2EfZDdLkSb"
      },
      "source": [
        "Most occured violation type"
      ]
    },
    {
      "cell_type": "code",
      "metadata": {
        "id": "h3fC65ClLxNS",
        "colab": {
          "base_uri": "https://localhost:8080/"
        },
        "outputId": "e726d116-4316-4a20-84ac-80305b44d6fb"
      },
      "source": [
        "violation_type= spark.sql(\"SELECT Violation_Description,count(*) as Violation_Frequency FROM parkingtable GROUP BY Violation_Description ORDER BY Violation_Frequency desc\")\n",
        "violation_type.show(truncate=False)"
      ],
      "execution_count": null,
      "outputs": [
        {
          "output_type": "stream",
          "text": [
            "+------------------------------+-------------------+\n",
            "|Violation_Description         |Violation_Frequency|\n",
            "+------------------------------+-------------------+\n",
            "|21-No Parking (street clean)  |1230476            |\n",
            "|38-Failure to Display Muni Rec|1055754            |\n",
            "|14-No Standing                |810792             |\n",
            "|37-Expired Muni Meter         |593797             |\n",
            "|20A-No Parking (Non-COM)      |495566             |\n",
            "|71A-Insp Sticker Expired (NYS)|454845             |\n",
            "|40-Fire Hydrant               |422661             |\n",
            "|19-No Stand (bus stop)        |228920             |\n",
            "|70A-Reg. Sticker Expired (NYS)|221509             |\n",
            "|46B-Double Parking (Com-100Ft)|209214             |\n",
            "|69-Failure to Disp Muni Recpt |183227             |\n",
            "|46A-Double Parking (Non-COM)  |166825             |\n",
            "|31-No Stand (Com. Mtr. Zone)  |144981             |\n",
            "|47-Double PKG-Midtown         |108756             |\n",
            "|16A-No Std (Com Veh) Non-COM  |84523              |\n",
            "|48-Bike Lane                  |75236              |\n",
            "|16-No Std (Com Veh) Com Plate |71416              |\n",
            "|50-Crosswalk                  |70947              |\n",
            "|84-Platform lifts in low posit|70632              |\n",
            "|24-No Parking (exc auth veh)  |65379              |\n",
            "+------------------------------+-------------------+\n",
            "only showing top 20 rows\n",
            "\n"
          ],
          "name": "stdout"
        }
      ]
    },
    {
      "cell_type": "markdown",
      "metadata": {
        "id": "XPiz5SIjJG4j"
      },
      "source": [
        "####2. Most common vehicle make that had caused parking violations"
      ]
    },
    {
      "cell_type": "code",
      "metadata": {
        "colab": {
          "base_uri": "https://localhost:8080/"
        },
        "id": "P9iJOi5hBG4o",
        "outputId": "953d6aab-ba32-4f27-abde-91467dbb9b1c"
      },
      "source": [
        "vehicle_make= spark.sql(\"SELECT Vehicle_Make,count(*) as Violation_Frequency FROM parkingtable GROUP BY Vehicle_Make ORDER BY Violation_Frequency desc\")\n",
        "vehicle_make.show()"
      ],
      "execution_count": null,
      "outputs": [
        {
          "output_type": "stream",
          "text": [
            "+------------+-------------------+\n",
            "|Vehicle_Make|Violation_Frequency|\n",
            "+------------+-------------------+\n",
            "|        FORD|             976567|\n",
            "|       TOYOT|             786514|\n",
            "|       HONDA|             720591|\n",
            "|       NISSA|             593444|\n",
            "|       CHEVR|             533607|\n",
            "|       FRUEH|             363957|\n",
            "|       ME/BE|             270986|\n",
            "|       DODGE|             265064|\n",
            "|         BMW|             251787|\n",
            "|        JEEP|             235520|\n",
            "|       INTER|             228242|\n",
            "|       HYUND|             193121|\n",
            "|         GMC|             191116|\n",
            "|       LEXUS|             158959|\n",
            "|       ACURA|             135778|\n",
            "|       VOLKS|             126748|\n",
            "|       CHRYS|             119992|\n",
            "|       INFIN|             112998|\n",
            "|       NS/OT|             107281|\n",
            "|       ISUZU|             106905|\n",
            "+------------+-------------------+\n",
            "only showing top 20 rows\n",
            "\n"
          ],
          "name": "stdout"
        }
      ]
    },
    {
      "cell_type": "code",
      "metadata": {
        "id": "Qfs6yvYeJyag"
      },
      "source": [
        "vehicle_make_pandas = vehicle_make.toPandas()"
      ],
      "execution_count": null,
      "outputs": []
    },
    {
      "cell_type": "code",
      "metadata": {
        "colab": {
          "base_uri": "https://localhost:8080/",
          "height": 448
        },
        "id": "Q6vrn0pUJbqe",
        "outputId": "683509f3-177d-42c4-fac1-3eca0bf7519d"
      },
      "source": [
        "plt.clf()\n",
        "plt.rcParams[\"figure.figsize\"] = (8, 6)\n",
        "vehicle_make_pandas.head(10).plot(x='Vehicle_Make', y='Violation_Frequency', kind='bar')\n",
        "plt.title(\"Violations on the basis of Vehicle Make TOP 10\")\n",
        "plt.xlabel('Vehicle_Make')\n",
        "plt.ylabel('Violation_Frequency')\n",
        "plt.show()"
      ],
      "execution_count": null,
      "outputs": [
        {
          "output_type": "display_data",
          "data": {
            "text/plain": [
              "<Figure size 576x432 with 0 Axes>"
            ]
          },
          "metadata": {
            "tags": []
          }
        },
        {
          "output_type": "display_data",
          "data": {
            "image/png": "[encoded data removed]",
            "text/plain": [
              "<Figure size 576x432 with 1 Axes>"
            ]
          },
          "metadata": {
            "tags": [],
            "needs_background": "light"
          }
        }
      ]
    },
    {
      "cell_type": "markdown",
      "metadata": {
        "id": "LT9xA81BKBxM"
      },
      "source": [
        "####3. Vehicles which had done the most parking violations"
      ]
    },
    {
      "cell_type": "code",
      "metadata": {
        "colab": {
          "base_uri": "https://localhost:8080/"
        },
        "id": "Q5cDMerOKILU",
        "outputId": "21509444-f39d-499a-f4d5-9b50b507b901"
      },
      "source": [
        "vehicle= spark.sql(\"SELECT Plate_ID,count(*) as Violation_Frequency FROM parkingtable GROUP BY Plate_ID ORDER BY Violation_Frequency desc\")\n",
        "vehicle.show()"
      ],
      "execution_count": null,
      "outputs": [
        {
          "output_type": "stream",
          "text": [
            "+----------+-------------------+\n",
            "|  Plate_ID|Violation_Frequency|\n",
            "+----------+-------------------+\n",
            "|BLANKPLATE|               4929|\n",
            "|   94905JA|                860|\n",
            "|   2121796|                846|\n",
            "|   12359MG|                816|\n",
            "|   47603MD|                809|\n",
            "|   2028685|                798|\n",
            "|   85848MD|                775|\n",
            "|    AS744T|                771|\n",
            "|    AT985A|                753|\n",
            "|   77116MA|                734|\n",
            "|   37603JH|                732|\n",
            "|   14881MJ|                726|\n",
            "|   2380559|                722|\n",
            "|   14828MJ|                717|\n",
            "|   2194153|                700|\n",
            "|   35253MB|                700|\n",
            "|   63521JM|                698|\n",
            "|   12125MJ|                671|\n",
            "|    AT459E|                664|\n",
            "|    AP580Z|                660|\n",
            "+----------+-------------------+\n",
            "only showing top 20 rows\n",
            "\n"
          ],
          "name": "stdout"
        }
      ]
    },
    {
      "cell_type": "code",
      "metadata": {
        "id": "c0R7j3ulK0_Z"
      },
      "source": [
        "vehicle_pandas = vehicle.toPandas()"
      ],
      "execution_count": null,
      "outputs": []
    },
    {
      "cell_type": "code",
      "metadata": {
        "id": "i_YwXpCjtMFz",
        "colab": {
          "base_uri": "https://localhost:8080/",
          "height": 475
        },
        "outputId": "8e4ccd17-e3d5-44db-ad46-70a216de3000"
      },
      "source": [
        "plt.clf()\n",
        "plt.rcParams[\"figure.figsize\"] = (8, 6)\n",
        "vehicle_pandas.head(10).plot(x='Plate_ID', y='Violation_Frequency', kind='bar')\n",
        "plt.title(\"Violations on the basis of Vehicles TOP 10\")\n",
        "plt.xlabel('Plate_ID')\n",
        "plt.ylabel('Violation_Frequency')\n",
        "plt.show()"
      ],
      "execution_count": null,
      "outputs": [
        {
          "output_type": "display_data",
          "data": {
            "text/plain": [
              "<Figure size 576x432 with 0 Axes>"
            ]
          },
          "metadata": {
            "tags": []
          }
        },
        {
          "output_type": "display_data",
          "data": {
            "image/png": "[encoded data removed]",
            "text/plain": [
              "<Figure size 576x432 with 1 Axes>"
            ]
          },
          "metadata": {
            "tags": [],
            "needs_background": "light"
          }
        }
      ]
    },
    {
      "cell_type": "markdown",
      "metadata": {
        "id": "bKbmkr4cLNHv"
      },
      "source": [
        "####4. Vehicle body type that had caused most parking violations"
      ]
    },
    {
      "cell_type": "code",
      "metadata": {
        "colab": {
          "base_uri": "https://localhost:8080/"
        },
        "id": "ZFIF_mb-Laxu",
        "outputId": "541b5d06-4854-41a5-947d-de89a09d6b43"
      },
      "source": [
        "vehicle_type= spark.sql(\"SELECT Vehicle_Body_Type,count(*) as Violation_Frequency FROM parkingtable GROUP BY Vehicle_Body_Type ORDER BY Violation_Frequency desc\")\n",
        "vehicle_type.show()"
      ],
      "execution_count": null,
      "outputs": [
        {
          "output_type": "stream",
          "text": [
            "+-----------------+-------------------+\n",
            "|Vehicle_Body_Type|Violation_Frequency|\n",
            "+-----------------+-------------------+\n",
            "|             SUBN|            2590691|\n",
            "|             4DSD|            2362605|\n",
            "|              VAN|            1203057|\n",
            "|             DELV|             567315|\n",
            "|             2DSD|             226291|\n",
            "|             PICK|             219864|\n",
            "|             REFG|              93226|\n",
            "|             TRAC|              62978|\n",
            "|             UTIL|              53561|\n",
            "|             TAXI|              35727|\n",
            "|             CONV|              33922|\n",
            "|              BUS|              30339|\n",
            "|             TRLR|              26228|\n",
            "|              MCY|              21747|\n",
            "|               TK|              20054|\n",
            "|             FLAT|              11112|\n",
            "|             TR/C|               8275|\n",
            "|             DUMP|               7762|\n",
            "|             T/CR|               7450|\n",
            "|             SEDN|               4855|\n",
            "+-----------------+-------------------+\n",
            "only showing top 20 rows\n",
            "\n"
          ],
          "name": "stdout"
        }
      ]
    },
    {
      "cell_type": "code",
      "metadata": {
        "id": "1qCYlZWEMREa"
      },
      "source": [
        "vehicle_type_pandas = vehicle_type.toPandas()"
      ],
      "execution_count": null,
      "outputs": []
    },
    {
      "cell_type": "code",
      "metadata": {
        "colab": {
          "base_uri": "https://localhost:8080/",
          "height": 439
        },
        "id": "W50xW9oXKc26",
        "outputId": "5a3b299f-4eb3-42b2-d458-9af9bb749b9a"
      },
      "source": [
        "plt.clf()\n",
        "plt.rcParams[\"figure.figsize\"] = (8, 6)\n",
        "vehicle_type_pandas.head(10).plot(x='Vehicle_Body_Type', y='Violation_Frequency', kind='bar')\n",
        "plt.title(\"Violations on the basis of Vehicle Body Type TOP 10\")\n",
        "plt.xlabel('Vehicle_Body_Type')\n",
        "plt.ylabel('Violation_Frequency')\n",
        "plt.show()"
      ],
      "execution_count": null,
      "outputs": [
        {
          "output_type": "display_data",
          "data": {
            "text/plain": [
              "<Figure size 576x432 with 0 Axes>"
            ]
          },
          "metadata": {
            "tags": []
          }
        },
        {
          "output_type": "display_data",
          "data": {
            "image/png": "[encoded data removed]",
            "text/plain": [
              "<Figure size 576x432 with 1 Axes>"
            ]
          },
          "metadata": {
            "tags": [],
            "needs_background": "light"
          }
        }
      ]
    },
    {
      "cell_type": "markdown",
      "metadata": {
        "id": "vvz8EINVQSM2"
      },
      "source": [
        "####5. Occurance of parking violations in diffrent precincts"
      ]
    },
    {
      "cell_type": "code",
      "metadata": {
        "id": "mMy2EaztQiWy",
        "colab": {
          "base_uri": "https://localhost:8080/"
        },
        "outputId": "9dd99b64-f263-40ce-f1c1-8c9113b5dbdf"
      },
      "source": [
        "vio_precint = spark.sql(\"SELECT Violation_Code,Violation_Precinct,count(*) as Violation_Frequency FROM parkingtable GROUP BY Violation_Code,Violation_Precinct ORDER BY Violation_Frequency desc\")  \n",
        "vio_precint.show()"
      ],
      "execution_count": null,
      "outputs": [
        {
          "output_type": "stream",
          "text": [
            "+--------------+------------------+-------------------+\n",
            "|Violation_Code|Violation_Precinct|Violation_Frequency|\n",
            "+--------------+------------------+-------------------+\n",
            "|            14|                18|              85204|\n",
            "|            37|                19|              72412|\n",
            "|            38|                19|              72221|\n",
            "|            21|               114|              70452|\n",
            "|            14|                 1|              70047|\n",
            "|            46|                19|              69893|\n",
            "|            14|                14|              69681|\n",
            "|            69|                14|              58024|\n",
            "|            14|                19|              57148|\n",
            "|            21|                19|              54671|\n",
            "|            38|               114|              54620|\n",
            "|            21|                90|              49755|\n",
            "|            21|                70|              43806|\n",
            "|            38|                61|              41660|\n",
            "|            31|                14|              39699|\n",
            "|            14|                17|              39662|\n",
            "|            38|                70|              39540|\n",
            "|            16|                 1|              38862|\n",
            "|            37|               114|              36948|\n",
            "|            69|                18|              36743|\n",
            "+--------------+------------------+-------------------+\n",
            "only showing top 20 rows\n",
            "\n"
          ],
          "name": "stdout"
        }
      ]
    },
    {
      "cell_type": "code",
      "metadata": {
        "colab": {
          "base_uri": "https://localhost:8080/"
        },
        "id": "yxYi-yvMRWGo",
        "outputId": "107ae544-6a61-4ddb-97e1-8670fd5cd518"
      },
      "source": [
        "precint = spark.sql(\"SELECT Violation_Precinct,count(*) as Violation_Frequency FROM parkingtable GROUP BY Violation_Precinct ORDER BY Violation_Frequency desc\")  \n",
        "precint.show()"
      ],
      "execution_count": null,
      "outputs": [
        {
          "output_type": "stream",
          "text": [
            "+------------------+-------------------+\n",
            "|Violation_Precinct|Violation_Frequency|\n",
            "+------------------+-------------------+\n",
            "|                19|             501232|\n",
            "|                14|             329129|\n",
            "|                 1|             303711|\n",
            "|                18|             276717|\n",
            "|               114|             276079|\n",
            "|                13|             232660|\n",
            "|               109|             197338|\n",
            "|                17|             180840|\n",
            "|               115|             162554|\n",
            "|                70|             162539|\n",
            "|                20|             156067|\n",
            "|                84|             152952|\n",
            "|               108|             149372|\n",
            "|                61|             148331|\n",
            "|               112|             137412|\n",
            "|                52|             133124|\n",
            "|               103|             132298|\n",
            "|                90|             131444|\n",
            "|                 6|             126200|\n",
            "|                66|             124520|\n",
            "+------------------+-------------------+\n",
            "only showing top 20 rows\n",
            "\n"
          ],
          "name": "stdout"
        }
      ]
    },
    {
      "cell_type": "code",
      "metadata": {
        "id": "eESxW7w7Pj2G",
        "colab": {
          "base_uri": "https://localhost:8080/",
          "height": 430
        },
        "outputId": "ceb80855-8732-4d79-d59e-c49367856aa2"
      },
      "source": [
        "vio_precinct_pandas = precint.toPandas()\n",
        "plt.clf()\n",
        "plt.rcParams[\"figure.figsize\"] = (8, 6)\n",
        "vio_precinct_pandas.head(10).plot(x='Violation_Precinct', y='Violation_Frequency', kind='bar')\n",
        "plt.title(\"Violations on the basis of Violation Precinct TOP 10\")\n",
        "plt.xlabel('Violation_Precinct')\n",
        "plt.ylabel('Violation_Frequency')\n",
        "plt.show()"
      ],
      "execution_count": null,
      "outputs": [
        {
          "output_type": "display_data",
          "data": {
            "text/plain": [
              "<Figure size 576x432 with 0 Axes>"
            ]
          },
          "metadata": {
            "tags": []
          }
        },
        {
          "output_type": "display_data",
          "data": {
            "image/png": "[encoded data removed]",
            "text/plain": [
              "<Figure size 576x432 with 1 Axes>"
            ]
          },
          "metadata": {
            "tags": [],
            "needs_background": "light"
          }
        }
      ]
    },
    {
      "cell_type": "markdown",
      "metadata": {
        "id": "EO3U858QWWLy"
      },
      "source": [
        "####6. Occurance of parking violations in different locations"
      ]
    },
    {
      "cell_type": "code",
      "metadata": {
        "id": "4HldAyOuk0T4",
        "colab": {
          "base_uri": "https://localhost:8080/"
        },
        "outputId": "54c4f0e5-1c3c-4bd8-8217-b35ddbebf45c"
      },
      "source": [
        "Vio_Location = spark.sql(\"SELECT Violation_Code,Violation_Location,count(*) as Violation_Frequency FROM parkingtable GROUP BY Violation_Code,Violation_Location ORDER BY Violation_Frequency desc\")  \n",
        "Vio_Location.show()"
      ],
      "execution_count": null,
      "outputs": [
        {
          "output_type": "stream",
          "text": [
            "+--------------+------------------+-------------------+\n",
            "|Violation_Code|Violation_Location|Violation_Frequency|\n",
            "+--------------+------------------+-------------------+\n",
            "|            14|                18|              85204|\n",
            "|            37|                19|              72412|\n",
            "|            38|                19|              72221|\n",
            "|            21|               114|              70452|\n",
            "|            14|                 1|              70047|\n",
            "|            46|                19|              69893|\n",
            "|            14|                14|              69681|\n",
            "|            69|                14|              58024|\n",
            "|            14|                19|              57148|\n",
            "|            21|                19|              54671|\n",
            "|            38|               114|              54620|\n",
            "|            21|                90|              49755|\n",
            "|            21|                70|              43806|\n",
            "|            38|                61|              41660|\n",
            "|            31|                14|              39699|\n",
            "|            14|                17|              39662|\n",
            "|            38|                70|              39540|\n",
            "|            16|                 1|              38862|\n",
            "|            37|               114|              36948|\n",
            "|            69|                18|              36743|\n",
            "+--------------+------------------+-------------------+\n",
            "only showing top 20 rows\n",
            "\n"
          ],
          "name": "stdout"
        }
      ]
    },
    {
      "cell_type": "code",
      "metadata": {
        "colab": {
          "base_uri": "https://localhost:8080/"
        },
        "id": "xihXKzUARns-",
        "outputId": "3fe2009c-b6cb-4832-b574-a1eb12647ab1"
      },
      "source": [
        "Location = spark.sql(\"SELECT Violation_Location,count(*) as Violation_Frequency FROM parkingtable GROUP BY Violation_Location ORDER BY Violation_Frequency desc\")  \n",
        "Location.show()"
      ],
      "execution_count": null,
      "outputs": [
        {
          "output_type": "stream",
          "text": [
            "+------------------+-------------------+\n",
            "|Violation_Location|Violation_Frequency|\n",
            "+------------------+-------------------+\n",
            "|                19|             501232|\n",
            "|                14|             329129|\n",
            "|                 1|             303711|\n",
            "|                18|             276717|\n",
            "|               114|             276079|\n",
            "|                13|             232660|\n",
            "|               109|             197338|\n",
            "|                17|             180840|\n",
            "|               115|             162554|\n",
            "|                70|             162539|\n",
            "|                20|             156067|\n",
            "|                84|             152952|\n",
            "|               108|             149372|\n",
            "|                61|             148331|\n",
            "|               112|             137412|\n",
            "|                52|             133124|\n",
            "|               103|             132298|\n",
            "|                90|             131444|\n",
            "|                 6|             126200|\n",
            "|                66|             124520|\n",
            "+------------------+-------------------+\n",
            "only showing top 20 rows\n",
            "\n"
          ],
          "name": "stdout"
        }
      ]
    },
    {
      "cell_type": "code",
      "metadata": {
        "id": "JevKJTioQLzd",
        "colab": {
          "base_uri": "https://localhost:8080/",
          "height": 430
        },
        "outputId": "9bc27975-0d08-406c-e013-47a5f2437d78"
      },
      "source": [
        "Vio_Location_pandas = Location.toPandas()\n",
        "plt.clf()\n",
        "plt.rcParams[\"figure.figsize\"] = (8, 6)\n",
        "Vio_Location_pandas.head(10).plot(x='Violation_Location', y='Violation_Frequency', kind='bar')\n",
        "plt.title(\"Violations on the basis of Violation Location TOP 10\")\n",
        "plt.xlabel('Violation_Location')\n",
        "plt.ylabel('Violation_Frequency')\n",
        "plt.show()"
      ],
      "execution_count": null,
      "outputs": [
        {
          "output_type": "display_data",
          "data": {
            "text/plain": [
              "<Figure size 576x432 with 0 Axes>"
            ]
          },
          "metadata": {
            "tags": []
          }
        },
        {
          "output_type": "display_data",
          "data": {
            "image/png": "[encoded data removed]",
            "text/plain": [
              "<Figure size 576x432 with 1 Axes>"
            ]
          },
          "metadata": {
            "tags": [],
            "needs_background": "light"
          }
        }
      ]
    },
    {
      "cell_type": "markdown",
      "metadata": {
        "id": "8x5TkUadLPq2"
      },
      "source": [
        "####7. Parking violations and month"
      ]
    },
    {
      "cell_type": "code",
      "metadata": {
        "id": "clfmbs4mk0l0"
      },
      "source": [
        "from pyspark.sql.functions import unix_timestamp,from_unixtime"
      ],
      "execution_count": null,
      "outputs": []
    },
    {
      "cell_type": "code",
      "metadata": {
        "colab": {
          "base_uri": "https://localhost:8080/"
        },
        "id": "0b_dRa3Xk0xj",
        "outputId": "f24161b9-5cd6-4411-bb4c-d8d6c1a2e55c"
      },
      "source": [
        "Vio_Month = spark.sql(\"SELECT Violation_Code,month(from_unixtime(unix_timestamp(Issue_Date,'MM/dd/yyyy'))) as Month,count(*) as Violation_Frequency FROM parkingtable GROUP BY Violation_Code,Month ORDER BY Violation_Frequency desc\")  \n",
        "Vio_Month.show()"
      ],
      "execution_count": null,
      "outputs": [
        {
          "output_type": "stream",
          "text": [
            "+--------------+-----+-------------------+\n",
            "|Violation_Code|Month|Violation_Frequency|\n",
            "+--------------+-----+-------------------+\n",
            "|            21|    5|             126900|\n",
            "|            21|    6|             126862|\n",
            "|            21|    9|             110464|\n",
            "|            21|    8|             110354|\n",
            "|            21|    3|             109148|\n",
            "|            38|   10|             101264|\n",
            "|            21|   11|             100165|\n",
            "|            38|    3|              99232|\n",
            "|            21|   12|              98857|\n",
            "|            21|    1|              98218|\n",
            "|            38|    1|              94946|\n",
            "|            38|    6|              94806|\n",
            "|            21|    2|              93810|\n",
            "|            38|    9|              92154|\n",
            "|            38|    2|              91318|\n",
            "|            21|    4|              90675|\n",
            "|            38|   11|              88759|\n",
            "|            38|    4|              85938|\n",
            "|            21|    7|              85880|\n",
            "|            38|    5|              84515|\n",
            "+--------------+-----+-------------------+\n",
            "only showing top 20 rows\n",
            "\n"
          ],
          "name": "stdout"
        }
      ]
    },
    {
      "cell_type": "code",
      "metadata": {
        "colab": {
          "base_uri": "https://localhost:8080/"
        },
        "id": "qWT3fOnal2d2",
        "outputId": "ea885002-cc96-41f8-f873-2b28a6ea4048"
      },
      "source": [
        "Basedon_Month = spark.sql(\"SELECT month(from_unixtime(unix_timestamp(Issue_Date,'MM/dd/yyyy'))) as Month,count(*) as Violation_Frequency FROM parkingtable GROUP BY Month ORDER BY Month \")  \n",
        "Basedon_Month.show()"
      ],
      "execution_count": null,
      "outputs": [
        {
          "output_type": "stream",
          "text": [
            "+-----+-------------------+\n",
            "|Month|Violation_Frequency|\n",
            "+-----+-------------------+\n",
            "|    1|             617426|\n",
            "|    2|             608825|\n",
            "|    3|             696321|\n",
            "|    4|             672702|\n",
            "|    5|             730222|\n",
            "|    6|             762156|\n",
            "|    7|             501115|\n",
            "|    8|             602139|\n",
            "|    9|             655768|\n",
            "|   10|             659850|\n",
            "|   11|             606948|\n",
            "|   12|             498093|\n",
            "+-----+-------------------+\n",
            "\n"
          ],
          "name": "stdout"
        }
      ]
    },
    {
      "cell_type": "code",
      "metadata": {
        "colab": {
          "base_uri": "https://localhost:8080/",
          "height": 419
        },
        "id": "CFfuiYvtl5D6",
        "outputId": "62fac58c-1435-4b5a-f90e-6b5683ca7f41"
      },
      "source": [
        "Basedon_Month=Basedon_Month.toPandas()\n",
        "plt.clf()\n",
        "Basedon_Month.plot(x= 'Month', y='Violation_Frequency', kind='line')\n",
        "plt.title(\"Violations on the basis of month\")\n",
        "plt.xlabel('month')\n",
        "plt.ylabel('Violation_Frequency')\n",
        "plt.show()"
      ],
      "execution_count": null,
      "outputs": [
        {
          "output_type": "display_data",
          "data": {
            "text/plain": [
              "<Figure size 576x432 with 0 Axes>"
            ]
          },
          "metadata": {
            "tags": []
          }
        },
        {
          "output_type": "display_data",
          "data": {
            "image/png": "[encoded data removed]",
            "text/plain": [
              "<Figure size 576x432 with 1 Axes>"
            ]
          },
          "metadata": {
            "tags": [],
            "needs_background": "light"
          }
        }
      ]
    },
    {
      "cell_type": "markdown",
      "metadata": {
        "id": "3QLcAkkyvBzc"
      },
      "source": [
        "####8. Parking violations and Day"
      ]
    },
    {
      "cell_type": "code",
      "metadata": {
        "colab": {
          "base_uri": "https://localhost:8080/"
        },
        "id": "bYNxVlhJlx3S",
        "outputId": "40456c45-70a8-4eb7-adee-be8629e95b09"
      },
      "source": [
        "def get_weekday(date):\n",
        "    import datetime\n",
        "    import calendar\n",
        "    month, day, year = (int(x) for x in date.split('/'))    \n",
        "    weekday = datetime.date(year, month, day)\n",
        "    return calendar.day_name[weekday.weekday()]\n",
        "\n",
        "spark.udf.register('get_weekday', get_weekday)"
      ],
      "execution_count": null,
      "outputs": [
        {
          "output_type": "execute_result",
          "data": {
            "text/plain": [
              "<function __main__.get_weekday>"
            ]
          },
          "metadata": {
            "tags": []
          },
          "execution_count": 68
        }
      ]
    },
    {
      "cell_type": "code",
      "metadata": {
        "colab": {
          "base_uri": "https://localhost:8080/"
        },
        "id": "8aHxXMCWlz8D",
        "outputId": "f1742e79-4de8-4e3d-94d5-9a8e2965ed2e"
      },
      "source": [
        "Vio_Day = spark.sql(\"SELECT Violation_Code, get_weekday(Issue_Date) as Day,count(*) as Violation_Frequency FROM parkingtable GROUP BY Violation_Code,Day ORDER BY Violation_Frequency desc\")  \n",
        "Vio_Day.show()"
      ],
      "execution_count": null,
      "outputs": [
        {
          "output_type": "stream",
          "text": [
            "+--------------+---------+-------------------+\n",
            "|Violation_Code|      Day|Violation_Frequency|\n",
            "+--------------+---------+-------------------+\n",
            "|            21|   Friday|             292226|\n",
            "|            21| Thursday|             286369|\n",
            "|            21|  Tuesday|             249583|\n",
            "|            38| Saturday|             209246|\n",
            "|            21|   Monday|             196175|\n",
            "|            38|Wednesday|             185139|\n",
            "|            38|  Tuesday|             172673|\n",
            "|            38| Thursday|             170982|\n",
            "|            38|   Friday|             166972|\n",
            "|            38|   Monday|             150740|\n",
            "|            14|Wednesday|             148425|\n",
            "|            14|  Tuesday|             140971|\n",
            "|            14| Thursday|             137109|\n",
            "|            14|   Friday|             134652|\n",
            "|            14|   Monday|             121845|\n",
            "|            21|Wednesday|             121598|\n",
            "|            37|Wednesday|             117838|\n",
            "|            37|  Tuesday|             108672|\n",
            "|            37| Thursday|             107187|\n",
            "|            20|Wednesday|              99781|\n",
            "+--------------+---------+-------------------+\n",
            "only showing top 20 rows\n",
            "\n"
          ],
          "name": "stdout"
        }
      ]
    },
    {
      "cell_type": "code",
      "metadata": {
        "colab": {
          "base_uri": "https://localhost:8080/"
        },
        "id": "VlEmVhwsl7bS",
        "outputId": "86b1aa5a-90a8-47f2-eda4-048c699b7973"
      },
      "source": [
        "Basedon_Day = spark.sql(\"SELECT get_weekday(Issue_Date) as Day,count(*) as Violation_Frequency FROM parkingtable GROUP BY Day ORDER BY Day\")  \n",
        "Basedon_Day.show()"
      ],
      "execution_count": null,
      "outputs": [
        {
          "output_type": "stream",
          "text": [
            "+---------+-------------------+\n",
            "|      Day|Violation_Frequency|\n",
            "+---------+-------------------+\n",
            "|   Friday|            1318278|\n",
            "|   Monday|            1121719|\n",
            "| Saturday|             892948|\n",
            "|   Sunday|             265697|\n",
            "| Thursday|            1371939|\n",
            "|  Tuesday|            1348720|\n",
            "|Wednesday|            1292264|\n",
            "+---------+-------------------+\n",
            "\n"
          ],
          "name": "stdout"
        }
      ]
    },
    {
      "cell_type": "code",
      "metadata": {
        "colab": {
          "base_uri": "https://localhost:8080/",
          "height": 419
        },
        "id": "d4ZQvIKQl-Dr",
        "outputId": "ee0b29da-db4b-4a74-9442-5346bc77d218"
      },
      "source": [
        "Basedon_Day_for_plot = Basedon_Day.toPandas()\n",
        "plt.clf()\n",
        "Basedon_Day_for_plot.plot(x= 'Day', y='Violation_Frequency', kind='line')\n",
        "plt.title(\"Violations on the basis of day\")\n",
        "plt.xlabel('Day')\n",
        "plt.ylabel('Violation_Frequency')\n",
        "plt.show()"
      ],
      "execution_count": null,
      "outputs": [
        {
          "output_type": "display_data",
          "data": {
            "text/plain": [
              "<Figure size 576x432 with 0 Axes>"
            ]
          },
          "metadata": {
            "tags": []
          }
        },
        {
          "output_type": "display_data",
          "data": {
            "image/png": "[encoded data removed]",
            "text/plain": [
              "<Figure size 576x432 with 1 Axes>"
            ]
          },
          "metadata": {
            "tags": [],
            "needs_background": "light"
          }
        }
      ]
    },
    {
      "cell_type": "markdown",
      "metadata": {
        "id": "lLKtlIcfvVLP"
      },
      "source": [
        "####9. Parking violations and time"
      ]
    },
    {
      "cell_type": "code",
      "metadata": {
        "colab": {
          "base_uri": "https://localhost:8080/"
        },
        "id": "LJ-h_fQkls9-",
        "outputId": "651afb08-9e4b-47a4-8a73-04e56a2677c5"
      },
      "source": [
        "Vio_Time = spark.sql(\"SELECT Violation_Code,Violation_Time,count(*) as Violation_Frequency FROM parkingtable GROUP BY Violation_Code,Violation_Time ORDER BY Violation_Frequency desc\")  \n",
        "Vio_Time.show()"
      ],
      "execution_count": null,
      "outputs": [
        {
          "output_type": "stream",
          "text": [
            "+--------------+--------------+-------------------+\n",
            "|Violation_Code|Violation_Time|Violation_Frequency|\n",
            "+--------------+--------------+-------------------+\n",
            "|            21|         0836A|              15383|\n",
            "|            21|         1136A|              12262|\n",
            "|            21|         0839A|              10758|\n",
            "|            21|         0838A|              10713|\n",
            "|            21|         0936A|              10603|\n",
            "|            21|         0840A|              10441|\n",
            "|            21|         0837A|              10336|\n",
            "|            21|         0841A|              10112|\n",
            "|            21|         0806A|               9652|\n",
            "|            21|         0842A|               9592|\n",
            "|            21|         0906A|               9571|\n",
            "|            21|         1139A|               9570|\n",
            "|            21|         1140A|               9554|\n",
            "|            21|         0843A|               9444|\n",
            "|            21|         1138A|               9334|\n",
            "|            21|         1141A|               9028|\n",
            "|            21|         0844A|               8899|\n",
            "|            21|         1137A|               8873|\n",
            "|            21|         1142A|               8730|\n",
            "|            21|         0845A|               8550|\n",
            "+--------------+--------------+-------------------+\n",
            "only showing top 20 rows\n",
            "\n"
          ],
          "name": "stdout"
        }
      ]
    },
    {
      "cell_type": "code",
      "metadata": {
        "id": "9tjV2J3OMWPp",
        "colab": {
          "base_uri": "https://localhost:8080/"
        },
        "outputId": "2fdb351a-3559-4137-bebc-6960df0ec3ec"
      },
      "source": [
        "Violation_TimeInterval=spark.sql(\"SELECT  Violation_Code,case when substring(Violation_Time,1,2) in ('00','01','02','03','04','05','12') and upper(substring(Violation_Time,-1))='A' then '12.00AM - 06.00AM' when substring(Violation_Time,1,2) in ('06','07','08','09','10','11') and upper(substring(Violation_Time,-1))='A' then '06.00AM - 12.00AM' when substring(Violation_Time,1,2) in ('12','00','01','02','03','04','05') and upper(substring(Violation_Time,-1))='P' then '12.00PM - 06.00PM' when substring(Violation_Time,1,2) in ('06','07','08','09','10','11') and upper(substring(Violation_Time,-1))='P' then '06.00PM - 12.00PM' else null end as Violation_Time_bin,count(*) as Violation_Frequency from parkingtable where Violation_Time is not null or (length(Violation_Time)=5 and upper(substring(Violation_Time,-1)) in ('A','P') and substring(Violation_Time,1,2) in ('00','01','02','03','04','05','06','07', '08','09','10','11','12')) GROUP BY Violation_Time_bin,Violation_Code ORDER BY Violation_Frequency desc\")\n",
        "Violation_TimeInterval.show()"
      ],
      "execution_count": null,
      "outputs": [
        {
          "output_type": "stream",
          "text": [
            "+--------------+------------------+-------------------+\n",
            "|Violation_Code|Violation_Time_bin|Violation_Frequency|\n",
            "+--------------+------------------+-------------------+\n",
            "|            21| 06.00AM - 12.00AM|            1056143|\n",
            "|            38| 12.00PM - 06.00PM|             630802|\n",
            "|            37| 12.00PM - 06.00PM|             461206|\n",
            "|            14| 06.00AM - 12.00AM|             370320|\n",
            "|            14| 12.00PM - 06.00PM|             349590|\n",
            "|            38| 06.00AM - 12.00AM|             346125|\n",
            "|            20| 12.00PM - 06.00PM|             272074|\n",
            "|            71| 12.00PM - 06.00PM|             254149|\n",
            "|            71| 06.00AM - 12.00AM|             224360|\n",
            "|            20| 06.00AM - 12.00AM|             223478|\n",
            "|            46| 12.00PM - 06.00PM|             216264|\n",
            "|            40| 06.00AM - 12.00AM|             192201|\n",
            "|            40| 12.00PM - 06.00PM|             152449|\n",
            "|            46| 06.00AM - 12.00AM|             142281|\n",
            "|            70| 12.00PM - 06.00PM|             134649|\n",
            "|            21| 12.00PM - 06.00PM|             121297|\n",
            "|            70| 06.00AM - 12.00AM|             117146|\n",
            "|            19| 12.00PM - 06.00PM|             109355|\n",
            "|            37| 06.00AM - 12.00AM|             100531|\n",
            "|            69| 06.00AM - 12.00AM|              95852|\n",
            "+--------------+------------------+-------------------+\n",
            "only showing top 20 rows\n",
            "\n"
          ],
          "name": "stdout"
        }
      ]
    },
    {
      "cell_type": "code",
      "metadata": {
        "id": "tPAMcNI1BcsE"
      },
      "source": [
        "bins=spark.sql(\"SELECT  Violation_Code,case when substring(Violation_Time,1,2) in ('00','01','02','03','04','05','12') and upper(substring(Violation_Time,-1))='A' then '12.00AM - 06.00AM' when substring(Violation_Time,1,2) in ('06','07','08','09','10','11') and upper(substring(Violation_Time,-1))='A' then '06.00AM - 12.00AM' when substring(Violation_Time,1,2) in ('12','00','01','02','03','04','05') and upper(substring(Violation_Time,-1))='P' then '12.00PM - 06.00PM' when substring(Violation_Time,1,2) in ('06','07','08','09','10','11') and upper(substring(Violation_Time,-1))='P' then '06.00PM - 12.00PM' else null end as Violation_Time_bin from parkingtable where Violation_Time is not null or (length(Violation_Time)=5 and upper(substring(Violation_Time,-1)) in ('A','P') and substring(Violation_Time,1,2) in ('00','01','02','03','04','05','06','07', '08','09','10','11','12'))\")\n"
      ],
      "execution_count": null,
      "outputs": []
    },
    {
      "cell_type": "code",
      "metadata": {
        "id": "8nEzm-ogT2G3"
      },
      "source": [
        "bins.createOrReplaceTempView(\"timebinstable\")"
      ],
      "execution_count": null,
      "outputs": []
    },
    {
      "cell_type": "code",
      "metadata": {
        "id": "ouhzzudsmEv9",
        "colab": {
          "base_uri": "https://localhost:8080/"
        },
        "outputId": "8e4ca334-5a6a-4c82-9d86-d211faf7965f"
      },
      "source": [
        "Vio_TimeOfDay = spark.sql(\"SELECT Violation_Time_bin,count(*) as Violation_Frequency FROM timebinstable GROUP BY Violation_Time_bin ORDER BY Violation_Frequency\")  \n",
        "Vio_TimeOfDay.show()"
      ],
      "execution_count": null,
      "outputs": [
        {
          "output_type": "stream",
          "text": [
            "+------------------+-------------------+\n",
            "|Violation_Time_bin|Violation_Frequency|\n",
            "+------------------+-------------------+\n",
            "| 12.00AM - 06.00AM|             229208|\n",
            "| 06.00PM - 12.00PM|             383437|\n",
            "| 12.00PM - 06.00PM|            3447214|\n",
            "| 06.00AM - 12.00AM|            3551706|\n",
            "+------------------+-------------------+\n",
            "\n"
          ],
          "name": "stdout"
        }
      ]
    },
    {
      "cell_type": "code",
      "metadata": {
        "id": "cxmjqbzRmJFI",
        "colab": {
          "base_uri": "https://localhost:8080/",
          "height": 508
        },
        "outputId": "9802a6e1-734d-48d3-d0bb-44abdd4a41ef"
      },
      "source": [
        "Time_of_Day_for_plot = Vio_TimeOfDay.toPandas()\n",
        "plt.clf()\n",
        "Time_of_Day_for_plot.plot(x= 'Violation_Time_bin', y='Violation_Frequency', kind='bar')\n",
        "plt.title(\"Violations on the basis of time of the day\")\n",
        "plt.xlabel('Time Of The Day')\n",
        "plt.ylabel('Violation Frequency')\n",
        "plt.show()"
      ],
      "execution_count": null,
      "outputs": [
        {
          "output_type": "display_data",
          "data": {
            "text/plain": [
              "<Figure size 576x432 with 0 Axes>"
            ]
          },
          "metadata": {
            "tags": []
          }
        },
        {
          "output_type": "display_data",
          "data": {
            "image/png": "[encoded data removed]",
            "text/plain": [
              "<Figure size 576x432 with 1 Axes>"
            ]
          },
          "metadata": {
            "tags": [],
            "needs_background": "light"
          }
        }
      ]
    },
    {
      "cell_type": "markdown",
      "metadata": {
        "id": "9dULJ0anYtIH"
      },
      "source": [
        "### Merge Data sets for Prediction"
      ]
    },
    {
      "cell_type": "code",
      "metadata": {
        "id": "n3fMWNPGYsP9"
      },
      "source": [
        "parking2017 = spark.read.format(\"csv\").option(\"header\", \"true\").option(\"inferSchema\", \"true\").load('/content/gdrive/My Drive/Big Data/Parking_Violations_Issued_-_Fiscal_Year_2017.csv')\n",
        "parking2016 = spark.read.format(\"csv\").option(\"header\", \"true\").option(\"inferSchema\", \"true\").load('/content/gdrive/My Drive/Big Data/Parking_Violations_Issued_-_Fiscal_Year_2016.csv')\n",
        "parking2015 = spark.read.format(\"csv\").option(\"header\", \"true\").option(\"inferSchema\", \"true\").load('/content/gdrive/My Drive/Big Data/Parking_Violations_Issued_-_Fiscal_Year_2015.csv')\n",
        "parking2014 = spark.read.format(\"csv\").option(\"header\", \"true\").option(\"inferSchema\", \"true\").load('/content/gdrive/My Drive/Big Data/Parking_Violations_Issued_-_Fiscal_Year_2014__August_2013___June_2014_.csv')"
      ],
      "execution_count": null,
      "outputs": []
    },
    {
      "cell_type": "code",
      "metadata": {
        "id": "n01QbDshZ-mX"
      },
      "source": [
        "parking2017_Col_change= parking2017.toDF(*(c.replace(' ', '_') for c in parking2017.columns))\n",
        "parking2016_Col_change= parking2016.toDF(*(c.replace(' ', '_') for c in parking2016.columns))\n",
        "parking2015_Col_change= parking2015.toDF(*(c.replace(' ', '_') for c in parking2015.columns))\n",
        "parking2014_Col_change= parking2014.toDF(*(c.replace(' ', '_') for c in parking2014.columns))"
      ],
      "execution_count": null,
      "outputs": []
    },
    {
      "cell_type": "code",
      "metadata": {
        "id": "QFkDQ2Q9aMX7"
      },
      "source": [
        "from pyspark.sql.functions import unix_timestamp, from_unixtime\n",
        "parking2017_Col_change.createOrReplaceTempView(\"parkingtable2017\")\n",
        "parking2016_Col_change.createOrReplaceTempView(\"parkingtable2016\")\n",
        "parking2015_Col_change.createOrReplaceTempView(\"parkingtable2015\")\n",
        "parking2014_Col_change.createOrReplaceTempView(\"parkingtable2014\")"
      ],
      "execution_count": null,
      "outputs": []
    },
    {
      "cell_type": "code",
      "metadata": {
        "id": "7rpgnwDQaSiD"
      },
      "source": [
        "parkingtable2017=spark.sql(\"SELECT Issue_Date, year(from_unixtime(unix_timestamp(Issue_Date, 'MM/dd/yyy'))) as year, month(from_unixtime(unix_timestamp(Issue_Date, 'MM/dd/yyy'))) as month, day(from_unixtime(unix_timestamp(Issue_Date, 'MM/dd/yyy'))) as day,Violation_Location, Violation_Code , case when substring(Violation_Time,1,2) in ('00','01','02','03','04','05','12') and upper(substring(Violation_Time,-1))='A' then '12.00AM - 06.00AM' when substring(Violation_Time,1,2) in ('06','07','08','09','10','11') and upper(substring(Violation_Time,-1))='A' then '06.00AM - 12.00AM' when substring(Violation_Time,1,2) in ('12','00','01','02','03','04','05') and upper(substring(Violation_Time,-1))='P' then '12.00PM - 06.00PM' when substring(Violation_Time,1,2) in ('06','07','08','09','10','11') and upper(substring(Violation_Time,-1))='P' then '06.00PM - 12.00PM' else null end as Violation_Time_bin from parkingtable2017 where Violation_Time is not null or (length(Violation_Time)=5 and upper(substring(Violation_Time,-1)) in ('A','P') and substring(Violation_Time,1,2) in ('00','01','02','03','04','05','06','07', '08','09','10','11','12'))\")\n",
        "parkingtable2016=spark.sql(\"SELECT Issue_Date, year(from_unixtime(unix_timestamp(Issue_Date, 'MM/dd/yyy'))) as year, month(from_unixtime(unix_timestamp(Issue_Date, 'MM/dd/yyy'))) as month, day(from_unixtime(unix_timestamp(Issue_Date, 'MM/dd/yyy'))) as day,Violation_Location, Violation_Code , case when substring(Violation_Time,1,2) in ('00','01','02','03','04','05','12') and upper(substring(Violation_Time,-1))='A' then '12.00AM - 06.00AM' when substring(Violation_Time,1,2) in ('06','07','08','09','10','11') and upper(substring(Violation_Time,-1))='A' then '06.00AM - 12.00AM' when substring(Violation_Time,1,2) in ('12','00','01','02','03','04','05') and upper(substring(Violation_Time,-1))='P' then '12.00PM - 06.00PM' when substring(Violation_Time,1,2) in ('06','07','08','09','10','11') and upper(substring(Violation_Time,-1))='P' then '06.00PM - 12.00PM' else null end as Violation_Time_bin from parkingtable2016 where Violation_Time is not null or (length(Violation_Time)=5 and upper(substring(Violation_Time,-1)) in ('A','P') and substring(Violation_Time,1,2) in ('00','01','02','03','04','05','06','07', '08','09','10','11','12'))\")\n",
        "parkingtable2015=spark.sql(\"SELECT Issue_Date, year(from_unixtime(unix_timestamp(Issue_Date, 'MM/dd/yyy'))) as year, month(from_unixtime(unix_timestamp(Issue_Date, 'MM/dd/yyy'))) as month, day(from_unixtime(unix_timestamp(Issue_Date, 'MM/dd/yyy'))) as day,Violation_Location, Violation_Code , case when substring(Violation_Time,1,2) in ('00','01','02','03','04','05','12') and upper(substring(Violation_Time,-1))='A' then '12.00AM - 06.00AM' when substring(Violation_Time,1,2) in ('06','07','08','09','10','11') and upper(substring(Violation_Time,-1))='A' then '06.00AM - 12.00AM' when substring(Violation_Time,1,2) in ('12','00','01','02','03','04','05') and upper(substring(Violation_Time,-1))='P' then '12.00PM - 06.00PM' when substring(Violation_Time,1,2) in ('06','07','08','09','10','11') and upper(substring(Violation_Time,-1))='P' then '06.00PM - 12.00PM' else null end as Violation_Time_bin from parkingtable2015 where Violation_Time is not null or (length(Violation_Time)=5 and upper(substring(Violation_Time,-1)) in ('A','P') and substring(Violation_Time,1,2) in ('00','01','02','03','04','05','06','07', '08','09','10','11','12'))\")\n",
        "parkingtable2014=spark.sql(\"SELECT Issue_Date, year(from_unixtime(unix_timestamp(Issue_Date, 'MM/dd/yyy'))) as year, month(from_unixtime(unix_timestamp(Issue_Date, 'MM/dd/yyy'))) as month, day(from_unixtime(unix_timestamp(Issue_Date, 'MM/dd/yyy'))) as day,Violation_Location, Violation_Code , case when substring(Violation_Time,1,2) in ('00','01','02','03','04','05','12') and upper(substring(Violation_Time,-1))='A' then '12.00AM - 06.00AM' when substring(Violation_Time,1,2) in ('06','07','08','09','10','11') and upper(substring(Violation_Time,-1))='A' then '06.00AM - 12.00AM' when substring(Violation_Time,1,2) in ('12','00','01','02','03','04','05') and upper(substring(Violation_Time,-1))='P' then '12.00PM - 06.00PM' when substring(Violation_Time,1,2) in ('06','07','08','09','10','11') and upper(substring(Violation_Time,-1))='P' then '06.00PM - 12.00PM' else null end as Violation_Time_bin from parkingtable2014 where Violation_Time is not null or (length(Violation_Time)=5 and upper(substring(Violation_Time,-1)) in ('A','P') and substring(Violation_Time,1,2) in ('00','01','02','03','04','05','06','07', '08','09','10','11','12'))\")"
      ],
      "execution_count": null,
      "outputs": []
    },
    {
      "cell_type": "code",
      "metadata": {
        "colab": {
          "base_uri": "https://localhost:8080/"
        },
        "id": "ZaNwaA09f-0-",
        "outputId": "0b06eba8-b6a5-4435-f7ef-0c15ae4e935a"
      },
      "source": [
        "combinedparkingtable = parkingtable2017.union(parkingtable2016).union(parkingtable2015).union(parkingtable2014)\n",
        "combinedparkingtable.show()"
      ],
      "execution_count": null,
      "outputs": [
        {
          "output_type": "stream",
          "text": [
            "+----------+----+-----+---+------------------+--------------+------------------+\n",
            "|Issue_Date|year|month|day|Violation_Location|Violation_Code|Violation_Time_bin|\n",
            "+----------+----+-----+---+------------------+--------------+------------------+\n",
            "|07/10/2016|2016|    7| 10|              null|             7| 12.00AM - 06.00AM|\n",
            "|07/08/2016|2016|    7|  8|              null|             7| 12.00PM - 06.00PM|\n",
            "|08/23/2016|2016|    8| 23|              null|             5| 12.00PM - 06.00PM|\n",
            "|06/14/2017|2017|    6| 14|                14|            47| 06.00AM - 12.00AM|\n",
            "|11/21/2016|2016|   11| 21|                13|            69| 12.00PM - 06.00PM|\n",
            "|06/13/2017|2017|    6| 13|              null|             7| 06.00PM - 12.00PM|\n",
            "|08/03/2016|2016|    8|  3|                71|            40| 12.00AM - 06.00AM|\n",
            "|12/21/2016|2016|   12| 21|              null|            36| 06.00AM - 12.00AM|\n",
            "|11/21/2016|2016|   11| 21|              null|            36| 06.00AM - 12.00AM|\n",
            "|10/05/2016|2016|   10|  5|              null|             5| 06.00AM - 12.00AM|\n",
            "|01/11/2017|2017|    1| 11|               106|            78| 12.00AM - 06.00AM|\n",
            "|09/27/2016|2016|    9| 27|                18|            19| 06.00AM - 12.00AM|\n",
            "|10/27/2016|2016|   10| 27|              null|            36| 06.00AM - 12.00AM|\n",
            "|09/30/2016|2016|    9| 30|                44|            21| 06.00AM - 12.00AM|\n",
            "|02/04/2017|2017|    2|  4|                73|            40| 12.00AM - 06.00AM|\n",
            "|07/07/2016|2016|    7|  7|               120|            71| 06.00PM - 12.00PM|\n",
            "|09/24/2016|2016|    9| 24|              null|             7| 06.00AM - 12.00AM|\n",
            "|01/26/2017|2017|    1| 26|                17|            64| 12.00PM - 06.00PM|\n",
            "|04/30/2017|2017|    4| 30|                17|            20| 12.00AM - 06.00AM|\n",
            "|02/03/2017|2017|    2|  3|              null|            36| 06.00AM - 12.00AM|\n",
            "+----------+----+-----+---+------------------+--------------+------------------+\n",
            "only showing top 20 rows\n",
            "\n"
          ],
          "name": "stdout"
        }
      ]
    },
    {
      "cell_type": "code",
      "metadata": {
        "colab": {
          "base_uri": "https://localhost:8080/"
        },
        "id": "iSLNDLTYh2wg",
        "outputId": "eafb5d77-db8d-4325-ab01-93b50ef15f0b"
      },
      "source": [
        "combinedparkingtable.count()"
      ],
      "execution_count": null,
      "outputs": [
        {
          "output_type": "execute_result",
          "data": {
            "text/plain": [
              "42331306"
            ]
          },
          "metadata": {
            "tags": []
          },
          "execution_count": 26
        }
      ]
    },
    {
      "cell_type": "code",
      "metadata": {
        "id": "1isFtO2WfkgX"
      },
      "source": [
        "combinedparkingtable=combinedparkingtable.dropna()"
      ],
      "execution_count": null,
      "outputs": []
    },
    {
      "cell_type": "code",
      "metadata": {
        "colab": {
          "base_uri": "https://localhost:8080/"
        },
        "id": "A381noxpjBc0",
        "outputId": "9235457a-3d10-49f4-fae7-e92c61ec957b"
      },
      "source": [
        "#After Removing Null\n",
        "combinedparkingtable.count()"
      ],
      "execution_count": null,
      "outputs": [
        {
          "output_type": "execute_result",
          "data": {
            "text/plain": [
              "35923744"
            ]
          },
          "metadata": {
            "tags": []
          },
          "execution_count": 28
        }
      ]
    },
    {
      "cell_type": "code",
      "metadata": {
        "id": "f58v9kGymci3"
      },
      "source": [
        "combinedparkingtable.createOrReplaceTempView(\"combinedparkingtableView\")"
      ],
      "execution_count": null,
      "outputs": []
    },
    {
      "cell_type": "markdown",
      "metadata": {
        "id": "g2Kez0TvYdG3"
      },
      "source": [
        "#### 10. Predict probability of causing parking violations which can be occurred in particular locations for particular months."
      ]
    },
    {
      "cell_type": "markdown",
      "metadata": {
        "id": "pv4CKGL73gGm"
      },
      "source": [
        "### By using Linear Regression"
      ]
    },
    {
      "cell_type": "code",
      "metadata": {
        "id": "TVvbV4_vYBXA"
      },
      "source": [
        "data_Freq = spark.sql(\"select year, month,Violation_Location, Violation_Code , count(*) as frequency from combinedparkingtableView where year >= 2014 Group by year,month,Violation_Location, Violation_Code \")\n",
        "data_month_total_Freq = spark.sql(\"select year, month,Violation_Location, count(*) as month_frequency from combinedparkingtableView  where year >= 2014  Group by year,month,Violation_Location \")"
      ],
      "execution_count": null,
      "outputs": []
    },
    {
      "cell_type": "code",
      "metadata": {
        "colab": {
          "base_uri": "https://localhost:8080/"
        },
        "id": "MeKFtGvQmRqK",
        "outputId": "88b6f47b-559a-4854-8536-798d4c7be619"
      },
      "source": [
        "data_Freq.show()"
      ],
      "execution_count": null,
      "outputs": [
        {
          "output_type": "stream",
          "text": [
            "+----+-----+------------------+--------------+---------+\n",
            "|year|month|Violation_Location|Violation_Code|frequency|\n",
            "+----+-----+------------------+--------------+---------+\n",
            "|2017|    2|                83|            38|      559|\n",
            "|2016|    9|                94|            20|      678|\n",
            "|2016|   10|                68|            37|     1074|\n",
            "|2017|    3|                62|            21|     3471|\n",
            "|2016|   12|                 1|            17|      782|\n",
            "|2017|    4|                13|            37|     1479|\n",
            "|2016|   12|               103|            21|     1822|\n",
            "|2017|    6|                67|            71|      549|\n",
            "|2017|    1|                34|            19|      235|\n",
            "|2016|   12|                 7|            19|      190|\n",
            "|2016|    9|                 6|            19|      182|\n",
            "|2016|   11|                 5|            20|     1795|\n",
            "|2016|    9|                24|            71|      405|\n",
            "|2017|    3|                75|            38|      131|\n",
            "|2017|    6|                26|            70|       96|\n",
            "|2016|    8|                24|            21|     1600|\n",
            "|2017|    3|               101|            21|      458|\n",
            "|2016|    7|                 7|            14|      871|\n",
            "|2017|    6|                10|            16|      411|\n",
            "|2016|   11|                 6|            46|      597|\n",
            "+----+-----+------------------+--------------+---------+\n",
            "only showing top 20 rows\n",
            "\n"
          ],
          "name": "stdout"
        }
      ]
    },
    {
      "cell_type": "code",
      "metadata": {
        "colab": {
          "base_uri": "https://localhost:8080/"
        },
        "id": "5LbfeRCJmrJ0",
        "outputId": "6a1cdb8c-0866-41b3-9328-ee1c817ec9c4"
      },
      "source": [
        "data_month_total_Freq.show()"
      ],
      "execution_count": null,
      "outputs": [
        {
          "output_type": "stream",
          "text": [
            "+----+-----+------------------+---------------+\n",
            "|year|month|Violation_Location|month_frequency|\n",
            "+----+-----+------------------+---------------+\n",
            "|2017|    5|                84|          15267|\n",
            "|2016|   12|                66|          12696|\n",
            "|2017|    1|                 2|             17|\n",
            "|2016|    9|                45|           6022|\n",
            "|2017|    1|                 8|             12|\n",
            "|2017|    3|                65|              4|\n",
            "|2017|    6|                89|              4|\n",
            "|2017|    4|                11|              3|\n",
            "|2016|    8|               126|              1|\n",
            "|2017|    3|                91|              5|\n",
            "|2014|    2|                10|          10231|\n",
            "|2014|    4|               112|          15309|\n",
            "|2014|   12|                17|          15064|\n",
            "|2015|    6|               114|          32715|\n",
            "|2015|    7|               104|           9187|\n",
            "|2015|    9|                42|           2776|\n",
            "|2016|    6|               102|           5140|\n",
            "|2017|    9|                73|              6|\n",
            "|2017|   11|                47|              6|\n",
            "|2018|    4|               105|              2|\n",
            "+----+-----+------------------+---------------+\n",
            "only showing top 20 rows\n",
            "\n"
          ],
          "name": "stdout"
        }
      ]
    },
    {
      "cell_type": "code",
      "metadata": {
        "id": "USfOCSecmt2c"
      },
      "source": [
        "import pyspark.sql.functions as F\n",
        "data_with_probability = data_Freq.join(data_month_total_Freq, (data_Freq.Violation_Location == data_month_total_Freq.Violation_Location) & (data_Freq.year == data_month_total_Freq.year)& (data_Freq.month == data_month_total_Freq.month))\\\n",
        "    .withColumn(\"violation_Probability\", (F.col(\"frequency\") / F.col(\"month_frequency\")))\\\n",
        "    .drop(data_month_total_Freq.month_frequency).drop(data_Freq.frequency).drop(data_month_total_Freq.Violation_Location).drop(data_month_total_Freq.year).drop(data_month_total_Freq.month)"
      ],
      "execution_count": null,
      "outputs": []
    },
    {
      "cell_type": "code",
      "metadata": {
        "colab": {
          "base_uri": "https://localhost:8080/"
        },
        "id": "TfJ-E9-Gqula",
        "outputId": "f62ad545-c733-4a44-f531-2f5fe83a22ce"
      },
      "source": [
        "data_with_probability.show()"
      ],
      "execution_count": null,
      "outputs": [
        {
          "output_type": "stream",
          "text": [
            "+--------------+----+-----+------------------+---------------------+\n",
            "|Violation_Code|year|month|Violation_Location|violation_Probability|\n",
            "+--------------+----+-----+------------------+---------------------+\n",
            "|            11|2014|    2|                10| 2.932264685758968E-4|\n",
            "|            17|2014|    2|                10| 0.017202619489785943|\n",
            "|            31|2014|    2|                10|  0.03147297429381292|\n",
            "|            39|2014|    2|                10|  9.77421561919656E-5|\n",
            "|            60|2014|    2|                10| 0.001270648030495...|\n",
            "|            27|2014|    2|                10|  9.77421561919656E-5|\n",
            "|            15|2014|    2|                10|  9.77421561919656E-5|\n",
            "|            16|2014|    2|                10|  0.07320887498778222|\n",
            "|            19|2014|    2|                10|  0.02551070276610302|\n",
            "|            35|2014|    2|                10| 0.002052585280031...|\n",
            "|            66|2014|    2|                10| 8.796794057276903E-4|\n",
            "|            82|2014|    2|                10| 0.004789365653406314|\n",
            "|            41|2014|    2|                10| 3.909686247678624E-4|\n",
            "|            38|2014|    2|                10|  0.09930603069103705|\n",
            "|            21|2014|    2|                10|  0.01905972045743329|\n",
            "|             8|2014|    2|                10| 7.819372495357248E-4|\n",
            "|            64|2014|    2|                10| 7.819372495357248E-4|\n",
            "|            37|2014|    2|                10|   0.0667578926791125|\n",
            "|            71|2014|    2|                10| 0.022676180236536017|\n",
            "|            46|2014|    2|                10|  0.05190108493793373|\n",
            "+--------------+----+-----+------------------+---------------------+\n",
            "only showing top 20 rows\n",
            "\n"
          ],
          "name": "stdout"
        }
      ]
    },
    {
      "cell_type": "code",
      "metadata": {
        "colab": {
          "base_uri": "https://localhost:8080/"
        },
        "id": "GrambTEXq_Ts",
        "outputId": "f9d730ae-d431-4575-d0e7-3bdcb4a872fa"
      },
      "source": [
        "data_with_probability.count()"
      ],
      "execution_count": null,
      "outputs": [
        {
          "output_type": "execute_result",
          "data": {
            "text/plain": [
              "158273"
            ]
          },
          "metadata": {
            "tags": []
          },
          "execution_count": 35
        }
      ]
    },
    {
      "cell_type": "code",
      "metadata": {
        "id": "MajFFPForHFt"
      },
      "source": [
        "from pyspark.ml.feature import OneHotEncoder\n",
        "onehotencoder_qualification_vector = OneHotEncoder(inputCol=\"month\", outputCol=\"month_one\")\n",
        "df11 = onehotencoder_qualification_vector.fit(data_with_probability).transform(data_with_probability)\n",
        "\n",
        "onehotencoder_qualification_vector = OneHotEncoder(inputCol=\"Violation_Location\", outputCol=\"Violation_Location_one\")\n",
        "df12 = onehotencoder_qualification_vector.fit(df11).transform(df11)\n",
        "\n",
        "onehotencoder_qualification_vector = OneHotEncoder(inputCol=\"Violation_Code\", outputCol=\"Violation_Code_one\")\n",
        "df13 = onehotencoder_qualification_vector.fit(df12).transform(df12)"
      ],
      "execution_count": null,
      "outputs": []
    },
    {
      "cell_type": "code",
      "metadata": {
        "colab": {
          "base_uri": "https://localhost:8080/"
        },
        "id": "zldzw6zV_fsV",
        "outputId": "ce020d99-6d5c-4f56-af5e-f888a84d7bd4"
      },
      "source": [
        "# Assemble all the features with VectorAssembler\n",
        "required_features = ['year','month_one','Violation_Location_one','Violation_Code_one']\n",
        "\n",
        "from pyspark.ml.feature import VectorAssembler\n",
        "\n",
        "numericCols = [] #['violation_Probability']\n",
        "assemblerInputs = [c  for c in required_features] + numericCols\n",
        "assembler = VectorAssembler(inputCols=assemblerInputs, outputCol='features')\n",
        "\n",
        "transformed_data = assembler.transform(df13)\n",
        "transformed_data.show(5)"
      ],
      "execution_count": null,
      "outputs": [
        {
          "output_type": "stream",
          "text": [
            "+--------------+----+-----+------------------+---------------------+--------------+----------------------+------------------+--------------------+\n",
            "|Violation_Code|year|month|Violation_Location|violation_Probability|     month_one|Violation_Location_one|Violation_Code_one|            features|\n",
            "+--------------+----+-----+------------------+---------------------+--------------+----------------------+------------------+--------------------+\n",
            "|            11|2014|    2|                10| 2.932264685758968E-4|(12,[2],[1.0])|      (994,[10],[1.0])|   (99,[11],[1.0])|(1106,[0,3,23,101...|\n",
            "|            17|2014|    2|                10| 0.017202619489785943|(12,[2],[1.0])|      (994,[10],[1.0])|   (99,[17],[1.0])|(1106,[0,3,23,102...|\n",
            "|            31|2014|    2|                10|  0.03147297429381292|(12,[2],[1.0])|      (994,[10],[1.0])|   (99,[31],[1.0])|(1106,[0,3,23,103...|\n",
            "|            39|2014|    2|                10|  9.77421561919656E-5|(12,[2],[1.0])|      (994,[10],[1.0])|   (99,[39],[1.0])|(1106,[0,3,23,104...|\n",
            "|            60|2014|    2|                10| 0.001270648030495...|(12,[2],[1.0])|      (994,[10],[1.0])|   (99,[60],[1.0])|(1106,[0,3,23,106...|\n",
            "+--------------+----+-----+------------------+---------------------+--------------+----------------------+------------------+--------------------+\n",
            "only showing top 5 rows\n",
            "\n"
          ],
          "name": "stdout"
        }
      ]
    },
    {
      "cell_type": "code",
      "metadata": {
        "colab": {
          "base_uri": "https://localhost:8080/"
        },
        "id": "bMD4qv-Z_rV-",
        "outputId": "b1d22175-8694-4859-b1ef-97dfe0525b95"
      },
      "source": [
        "# Split the data\n",
        "(training_data, test_data) = transformed_data.randomSplit([0.8,0.2], seed =2020)\n",
        "print(\"Training Dataset Count: \" + str(training_data.count()))\n",
        "print(\"Test Dataset Count: \" + str(test_data.count()))"
      ],
      "execution_count": null,
      "outputs": [
        {
          "output_type": "stream",
          "text": [
            "Training Dataset Count: 126511\n",
            "Test Dataset Count: 31762\n"
          ],
          "name": "stdout"
        }
      ]
    },
    {
      "cell_type": "code",
      "metadata": {
        "colab": {
          "base_uri": "https://localhost:8080/"
        },
        "id": "CynJZ6mu_zvN",
        "outputId": "265b862b-7d3c-4395-a6fd-e5c11f8667e9"
      },
      "source": [
        "from pyspark.ml.regression import LinearRegression\n",
        "lr = LinearRegression(featuresCol = 'features', labelCol='violation_Probability')\n",
        "lr_model = lr.fit(training_data)\n",
        "print(\"Coefficients: \" + str(lr_model.coefficients))\n",
        "print(\"Intercept: \" + str(lr_model.intercept))"
      ],
      "execution_count": null,
      "outputs": [
        {
          "output_type": "stream",
          "text": [
            "Coefficients: [0.028870992339478097,0.0,-0.020936825338578702,-0.024227021267414207,-0.022382864164961783,-0.021412116787549056,-0.02096899363862236,-0.02016466723333594,-0.0028476993198519713,-0.002435256111138661,-0.00038656007262852156,-0.0005464927978127994,-0.002341127527137037,0.0,-0.9211909432278695,-0.8615861128424315,-0.8307661360518022,-0.8654730315925957,-0.9177695570294054,-0.9208483357220285,-0.9186840894121396,-0.8484228805645418,-0.9188803656399186,-0.9219094611907234,-0.8198700775337303,-0.8592297498868514,-0.9210017851903308,-0.9190718509186577,-0.8518196761301084,-0.8461118102762423,-0.9194497271230572,-0.9214698863842811,-0.9190576927970244,-0.9194260296646576,-0.7489064255788859,-0.9196503599409453,-0.9186777093993928,-0.9164372797868663,-0.9163474158746235,-0.915733943334511,-0.8529920996807764,-0.9180902173899121,-0.754146920841132,-0.9179492196981351,-0.5515045759598152,-0.9126367057936822,-0.9157072307130186,-0.9177841776732907,-0.5553363007951596,-0.6998096041409518,-0.6787259726298231,-0.49278274755535517,-0.6153507611380737,-0.9162919210102991,-0.9194075244681609,-0.9193928915799535,-0.9154539819526827,-0.9171221554064547,-0.9161738688291526,-0.9170806805811355,-0.9183973144083188,-0.9218260985764488,-0.9163787401342987,-0.9203321075815534,-0.4408595024029398,-0.9153212524123324,-0.630948185288413,-0.5695737370934523,-0.2958120815750121,-0.4974438065763362,-0.5906099139300695,-0.33123365807268823,-0.3068259673343025,-0.9191097461450964,-0.9183809467186275,-0.9178937253046127,-0.9179391607926581,-0.7475521913022188,-0.7868779482519592,-0.9172854807749828,-0.91737528290831,-0.9171733581764164,-0.9187375476477526,-0.9175277080731377,-0.9191697599515796,-0.9168482246680283,-0.9188104776237063,-0.7983838116194527,-0.9154298893768085,-0.9132970557218347,-0.9133061819415912,-0.9166786517525048,-0.9136676689663761,-0.7497716420040405,-0.9165242507991572,-0.7151314727845625,-0.9197711934880352,-0.9153308384157822,-0.6723525596297566,-0.6360489166999621,-0.8040463186870431,-0.9183029854073671,-0.7915945358089534,-0.9202536399023382,-0.4602129392985218,-0.44607285633865823,-0.4994698529888768,-0.9195528014239283,-0.4172778589774221,-0.7614074999606759,-0.538348493235577,-0.6501519725980206,-0.625524274690678,-0.9193471924312826,-0.918581619388627,-0.9187348812219485,-0.9173319185217178,-0.9196193183985067,-0.9161323519535751,-0.916951900487828,-0.9170674079718211,-0.9187761227435006,-0.91707944494952,-0.9198206979417569,-0.9178176296216709,-0.9150928036741806,-0.9190468404324763,-0.9181628371407199,-0.9208240535325477,-0.7729146982455675,-0.6710734311893769,-0.7195095619737153,-0.6639317556435732,-0.9176231358972925,-0.914944963755619,-0.9169732358450288,-0.914937736964039,-0.4024712065760562,-0.1995124016651112,-0.4067517737339821,-0.37185078448840314,-0.24745638398500516,0.007481506997493039,-0.012828839877206531,0.059559901362079136,-0.32149471376328925,0.050471650850636304,-0.02363745373441843,-0.009386050243370673,-0.7289460626909406,0.054184587332994416,-0.05372728453747832,0.0,-0.1415695540303934,-0.03704309329208745,-0.19281278147604342,-0.18843686133541304,-0.20065949478056538,0.00022976763248863387,-0.1411768853621771,0.0,0.06215592023535453,-0.08296737212417556,-0.0527590517738668,0.06406627272723053,-0.17202071347113168,0.0,0.0,-0.014145938017509609,0.12067217750213226,0.0,0.0,0.0,-0.08320874996619095,-0.27121689703507024,-0.078163784798038,-0.5351513895490893,-0.2965024570742657,-0.36729244538868094,-0.2946298803845574,0.005828788268840865,-0.01732911908859445,0.06897579434597492,-0.3538985708791235,-0.20607907948100876,-0.14671437782545466,-0.026962941109146335,-0.03956971903485893,0.03400979563984993,-0.03669639448890351,-0.20401450348465847,-0.010464037399466799,-0.157125828113517,-0.18330309329674785,-0.02459782285378197,-0.044318864112043985,-0.07776232962729128,0.038172371509413945,0.0,0.0,0.11158361081328806,-0.16259366182637222,0.0,-0.0014850772307458604,0.0,0.0,-0.043849537873176095,-0.13513647306982954,0.0,0.0,0.06574731743911377,0.0,0.03890569059456459,-0.18447991338995492,-0.1417901792676324,-0.003291535525224063,-0.06062199681136953,-0.12668794944272863,-0.17805323434577167,-0.18689433348733103,0.06362665493290798,-0.01037670888352362,-0.1320891555143329,-0.2083142801604281,0.04729450897182777,-0.34442681037835177,0.04100993846741873,-0.013229702710283857,-0.013229702710283857,0.0,-0.31119579897827254,0.06217292856689531,0.005133845455229799,-0.037638967281953276,0.0,0.0,-0.36090810231023907,-0.24822582499694007,-0.5421246047373343,0.030077994785241414,0.07694511834292884,-0.5523812463842654,0.0,-0.19327840649500858,0.0,0.10411347851150667,-0.1430406329912436,-0.07628589535336937,0.0,0.0,0.0,0.0,0.0,-0.10626546440667253,-0.03912659602827917,0.017100555235093167,-0.04046415480642383,-0.014394730325356268,-0.10626546440667253,-0.27244007714428775,0.03370189420127388,-0.3020901546008057,0.09381399327029957,-0.015447855448882416,0.0,0.03697379900834642,0.0,0.0,0.0,0.0,0.0,0.0,0.0,-0.1821287185859051,-0.05207447161382202,-0.062139452670546255,-0.2451962280557277,0.0,0.0,-0.10626546440667253,-0.02361121347814751,-0.10904733666562673,-0.013229702710283857,0.0012344186992361548,0.028143998303459018,-0.2003580635831663,-0.09311154235016193,-0.12684786600444575,0.023154078212913674,-0.003208278924970286,0.05516266874385833,0.0,0.00843889983026215,0.08564335734801594,-0.32485861059646126,0.0,0.02685796472367708,-0.014200399610330677,0.0,0.0,0.01693213219611668,0.0,0.0,0.0,0.0,0.0,0.0,0.0,0.0,0.0,0.0,0.0,0.0,0.01931719137534363,-0.1615642064227466,-0.014481526159121459,-0.015609253172589883,0.0646364575733573,-0.277425001870242,-0.007149691981110311,-0.015897269206745123,0.0756221833165439,-0.014200399610330677,0.0865711081374678,-0.1561053911237585,-0.02923241092073114,-0.039601902423210315,-0.3169554186117968,0.0,0.0,-0.04260448298454419,-0.32358780427558415,0.06671368913598313,0.0,0.0,0.0,-0.5007192939167636,0.0,-0.1561053911237585,-0.06847291108637424,0.0,0.03540689945515226,0.06932338592911712,-0.21455340006183024,0.07375455839364808,-0.6645976114985328,-0.16001861043693974,0.0,0.0,0.0,0.0,0.0,0.0,0.0,0.0,-0.013229702710283857,0.07005349093508319,0.0,-0.010730893760031234,0.0,-0.01456606551385763,0.0,0.0,0.017367965459501505,0.0,0.0035229879506947616,0.0,0.0,0.0,0.0,0.0,0.0,0.0,0.0,0.0,-0.10485164450004407,0.0,0.0,-0.005518825614131365,-0.06752737616554923,0.07608462555322275,0.021106244915385743,0.0,0.0,-0.04513029173005928,-0.11197209129386732,0.0,0.0,0.03119624029429334,0.0,0.08830096706410162,0.03383999990883799,0.0,0.0,-0.45803298815617133,0.0,-0.37738388564759884,0.0,0.0,0.0,0.0,0.017438742248818615,0.0,0.005801582438165151,0.0,0.0,0.0,0.0,0.0,0.0,-0.1247991649557272,0.0,0.0,0.02219495235799397,-0.25023951807981487,-0.24331136945852208,-0.17672469192631216,-0.01782871489207617,-0.46521059587968866,-0.5253782381848897,-0.1356455609035982,-0.19664761900092242,-0.17660296762109218,-0.3596030236082449,-0.3384005681178432,-0.034274667932295604,0.0015024813311289597,-0.41883119249163875,-0.600628938662842,0.0,-0.26140955315185227,-0.2921281433387872,-0.40428941574268323,-0.3342454620611279,0.00010067223987375084,-0.009397679874068013,-0.26256672713923596,-0.37474828131363147,-0.1899962277274753,-0.17857318785806622,-0.013229702710283857,-0.39917897270319114,0.0,-0.09565956882214294,0.0,-0.31293934658929584,-0.33104353117051394,-0.013581248297652568,0.0,0.09217038664254822,0.0,0.0,0.0,-0.3406483531908907,-0.5082742683441903,-0.4431507385611229,-0.28732616169326364,0.0339909776142685,0.018835697125399814,-0.21979906161960208,-0.4530274941151485,-0.38702297091633214,0.014276391742606658,-0.21379991135076057,0.0,-0.4251752947446407,0.0,0.0,-0.00744073683578959,-0.06393701631612819,-0.06912756640735503,0.0,0.0,-0.13372265316715246,-0.038343557582751264,-0.15270746340435173,-0.18137595047484611,0.0745588912256246,-0.06943360845958768,-0.42324445014220685,-0.23973862640040544,-0.46419725003368933,-0.506856944288271,-0.41989748758936296,-0.4128183976950862,-0.32887361802911275,-0.33774674634664187,0.0,-0.27775813402825766,-0.23076488903561593,-0.4585235696941874,-0.14183525744537565,0.016233227498469328,0.06992329563881791,-0.5341244575353128,-0.03506740772155203,-0.5942632946151475,-0.4869453866351565,0.03242618000221347,0.0,0.001191377960277506,0.0,-0.0402565577441815,-0.03954211020965188,-0.02923241092073114,-0.010925328390809744,-0.13187849953393407,-0.02881994722458631,0.0,0.0,0.0,0.0,0.0,-0.3143392280544267,0.009206071743990504,-0.12668794944272863,-0.07614670687057644,0.0,0.09172416505416213,-0.07070696576494313,-0.1723835835887223,0.0,-0.005956672091213394,0.08369863796196098,0.0,-0.013229702710283857,0.0,-0.03912659602827917,0.0,0.0,0.0,-0.8172791743701385,0.03881795263761274,0.0,0.0,0.0,0.0,0.07338569229698264,-0.04210071137344639,0.0,0.0,0.0,0.07338569229698264,0.0,0.0,0.006813144874940446,0.0,-0.329828529724677,0.0,0.0,-0.04210071137344639,0.0,0.0,-0.044318864112043985,-0.1537643199754368,0.0,0.0,0.028366683175041364,0.0,0.0,0.0,-0.014200399610330677,0.11202673381987215,0.014725070645649548,0.0,0.0,0.0,0.0,0.0,0.0,0.0,0.0,0.0,0.040899476607903475,0.0,0.0,0.0,0.0,0.0,0.029502942712126185,0.0,0.0,0.0,0.015137534341791064,0.0,-0.10626546440667253,0.0,0.0,0.0,-0.013733474321372636,0.0,0.0,0.0,0.0,-0.06800486169669974,0.0,0.08936004233668668,0.11451436601117398,0.0,0.0,0.0,0.0,0.0,0.0,0.0,0.0,0.0,0.0,0.0,0.0,0.0,0.0,0.0,-0.11553458139070448,-0.19411858776316965,0.0025682654199638546,0.042946661999442796,0.0,0.00836755143366445,-0.27588001825389974,-0.017242511898740404,-0.04257198469896848,-0.04487616377163883,0.10207775223064422,0.08087749057134169,0.0,-0.11754783690719862,0.0343374431685558,0.0,0.0,0.05833045919583131,-0.03612157854080991,-0.012385645021482419,-0.16122937736968526,5.106143857444364e-05,0.047626080586217576,-0.050739616460819904,-0.13190379923831114,-0.02627911206864371,0.02999772072471168,-0.07241772333160063,-0.1578373405155913,0.0,-0.05277302608065697,0.0,0.00788606594833714,-0.01464352261690998,0.07464985408623127,0.0,0.0,0.0,-0.0003614022575743792,0.0,0.0,0.0,-0.0015088923517908872,0.07403592450450373,0.11673485818518924,-0.1561053911237585,-0.024227813475013713,-0.02127813000423597,0.0,0.012818656898107583,0.09346237396038996,0.0,0.1056178710850289,0.0,0.0,0.0,0.0,0.0,0.0,0.0,0.0,-0.07358356488060722,0.07942887233201155,0.06212999020209641,0.0,0.08087749057134169,-0.2906617142231242,-0.004995212670217989,0.01633379224476734,0.02334060291632409,-0.014463837410016769,-0.06669255445132014,-0.4378697908050473,-0.08762537711821902,0.0,-0.4215377270824466,-0.31803818101057674,0.0,0.06487411077146045,-0.034645832702246755,0.0,-0.024827796698348777,0.0,-0.04714462407803702,-0.03276475946981046,0.106865326923584,-0.24769620118966998,-0.06409693287784089,0.00013559785990607633,-0.04210071137344639,0.01414833103741393,0.0,0.0,0.0,-0.10485164450004407,0.056131998729632405,0.0,-0.062048231829119005,0.0,0.0,0.012714283082226205,-0.45819804804773556,-0.08355221188294149,0.011457261948283236,0.0,0.09603094298215432,-0.00744073683578959,-0.04117960925407079,0.008158418477107287,0.06005083942527666,0.08369863796196098,-0.1399034610749746,0.0,-0.10485164450004407,-0.003330314685190992,0.07462961410031442,-0.013733474321372636,-0.0402565577441815,-0.3175749853356157,-0.03766128271061017,0.10041254733088137,0.02473712998110063,-0.07097172003661492,-0.028750340000131422,0.0,-0.013440060940514564,-0.033271369522517066,0.0,0.0,0.0,0.07590769167639876,0.0,0.05892334834823906,0.0,-0.013715051170663836,0.0,0.0,0.0,0.0,0.0,0.031367636522873894,0.0,0.030312000049884318,0.0,-0.013229702710283857,0.0,0.0,0.0025545310112026318,0.0,0.0,0.06399870393605525,0.0,-0.12684786600444575,-0.02534802071247974,0.0,0.0,0.0,0.0,-0.0027966197624451775,-0.06163576813297347,-0.022039328653242908,-0.5590406649681219,-0.12668794944272863,-0.1537643199754368,0.0,0.0,-0.1247991649557272,-0.09091924049229753,-0.01138554908101897,0.00496899124567377,-0.08863468392204803,-0.6255330219862837,-0.1351364730723911,-0.023482870128136442,0.0,0.0,-0.25437927089248846,-0.15341418219525307,0.0,0.0,0.0,-0.014200399610330677,-0.10345626297676161,0.05080834958077676,0.0011476449412312151,0.0,0.0,0.0,0.0,0.0,0.06487411077146045,0.0,0.0,0.0,0.0,0.0,0.0,0.0,0.0,0.0,0.0,0.038152097647848805,-0.2629463163727554,-0.4689804088313365,-0.3723722107183861,-0.2803157388840458,-0.229042866835447,-0.14194373067938285,-0.14368105586079039,0.029711280255584168,0.0,0.06982498557715318,0.06584480767150794,-0.0843943304161218,0.09173750307747504,0.0,0.0,0.0,0.0038483987450054873,-0.016522087625886413,0.0,0.0,0.0,0.0022351137927891186,0.07500201423219854,-0.0402565577441815,0.0,-0.017361962872889544,0.0,0.0,0.03424928352531746,-0.12723438246059673,0.06584480767150794,0.0,0.06487411077146045,0.0,0.0,0.0,0.0,0.0,0.0,0.0,-0.07318987277521731,-0.1070697972386428,0.0,-0.009261564247311732,0.0,0.0,0.0,0.0,0.11299743071992334,0.0,-0.1247991649557272,0.08412642205675566,0.0,0.0,0.0,0.0,0.0,0.0,-0.03618664433688093,0.03467259110132868,0.0,0.0,0.02773629646140093,0.0,-0.033271369522517066,-0.05849640874938261,-0.015447855448882416,0.0,-0.03128111196945858,0.0,0.0,0.0,0.0,0.0,0.02582220402418752,-0.02612017015610171,0.0,0.0,0.0,-0.3703073191761037,0.0,-0.47503332119365715,0.021469361086995042,0.0,0.0,-0.12723438246059673,0.08530866303587896,0.0,0.0,0.0854783137877334,0.0,0.0,0.0,0.0,0.09669319137295325,0.0,0.0,0.0,0.0,0.06900529097501122,-0.04117863457084112,0.04630975091198093,0.0,0.0742232438108798,0.0,0.012836286158635848,0.0,0.0,0.006693363200381063,0.0,0.0,0.0,0.0,0.01430494314930312,0.0,0.08037088051863567,0.09573532893241209,-0.028145640133257124,-0.10582234140008807,0.0,0.0,-0.5932809628462329,0.07597271113225793,-0.011742645046499568,0.0,0.0,0.0,0.0,0.0,0.0,0.03383999990883799,-0.06303969726377522,-0.4896948427633312,0.0,0.0,0.0,0.0,-0.13513647306982954,0.0,0.0,0.0,-0.471747730780013,0.0,0.0,0.0,-0.024872714317551333,0.0,0.0,0.03383999990883799,0.0,0.07674686242186572,0.0,0.0,0.0,0.0,0.0,0.0,0.0,-0.10582234140008807,0.013445783722750649,-0.1589019925512838,0.0,0.0,0.0,-0.06984947483936049,-0.16259366182637222,0.09603214600891005,0.0,0.06584480767150794,-0.04311811160542616,0.0,0.00764573606742896,0.0,0.07492716930494409,-0.04382502155805117,0.0,-0.13372265316320214,-0.033271369522517066,0.0,0.06584480767150794,0.0,-0.16941139333415298,-0.08622721305778865,0.0,0.0,-0.024895994874157855,0.0,0.03697379900834642,-0.016258739496888257,0.0,0.0,0.0,-0.0200686857117861,-0.005051289442011958,-0.012551742557867852,0.0035036414249366103,0.0006112398960401089,0.001138639223640952,-0.000949312373800137,0.0057737332029589505,0.0005250864641307327,0.0003691917279096126,-0.0013468154319723486,-0.003096831287547811,0.0007605103705397372,-0.000686434627901211,0.10367353224994251,0.007694561483898277,0.01253410875053691,0.009685768115628386,0.003546127691922814,0.0574148058320628,0.08858706846951976,0.22811151217264936,-0.005384833455521001,-0.009062720037480525,0.005607979731287361,-0.007334874722457977,-0.0056088106294738364,0.0052324378244229105,0.0060117390496131975,-0.006434430378485258,-0.014628722560169581,0.019194525684487,0.006134588424016388,-0.014745266764924256,0.02721006999860928,0.0005267929707488292,0.0,0.061804020150983234,0.12069125903817643,0.0013989589157821659,0.08941965728489483,-0.001068239872615951,0.011328741183814958,-0.003339105099087784,0.005922542340814482,0.022847034622253664,0.1364893020453783,0.04038414707104291,0.008745183335059446,-0.0001687238561161841,0.015423585121717398,0.007939565896229987,-0.0013294074466423634,-0.0008196067981211524,0.012864991202941297,0.009776310171116175,-0.004859841160025358,0.020949047772782954,0.0022493864503410994,-0.0003890933970815027,-0.0016059573781118048,-0.0027225628112510637,0.0009718532017252535,0.006923396150576206,0.0076880748874672165,0.003075808118400304,0.006524724639142668,0.010262196283328265,-0.00021919948967302113,0.02435929677773061,0.03389954418871794,0.08242087075082344,-0.0025616069520864584,-0.003399236100178793,0.018415872921747747,-0.0040084397123519196,0.0008539534247573583,-0.002075666411239203,0.027227419453714288,0.0031006688389059035,-0.0006544738327506572,0.01649576853843575,-0.002377531107707682,-7.04063217583767e-05,0.0006885882941231844,0.006225188739600134,0.018009114545005894,0.025104232440937343,0.009496638269856871,0.0026387975954692494,0.009075484170287397,0.0006520585405921101,0.003852453462147145,0.002080405687485444,-0.01708055914810826,0.005607593131812581,-0.002955553785827793,0.007572268412141965,0.025641197681867144]\n",
            "Intercept: -57.24705532536518\n"
          ],
          "name": "stdout"
        }
      ]
    },
    {
      "cell_type": "code",
      "metadata": {
        "id": "R5mZNMuKjZX8"
      },
      "source": [
        "model_path = \"/content/gdrive/My Drive/data/\" + \"modelNew\"\n",
        "lr_model.save(model_path)"
      ],
      "execution_count": null,
      "outputs": []
    },
    {
      "cell_type": "code",
      "metadata": {
        "colab": {
          "base_uri": "https://localhost:8080/"
        },
        "id": "8RYwM1Je_15B",
        "outputId": "ba445ee1-f7f7-4271-d93b-4ce076bf0fd5"
      },
      "source": [
        "lr_predictions = lr_model.transform(test_data)\n",
        "lr_predictions.select(\"prediction\",\"violation_Probability\",\"features\").show(100)"
      ],
      "execution_count": null,
      "outputs": [
        {
          "output_type": "stream",
          "text": [
            "+--------------------+---------------------+--------------------+\n",
            "|          prediction|violation_Probability|            features|\n",
            "+--------------------+---------------------+--------------------+\n",
            "|-0.01980139431522332| 5.974508762612852E-4|(1106,[0,30,1015]...|\n",
            "|-0.01995728905144034| 0.002190653212958...|(1106,[0,30,1016]...|\n",
            "| 0.08689559120691825|  0.02127659574468085|(1106,[0,3,29,101...|\n",
            "| 0.04980558303564209| 9.825112988799372E-4|(1106,[0,6,97,101...|\n",
            "|-0.04836005154640...| 0.004984849965790245|(1106,[0,3,23,101...|\n",
            "|0.016618867135399285| 0.001556420233463...|(1106,[0,7,115,10...|\n",
            "|-0.02342331206690318| 0.001327668613913...|(1106,[0,30,1018]...|\n",
            "| 0.04633956002017925| 0.001113512805397262|(1106,[0,6,97,101...|\n",
            "| 0.09664820097448512|  0.04106733375026058|(1106,[0,4,45,102...|\n",
            "|   0.190199931728948|   0.1276595744680851|(1106,[0,3,29,102...|\n",
            "| 0.12163921481731421|  0.05758754863813229|(1106,[0,7,115,10...|\n",
            "| 0.14397833437082141|  0.05795416805048157|(1106,[0,10,58,10...|\n",
            "|  0.2257529199668724|                 0.25|(1106,[0,12,32,10...|\n",
            "| -0.0281357084119378| 0.005738615327656...|(1106,[0,5,74,102...|\n",
            "|-0.02720536384899...| 0.005979599015124868|(1106,[0,6,75,102...|\n",
            "|-0.00779237202881...| 0.025690387679235264|(1106,[0,30,1023]...|\n",
            "|-0.00201031387213...| 0.010398359695371997|(1106,[0,92,1023]...|\n",
            "|-0.03732746799880...| 0.017202619489785943|(1106,[0,3,23,102...|\n",
            "|0.015212989080453099| 8.707956895613367E-4|(1106,[0,8,117,10...|\n",
            "|-0.01001225774143677| 1.927153594141453E-4|(1106,[0,4,84,102...|\n",
            "|  0.0104015697176294|  0.02551070276610302|(1106,[0,3,23,102...|\n",
            "|0.020033131714036756| 0.035077405447775815|(1106,[0,5,125,10...|\n",
            "|0.017675333232524792| 0.027259936686598662|(1106,[0,6,75,102...|\n",
            "| 0.04160031521172414| 0.002894356005788712|(1106,[0,136,1026...|\n",
            "|0.047081540141185485|  0.02451474858627541|(1106,[0,7,127,10...|\n",
            "|  0.6050930070096001|                  1.0|(1106,[0,9,139,10...|\n",
            "| 0.09699455607973562| 0.027961562696912412|(1106,[0,79,1026]...|\n",
            "| 0.10685119713978963|  0.05377611842536189|(1106,[0,6,97,102...|\n",
            "| 0.05120539435149851|  0.02423411065386374|(1106,[0,5,125,10...|\n",
            "| 0.07502868303616594|  0.09751397186355752|(1106,[0,4,84,102...|\n",
            "|  0.0941142894343443|  0.05769021443343855|(1106,[0,8,117,10...|\n",
            "| 0.17511346794852756|  0.10638297872340426|(1106,[0,3,29,102...|\n",
            "| 0.12816681871719737|  0.06127914303717706|(1106,[0,79,1027]...|\n",
            "|  0.2049635859285388|                 0.25|(1106,[0,2,21,102...|\n",
            "|  0.5917274883681785|                  0.2|(1106,[0,4,104,10...|\n",
            "| 0.21229702155231678| 0.001447178002894356|(1106,[0,136,1028...|\n",
            "| 0.22108618089718846|  0.30164686262247237|(1106,[0,4,45,102...|\n",
            "| 0.21455312673928972|   0.3545962613220274|(1106,[0,4,84,102...|\n",
            "| 0.23590889811707427|  0.22950819672131148|(1106,[0,11,35,10...|\n",
            "| 0.31463791165165844|   0.5531914893617021|(1106,[0,3,29,102...|\n",
            "| 0.26769126242032826|   0.2132955261499685|(1106,[0,79,1028]...|\n",
            "|-0.01571809914639...| 3.056701818737582E-5|(1106,[0,7,127,10...|\n",
            "| 0.04405155785220671| 6.550075325866247E-5|(1106,[0,6,97,102...|\n",
            "|-0.03413149286824...| 8.793527963418924E-4|(1106,[0,6,75,103...|\n",
            "|-0.01072275587768...| 0.003391521197007...|(1106,[0,56,1031]...|\n",
            "|-0.00472528595958...| 0.002292526364053...|(1106,[0,7,127,10...|\n",
            "|0.023573662298659315| 0.002723735408560311|(1106,[0,7,115,10...|\n",
            "| 0.04591278185216652| 0.011291929591497841|(1106,[0,10,58,10...|\n",
            "| 0.04518772997896292| 0.006616257088846881|(1106,[0,79,1031]...|\n",
            "| 0.05504437103901694| 0.014279164210388419|(1106,[0,6,97,103...|\n",
            "|-0.01371851670281643| 0.003230594604033...|(1106,[0,11,83,10...|\n",
            "|-0.01109829778454...| 7.980049875311721E-4|(1106,[0,56,1034]...|\n",
            "| 0.04481218807210041| 7.876496534341525E-4|(1106,[0,79,1034]...|\n",
            "|-0.02781871042994...|  0.03147297429381292|(1106,[0,3,23,103...|\n",
            "|  0.0451757525659815| 1.945525291828794E-4|(1106,[0,7,115,10...|\n",
            "| 0.05477868887552262|  0.01146549927037732|(1106,[0,4,45,104...|\n",
            "|0.048245634717623886| 0.015802659471959916|(1106,[0,4,84,104...|\n",
            "| 0.16027100928585014|  0.21999054820415878|(1106,[0,79,1045]...|\n",
            "|-0.01369195650470...| 7.185198491108317E-4|(1106,[0,11,92,10...|\n",
            "| 0.05083535022350816| 2.620030130346499E-4|(1106,[0,6,97,104...|\n",
            "| 0.05203798316686914|  0.04271996864589457|(1106,[0,5,125,10...|\n",
            "| 0.07586127185153657|  0.06494507612256697|(1106,[0,4,84,104...|\n",
            "| 0.09763444431549573|  0.08897694524495678|(1106,[0,10,55,10...|\n",
            "|  0.1073853398522644|  0.06809338521400778|(1106,[0,7,115,10...|\n",
            "|  0.2658950682301082|                 0.25|(1106,[0,4,78,104...|\n",
            "| 0.13885604859262202| 0.061308705050108075|(1106,[0,6,97,104...|\n",
            "|-0.03844991399063957| 1.959631589261219E-4|(1106,[0,5,125,10...|\n",
            "|-0.01140150556349...| 1.222680727495032...|(1106,[0,7,127,10...|\n",
            "|0.004458981092206216| 7.619462283661696E-4|(1106,[0,8,117,10...|\n",
            "|0.007146547157987...| 3.602305475504322...|(1106,[0,10,55,10...|\n",
            "| 0.03851151037505929| 0.001023944549464...|(1106,[0,79,1048]...|\n",
            "|0.019126127128245685|  0.01639344262295082|(1106,[0,11,35,10...|\n",
            "|-0.02366558587844...| 1.327668613913967E-4|(1106,[0,30,1050]...|\n",
            "|-0.01782278254022...| 2.776749352091818E-4|(1106,[0,5,74,105...|\n",
            "|0.007756119201772549| 7.185198491108317E-4|(1106,[0,11,92,10...|\n",
            "| 0.00651629901327766| 0.003391521197007...|(1106,[0,56,1052]...|\n",
            "| 0.01582170334679489| 0.017719407963310403|(1106,[0,4,45,105...|\n",
            "| 0.04081271718962398| 0.001167315175097...|(1106,[0,7,115,10...|\n",
            "| 0.08947606593094548|  0.05190108493793373|(1106,[0,3,23,105...|\n",
            "| 0.09581948488290237|  0.06775268419104036|(1106,[0,5,74,105...|\n",
            "| 0.12015856643640177|  0.12758104738154613|(1106,[0,56,1053]...|\n",
            "| 0.12194487942270626|  0.04774458113649678|(1106,[0,92,1053]...|\n",
            "| 0.12615603635450157| 0.025064954913648175|(1106,[0,7,127,10...|\n",
            "|   0.256156496175052|                  1.0|(1106,[0,12,31,10...|\n",
            "| 0.04904998545593742| 1.660577881102623...|(1106,[0,10,58,10...|\n",
            "|-0.04083854101858719| 1.851166234727878...|(1106,[0,5,74,105...|\n",
            "|-0.02195808899630...| 0.009798157946306094|(1106,[0,5,125,10...|\n",
            "|3.326697012369095...| 0.010598167774384767|(1106,[0,11,92,10...|\n",
            "|-0.00490289565763...| 0.003783855549654806|(1106,[0,30,1057]...|\n",
            "|-0.02944210822179...| 0.001633026324384...|(1106,[0,5,125,10...|\n",
            "|-0.01101138863101...|  0.00541342879594866|(1106,[0,11,83,10...|\n",
            "| 0.09040058045056298| 0.014035087719298246|(1106,[0,5,40,105...|\n",
            "| 0.04824436801710874| 0.007306542676851...|(1106,[0,10,58,10...|\n",
            "|0.047519316143905144| 0.009373030875866415|(1106,[0,79,1058]...|\n",
            "|-0.00835473872209...| 2.084636230977694...|(1106,[0,4,45,105...|\n",
            "|-0.04148942396059...| 0.001943724546464...|(1106,[0,5,74,106...|\n",
            "|-0.04055907939766...| 7.914175167077031E-4|(1106,[0,6,75,106...|\n",
            "|-0.01715034240709...| 0.001097256857855...|(1106,[0,56,1060]...|\n",
            "| 0.03948519532275441| 0.002158751245433411|(1106,[0,10,58,10...|\n",
            "|-0.05187307727445756|  9.77421561919656E-5|(1106,[0,3,23,106...|\n",
            "+--------------------+---------------------+--------------------+\n",
            "only showing top 100 rows\n",
            "\n"
          ],
          "name": "stdout"
        }
      ]
    },
    {
      "cell_type": "code",
      "metadata": {
        "colab": {
          "base_uri": "https://localhost:8080/"
        },
        "id": "t13FfDk0AtOC",
        "outputId": "95966189-692b-4026-9edb-946e5304091b"
      },
      "source": [
        "from pyspark.ml.evaluation import RegressionEvaluator\n",
        "lr_evaluator = RegressionEvaluator(predictionCol=\"prediction\", \\\n",
        "                 labelCol=\"violation_Probability\",metricName=\"r2\")\n",
        "print(\"R Squared (R2) on test data = %g\" % lr_evaluator.evaluate(lr_predictions))\n",
        "trainingSummary = lr_model.summary\n",
        "print(\"RMSE: %f\" % trainingSummary.rootMeanSquaredError)\n",
        "print(\"r2: %f\" % trainingSummary.r2)\n"
      ],
      "execution_count": null,
      "outputs": [
        {
          "output_type": "stream",
          "text": [
            "R Squared (R2) on test data = 0.65004\n",
            "RMSE: 0.095063\n",
            "r2: 0.659273\n"
          ],
          "name": "stdout"
        }
      ]
    },
    {
      "cell_type": "code",
      "metadata": {
        "id": "VEWrUeTXAfd9"
      },
      "source": [
        "dataForGrapgh = lr_predictions.select(\"prediction\",\"violation_Probability\",\"features\")"
      ],
      "execution_count": null,
      "outputs": []
    },
    {
      "cell_type": "code",
      "metadata": {
        "id": "WCm9gB3HAgQv"
      },
      "source": [
        "dataG =dataForGrapgh.toPandas()"
      ],
      "execution_count": null,
      "outputs": []
    },
    {
      "cell_type": "code",
      "metadata": {
        "colab": {
          "base_uri": "https://localhost:8080/"
        },
        "id": "4uGbDHV9AkYi",
        "outputId": "282cdece-000b-43f7-fc88-6c2f1de93d80"
      },
      "source": [
        "# Necessary imports: \n",
        "from sklearn.model_selection import cross_val_score, cross_val_predict\n",
        "from sklearn import metrics\n",
        "accuracy = metrics.r2_score(dataG['violation_Probability'], dataG['prediction'])\n",
        "print(\"Cross-Predicted Accuracy:\", accuracy)"
      ],
      "execution_count": null,
      "outputs": [
        {
          "output_type": "stream",
          "text": [
            "Cross-Predicted Accuracy: 0.6500396379151459\n"
          ],
          "name": "stdout"
        }
      ]
    },
    {
      "cell_type": "code",
      "metadata": {
        "colab": {
          "base_uri": "https://localhost:8080/",
          "height": 500
        },
        "id": "Mb1eWi8aAl0q",
        "outputId": "aa45ec0e-5c69-4a13-9273-219e2450ee39"
      },
      "source": [
        "from matplotlib import pyplot as plt\n",
        "plt.rcParams[\"figure.figsize\"] = (24, 8)\n",
        "plt.plot(dataG['prediction'][:100], label = \"Pred\")  # Load the 500 data points from prediction with label name 'Pred'\n",
        "plt.plot(dataG['violation_Probability'][:100], label = \"Actual\") "
      ],
      "execution_count": null,
      "outputs": [
        {
          "output_type": "execute_result",
          "data": {
            "text/plain": [
              "[<matplotlib.lines.Line2D at 0x7f09ffbe27d0>]"
            ]
          },
          "metadata": {
            "tags": []
          },
          "execution_count": 52
        },
        {
          "output_type": "display_data",
          "data": {
            "image/png": "[encoded data removed]",
            "text/plain": [
              "<Figure size 1728x576 with 1 Axes>"
            ]
          },
          "metadata": {
            "tags": [],
            "needs_background": "light"
          }
        }
      ]
    },
    {
      "cell_type": "code",
      "metadata": {
        "id": "wYs2saiPA0JN"
      },
      "source": [
        "import pandas as pd\n",
        "test_df =pd.DataFrame({\n",
        "              'actual':dataG['violation_Probability'],\n",
        "              'prediction':dataG['prediction'],\n",
        "              'diff':abs(dataG['violation_Probability']-dataG['prediction'])})\n",
        "\n",
        "test_df=test_df.sort_values(by='diff')\n",
        "test_df=test_df.reset_index(drop=True)"
      ],
      "execution_count": null,
      "outputs": []
    },
    {
      "cell_type": "markdown",
      "metadata": {
        "id": "43TbsiG65PHe"
      },
      "source": [
        "### By using  Random Forest "
      ]
    },
    {
      "cell_type": "code",
      "metadata": {
        "colab": {
          "base_uri": "https://localhost:8080/"
        },
        "id": "GldIlQ-K5YF7",
        "outputId": "31e10b92-bd74-4fdc-ff39-bbd09b0bce2f"
      },
      "source": [
        "from pyspark.ml.feature import QuantileDiscretizer\n",
        "\n",
        "discretizer = QuantileDiscretizer(numBuckets=5, inputCol=\"violation_Probability\", outputCol=\"buckets\", relativeError=0.01, handleInvalid=\"error\")\n",
        "result_df = discretizer.fit(df13).transform(df13)\n",
        "result_df.show()"
      ],
      "execution_count": null,
      "outputs": [
        {
          "output_type": "stream",
          "text": [
            "+--------------+----+-----+------------------+---------------------+--------------+----------------------+------------------+-------+\n",
            "|Violation_Code|year|month|Violation_Location|violation_Probability|     month_one|Violation_Location_one|Violation_Code_one|buckets|\n",
            "+--------------+----+-----+------------------+---------------------+--------------+----------------------+------------------+-------+\n",
            "|            11|2014|    2|                10| 2.932264685758968E-4|(12,[2],[1.0])|      (994,[10],[1.0])|   (99,[11],[1.0])|    0.0|\n",
            "|            17|2014|    2|                10| 0.017202619489785943|(12,[2],[1.0])|      (994,[10],[1.0])|   (99,[17],[1.0])|    3.0|\n",
            "|            31|2014|    2|                10|  0.03147297429381292|(12,[2],[1.0])|      (994,[10],[1.0])|   (99,[31],[1.0])|    3.0|\n",
            "|            39|2014|    2|                10|  9.77421561919656E-5|(12,[2],[1.0])|      (994,[10],[1.0])|   (99,[39],[1.0])|    0.0|\n",
            "|            60|2014|    2|                10| 0.001270648030495...|(12,[2],[1.0])|      (994,[10],[1.0])|   (99,[60],[1.0])|    1.0|\n",
            "|            27|2014|    2|                10|  9.77421561919656E-5|(12,[2],[1.0])|      (994,[10],[1.0])|   (99,[27],[1.0])|    0.0|\n",
            "|            15|2014|    2|                10|  9.77421561919656E-5|(12,[2],[1.0])|      (994,[10],[1.0])|   (99,[15],[1.0])|    0.0|\n",
            "|            16|2014|    2|                10|  0.07320887498778222|(12,[2],[1.0])|      (994,[10],[1.0])|   (99,[16],[1.0])|    4.0|\n",
            "|            19|2014|    2|                10|  0.02551070276610302|(12,[2],[1.0])|      (994,[10],[1.0])|   (99,[19],[1.0])|    3.0|\n",
            "|            35|2014|    2|                10| 0.002052585280031...|(12,[2],[1.0])|      (994,[10],[1.0])|   (99,[35],[1.0])|    2.0|\n",
            "|            66|2014|    2|                10| 8.796794057276903E-4|(12,[2],[1.0])|      (994,[10],[1.0])|   (99,[66],[1.0])|    1.0|\n",
            "|            82|2014|    2|                10| 0.004789365653406314|(12,[2],[1.0])|      (994,[10],[1.0])|   (99,[82],[1.0])|    2.0|\n",
            "|            41|2014|    2|                10| 3.909686247678624E-4|(12,[2],[1.0])|      (994,[10],[1.0])|   (99,[41],[1.0])|    0.0|\n",
            "|            38|2014|    2|                10|  0.09930603069103705|(12,[2],[1.0])|      (994,[10],[1.0])|   (99,[38],[1.0])|    4.0|\n",
            "|            21|2014|    2|                10|  0.01905972045743329|(12,[2],[1.0])|      (994,[10],[1.0])|   (99,[21],[1.0])|    3.0|\n",
            "|             8|2014|    2|                10| 7.819372495357248E-4|(12,[2],[1.0])|      (994,[10],[1.0])|    (99,[8],[1.0])|    1.0|\n",
            "|            64|2014|    2|                10| 7.819372495357248E-4|(12,[2],[1.0])|      (994,[10],[1.0])|   (99,[64],[1.0])|    1.0|\n",
            "|            37|2014|    2|                10|   0.0667578926791125|(12,[2],[1.0])|      (994,[10],[1.0])|   (99,[37],[1.0])|    4.0|\n",
            "|            71|2014|    2|                10| 0.022676180236536017|(12,[2],[1.0])|      (994,[10],[1.0])|   (99,[71],[1.0])|    3.0|\n",
            "|            46|2014|    2|                10|  0.05190108493793373|(12,[2],[1.0])|      (994,[10],[1.0])|   (99,[46],[1.0])|    3.0|\n",
            "+--------------+----+-----+------------------+---------------------+--------------+----------------------+------------------+-------+\n",
            "only showing top 20 rows\n",
            "\n"
          ],
          "name": "stdout"
        }
      ]
    },
    {
      "cell_type": "code",
      "metadata": {
        "colab": {
          "base_uri": "https://localhost:8080/"
        },
        "id": "t7lWx2rb6s6E",
        "outputId": "2dac27fc-6087-4b70-89aa-955f2dd1c19c"
      },
      "source": [
        "from pyspark.ml.linalg import Vectors\n",
        "from pyspark.ml.feature import VectorAssembler\n",
        "\n",
        "assembler = VectorAssembler(inputCols=[\"year\",\"month_one\", \"Violation_Location_one\", \"Violation_Code_one\"], outputCol=\"features\")\n",
        "output_df = assembler.transform(result_df)\n",
        "output_df.show(10)"
      ],
      "execution_count": null,
      "outputs": [
        {
          "output_type": "stream",
          "text": [
            "+--------------+----+-----+------------------+---------------------+--------------+----------------------+------------------+-------+--------------------+\n",
            "|Violation_Code|year|month|Violation_Location|violation_Probability|     month_one|Violation_Location_one|Violation_Code_one|buckets|            features|\n",
            "+--------------+----+-----+------------------+---------------------+--------------+----------------------+------------------+-------+--------------------+\n",
            "|            11|2014|    2|                10| 2.932264685758968E-4|(12,[2],[1.0])|      (994,[10],[1.0])|   (99,[11],[1.0])|    0.0|(1106,[0,3,23,101...|\n",
            "|            17|2014|    2|                10| 0.017202619489785943|(12,[2],[1.0])|      (994,[10],[1.0])|   (99,[17],[1.0])|    3.0|(1106,[0,3,23,102...|\n",
            "|            31|2014|    2|                10|  0.03147297429381292|(12,[2],[1.0])|      (994,[10],[1.0])|   (99,[31],[1.0])|    3.0|(1106,[0,3,23,103...|\n",
            "|            39|2014|    2|                10|  9.77421561919656E-5|(12,[2],[1.0])|      (994,[10],[1.0])|   (99,[39],[1.0])|    0.0|(1106,[0,3,23,104...|\n",
            "|            60|2014|    2|                10| 0.001270648030495...|(12,[2],[1.0])|      (994,[10],[1.0])|   (99,[60],[1.0])|    1.0|(1106,[0,3,23,106...|\n",
            "|            27|2014|    2|                10|  9.77421561919656E-5|(12,[2],[1.0])|      (994,[10],[1.0])|   (99,[27],[1.0])|    0.0|(1106,[0,3,23,103...|\n",
            "|            15|2014|    2|                10|  9.77421561919656E-5|(12,[2],[1.0])|      (994,[10],[1.0])|   (99,[15],[1.0])|    0.0|(1106,[0,3,23,102...|\n",
            "|            16|2014|    2|                10|  0.07320887498778222|(12,[2],[1.0])|      (994,[10],[1.0])|   (99,[16],[1.0])|    4.0|(1106,[0,3,23,102...|\n",
            "|            19|2014|    2|                10|  0.02551070276610302|(12,[2],[1.0])|      (994,[10],[1.0])|   (99,[19],[1.0])|    3.0|(1106,[0,3,23,102...|\n",
            "|            35|2014|    2|                10| 0.002052585280031...|(12,[2],[1.0])|      (994,[10],[1.0])|   (99,[35],[1.0])|    2.0|(1106,[0,3,23,104...|\n",
            "+--------------+----+-----+------------------+---------------------+--------------+----------------------+------------------+-------+--------------------+\n",
            "only showing top 10 rows\n",
            "\n"
          ],
          "name": "stdout"
        }
      ]
    },
    {
      "cell_type": "code",
      "metadata": {
        "colab": {
          "base_uri": "https://localhost:8080/"
        },
        "id": "G8llsfL46Qjr",
        "outputId": "f75430e7-d06a-4ac1-c4a5-4f6a7fa9930c"
      },
      "source": [
        "#split data set into train, test\n",
        "(training_data, test_data) = output_df.randomSplit([0.8,0.2], seed =2020)\n",
        "\n",
        "from pyspark.ml.classification import RandomForestClassifier\n",
        "\n",
        "rf = RandomForestClassifier(labelCol='buckets', featuresCol='features', maxDepth=5)\n",
        "model = rf.fit(training_data)\n",
        "rf_predictions = model.transform(test_data)\n",
        "\n",
        "from pyspark.ml.evaluation import MulticlassClassificationEvaluator\n",
        "\n",
        "multi_evaluator = MulticlassClassificationEvaluator(labelCol = 'buckets', metricName = 'accuracy')\n",
        "print('Random Forest classifier Accuracy:', multi_evaluator.evaluate(rf_predictions))"
      ],
      "execution_count": null,
      "outputs": [
        {
          "output_type": "stream",
          "text": [
            "Random Forest classifier Accuracy: 0.47396259681380265\n"
          ],
          "name": "stdout"
        }
      ]
    },
    {
      "cell_type": "code",
      "metadata": {
        "id": "ivtGEPHWR_Nu"
      },
      "source": [
        "model_path = \"/content/gdrive/My Drive/data/\" + \"Random_10_modelNew\"\n",
        "model.save(model_path)"
      ],
      "execution_count": null,
      "outputs": []
    },
    {
      "cell_type": "markdown",
      "metadata": {
        "id": "Ign8jBkpZh44"
      },
      "source": [
        "### By using  Decision Tree"
      ]
    },
    {
      "cell_type": "code",
      "metadata": {
        "colab": {
          "base_uri": "https://localhost:8080/"
        },
        "id": "0cuYXzAJZr69",
        "outputId": "2649f17f-7846-4f2e-e7c1-ae04c83b35d8"
      },
      "source": [
        "from pyspark.ml.classification import DecisionTreeClassifier\n",
        "\n",
        "dt = DecisionTreeClassifier(featuresCol = 'features', labelCol = 'buckets', maxDepth = 5)\n",
        "dtModel = dt.fit(training_data)\n",
        "dt_predictions = dtModel.transform(test_data)\n",
        "\n",
        "from pyspark.ml.evaluation import MulticlassClassificationEvaluator\n",
        "\n",
        "multi_evaluator = MulticlassClassificationEvaluator(labelCol = 'buckets', metricName = 'accuracy')\n",
        "print('Decision Tree Accuracy:', multi_evaluator.evaluate(dt_predictions))"
      ],
      "execution_count": null,
      "outputs": [
        {
          "output_type": "stream",
          "text": [
            "Decision Tree Accuracy: 0.3125118065612997\n"
          ],
          "name": "stdout"
        }
      ]
    },
    {
      "cell_type": "code",
      "metadata": {
        "id": "2CVoQYCYjSti"
      },
      "source": [
        "model_path = \"/content/gdrive/My Drive/data/\" + \"dt_10_modelNew\"\n",
        "dtModel.save(model_path)"
      ],
      "execution_count": null,
      "outputs": []
    },
    {
      "cell_type": "markdown",
      "metadata": {
        "id": "hTBn9wn_N7tQ"
      },
      "source": [
        "#### 11. Predict probability of causing parking violations which can be occurred in particular locations for particular days of a month.\n",
        "\n",
        "**This Topic 11 is available after the Topic 12** ."
      ]
    },
    {
      "cell_type": "markdown",
      "metadata": {
        "id": "1ybfYUPtOH0p"
      },
      "source": [
        "#### 12. Predict probability of causing parking violations which can be occurred in particular locations for particular times of the day."
      ]
    },
    {
      "cell_type": "code",
      "metadata": {
        "colab": {
          "base_uri": "https://localhost:8080/"
        },
        "id": "3jdHn--QPVW9",
        "outputId": "25d85f10-df39-476c-bfcf-d3d3396938e4"
      },
      "source": [
        "def get_timebin(bin):\n",
        "    \n",
        "    if bin == '12.00AM - 06.00AM':\n",
        "      return 0\n",
        "    if bin == '06.00AM - 12.00AM':\n",
        "      return 1\n",
        "    if bin == '12.00PM - 06.00PM':\n",
        "      return 2\n",
        "    if bin == '06.00PM - 12.00PM':\n",
        "      return 3\n",
        "\n",
        "spark.udf.register('get_timebin', get_timebin)"
      ],
      "execution_count": null,
      "outputs": [
        {
          "output_type": "execute_result",
          "data": {
            "text/plain": [
              "<function __main__.get_timebin>"
            ]
          },
          "metadata": {
            "tags": []
          },
          "execution_count": 16
        }
      ]
    },
    {
      "cell_type": "code",
      "metadata": {
        "id": "5PAHq9zzPYf_"
      },
      "source": [
        "from pyspark.sql.functions import udf,desc\n",
        "from datetime import datetime\n",
        "from pyspark.sql.functions import date_format\n",
        "from pyspark.sql.functions import to_date, date_format\n",
        "from pyspark.sql.functions import *"
      ],
      "execution_count": null,
      "outputs": []
    },
    {
      "cell_type": "code",
      "metadata": {
        "id": "1awEcsIdr6xz"
      },
      "source": [
        "data_Freq = spark.sql(\"select year, month, day, get_timebin(Violation_Time_bin) as Violation_Time_bin, Violation_Location, Violation_Code , count(*) as frequency from combinedparkingtableView where year >= 2014 Group by year,month,day,Violation_Time_bin,Violation_Location, Violation_Code \")"
      ],
      "execution_count": null,
      "outputs": []
    },
    {
      "cell_type": "code",
      "metadata": {
        "colab": {
          "base_uri": "https://localhost:8080/"
        },
        "id": "bYa3PlyTr9XX",
        "outputId": "9782e953-799c-461a-8b20-173e9885c553"
      },
      "source": [
        "data_Freq.dtypes"
      ],
      "execution_count": null,
      "outputs": [
        {
          "output_type": "execute_result",
          "data": {
            "text/plain": [
              "[('year', 'int'),\n",
              " ('month', 'int'),\n",
              " ('day', 'int'),\n",
              " ('Violation_Time_bin', 'string'),\n",
              " ('Violation_Location', 'int'),\n",
              " ('Violation_Code', 'int'),\n",
              " ('frequency', 'bigint')]"
            ]
          },
          "metadata": {
            "tags": []
          },
          "execution_count": 19
        }
      ]
    },
    {
      "cell_type": "code",
      "metadata": {
        "id": "DDKpQSmPsAL9"
      },
      "source": [
        "data_Freq.createOrReplaceTempView(\"data_Freq\")"
      ],
      "execution_count": null,
      "outputs": []
    },
    {
      "cell_type": "code",
      "metadata": {
        "id": "1dtE1hHUsDTn"
      },
      "source": [
        "data_Freq = spark.sql(\"SELECT CAST(year AS INTEGER), CAST(month AS INTEGER), CAST(day AS INTEGER), CAST(Violation_Time_bin AS INTEGER), CAST(Violation_Location AS INTEGER), CAST(Violation_Code AS INTEGER), frequency FROM data_Freq\")"
      ],
      "execution_count": null,
      "outputs": []
    },
    {
      "cell_type": "code",
      "metadata": {
        "colab": {
          "base_uri": "https://localhost:8080/"
        },
        "id": "HakSyEjusFlV",
        "outputId": "7b18042c-efb8-4449-814c-92b5a866c29f"
      },
      "source": [
        "data_Freq.dtypes"
      ],
      "execution_count": null,
      "outputs": [
        {
          "output_type": "execute_result",
          "data": {
            "text/plain": [
              "[('year', 'int'),\n",
              " ('month', 'int'),\n",
              " ('day', 'int'),\n",
              " ('Violation_Time_bin', 'int'),\n",
              " ('Violation_Location', 'int'),\n",
              " ('Violation_Code', 'int'),\n",
              " ('frequency', 'bigint')]"
            ]
          },
          "metadata": {
            "tags": []
          },
          "execution_count": 22
        }
      ]
    },
    {
      "cell_type": "code",
      "metadata": {
        "colab": {
          "base_uri": "https://localhost:8080/"
        },
        "id": "0mNMwO3LsILM",
        "outputId": "2c5bf08b-562e-4b2a-8f8e-9c9b0aad7828"
      },
      "source": [
        "data_Freq.show(10)"
      ],
      "execution_count": null,
      "outputs": [
        {
          "output_type": "stream",
          "text": [
            "+----+-----+---+------------------+------------------+--------------+---------+\n",
            "|year|month|day|Violation_Time_bin|Violation_Location|Violation_Code|frequency|\n",
            "+----+-----+---+------------------+------------------+--------------+---------+\n",
            "|2016|   10| 22|                 2|               110|            38|       29|\n",
            "|2017|    4|  5|                 2|               108|            40|       15|\n",
            "|2017|    4| 26|                 3|                48|            46|        2|\n",
            "|2016|   10| 11|                 1|                32|            21|       50|\n",
            "|2017|    2|  8|                 1|                75|            66|        3|\n",
            "|2017|    1|  3|                 1|                75|            21|      133|\n",
            "|2016|   12|  9|                 2|                17|             9|      110|\n",
            "|2016|    7|  7|                 2|               106|            38|       45|\n",
            "|2016|   12| 12|                 1|                75|            21|      123|\n",
            "|2016|    9|  6|                 2|                19|            37|      221|\n",
            "+----+-----+---+------------------+------------------+--------------+---------+\n",
            "only showing top 10 rows\n",
            "\n"
          ],
          "name": "stdout"
        }
      ]
    },
    {
      "cell_type": "code",
      "metadata": {
        "id": "v9NDUjL_sLdT"
      },
      "source": [
        "data_time_total_Freq = spark.sql(\"select year, month, day, get_timebin(Violation_Time_bin) as Violation_Time_bin, Violation_Location, count(*) as time_frequency from combinedparkingtableView  where year >= 2014  Group by year,month,day,Violation_Time_bin,Violation_Location\")"
      ],
      "execution_count": null,
      "outputs": []
    },
    {
      "cell_type": "code",
      "metadata": {
        "id": "lFMc_OCJsOFw"
      },
      "source": [
        "data_time_total_Freq.createOrReplaceTempView(\"data_time_total_Freq\")"
      ],
      "execution_count": null,
      "outputs": []
    },
    {
      "cell_type": "code",
      "metadata": {
        "colab": {
          "base_uri": "https://localhost:8080/"
        },
        "id": "yjQuF5lvsRgp",
        "outputId": "89e498d0-8d41-4547-ed6e-bf2e2fa85812"
      },
      "source": [
        "data_time_total_Freq.dtypes"
      ],
      "execution_count": null,
      "outputs": [
        {
          "output_type": "execute_result",
          "data": {
            "text/plain": [
              "[('year', 'int'),\n",
              " ('month', 'int'),\n",
              " ('day', 'int'),\n",
              " ('Violation_Time_bin', 'string'),\n",
              " ('Violation_Location', 'int'),\n",
              " ('time_frequency', 'bigint')]"
            ]
          },
          "metadata": {
            "tags": []
          },
          "execution_count": 26
        }
      ]
    },
    {
      "cell_type": "code",
      "metadata": {
        "id": "IBUb6q2dsU7q"
      },
      "source": [
        "data_time_total_Freq = spark.sql(\"select CAST(year AS INTEGER), CAST(month AS INTEGER), CAST(day AS INTEGER), CAST(Violation_Time_bin AS INTEGER), CAST(Violation_Location AS INTEGER), time_frequency from data_time_total_Freq\")"
      ],
      "execution_count": null,
      "outputs": []
    },
    {
      "cell_type": "code",
      "metadata": {
        "colab": {
          "base_uri": "https://localhost:8080/"
        },
        "id": "SHE1FG3CsX83",
        "outputId": "1df85c09-c093-4ca6-fc91-af7696bfc48a"
      },
      "source": [
        "data_time_total_Freq.dtypes"
      ],
      "execution_count": null,
      "outputs": [
        {
          "output_type": "execute_result",
          "data": {
            "text/plain": [
              "[('year', 'int'),\n",
              " ('month', 'int'),\n",
              " ('day', 'int'),\n",
              " ('Violation_Time_bin', 'int'),\n",
              " ('Violation_Location', 'int'),\n",
              " ('time_frequency', 'bigint')]"
            ]
          },
          "metadata": {
            "tags": []
          },
          "execution_count": 28
        }
      ]
    },
    {
      "cell_type": "code",
      "metadata": {
        "colab": {
          "base_uri": "https://localhost:8080/"
        },
        "id": "Dzpwd5LQsatI",
        "outputId": "7676f827-cfab-46f7-a7b7-78ef8e8beb34"
      },
      "source": [
        "data_time_total_Freq.show(10)"
      ],
      "execution_count": null,
      "outputs": [
        {
          "output_type": "stream",
          "text": [
            "+----+-----+---+------------------+------------------+--------------+\n",
            "|year|month|day|Violation_Time_bin|Violation_Location|time_frequency|\n",
            "+----+-----+---+------------------+------------------+--------------+\n",
            "|2017|    5|  4|                 2|                70|           356|\n",
            "|2016|    9|  7|                 1|                26|            77|\n",
            "|2016|   11| 21|                 2|                17|           287|\n",
            "|2016|    8| 17|                 1|                20|           192|\n",
            "|2016|   10|  5|                 2|                52|           248|\n",
            "|2016|   10| 12|                 2|                45|            65|\n",
            "|2016|    8| 23|                 2|                24|           148|\n",
            "|2017|    6| 10|                 0|               103|           105|\n",
            "|2016|    8| 16|                 1|               115|           380|\n",
            "|2016|    7| 21|                 2|                90|           177|\n",
            "+----+-----+---+------------------+------------------+--------------+\n",
            "only showing top 10 rows\n",
            "\n"
          ],
          "name": "stdout"
        }
      ]
    },
    {
      "cell_type": "code",
      "metadata": {
        "id": "PCVXt38qseq0"
      },
      "source": [
        "import pyspark.sql.functions as F\n",
        "data_with_probability = data_Freq.join(data_time_total_Freq, (data_Freq.Violation_Location == data_time_total_Freq.Violation_Location) & (data_Freq.year == data_time_total_Freq.year)& (data_Freq.month == data_time_total_Freq.month) & (data_Freq.day == data_time_total_Freq.day) & (data_Freq.Violation_Time_bin == data_time_total_Freq.Violation_Time_bin))\\\n",
        "    .withColumn(\"violation_Probability\", (F.col(\"frequency\") / F.col(\"time_frequency\")))\\\n",
        "    .drop(data_time_total_Freq.time_frequency).drop(data_Freq.frequency).drop(data_time_total_Freq.Violation_Location).drop(data_time_total_Freq.year).drop(data_time_total_Freq.month).drop(data_time_total_Freq.day).drop(data_time_total_Freq.Violation_Time_bin)"
      ],
      "execution_count": null,
      "outputs": []
    },
    {
      "cell_type": "code",
      "metadata": {
        "colab": {
          "base_uri": "https://localhost:8080/"
        },
        "id": "04-D8wyFsn9X",
        "outputId": "46f4976e-7b03-486f-f48a-d23a2a5aec0c"
      },
      "source": [
        "data_with_probability.show(10)"
      ],
      "execution_count": null,
      "outputs": [
        {
          "output_type": "stream",
          "text": [
            "+----+-----+---+------------------+------------------+--------------+---------------------+\n",
            "|year|month|day|Violation_Time_bin|Violation_Location|Violation_Code|violation_Probability|\n",
            "+----+-----+---+------------------+------------------+--------------+---------------------+\n",
            "|2014|    1|  6|                 1|                 1|            45| 0.002298850574712...|\n",
            "|2014|    1|  6|                 1|                 1|            37| 0.016091954022988506|\n",
            "|2014|    1|  6|                 1|                 1|            53| 0.016091954022988506|\n",
            "|2014|    1|  6|                 1|                 1|            24| 0.009195402298850575|\n",
            "|2014|    1|  6|                 1|                 1|            42| 0.011494252873563218|\n",
            "|2014|    1|  6|                 1|                 1|            70| 0.009195402298850575|\n",
            "|2014|    1|  6|                 1|                 1|            10| 0.011494252873563218|\n",
            "|2014|    1|  6|                 1|                 1|             4| 0.004597701149425287|\n",
            "|2014|    1|  6|                 1|                 1|            74| 0.004597701149425287|\n",
            "|2014|    1|  6|                 1|                 1|            48| 0.004597701149425287|\n",
            "+----+-----+---+------------------+------------------+--------------+---------------------+\n",
            "only showing top 10 rows\n",
            "\n"
          ],
          "name": "stdout"
        }
      ]
    },
    {
      "cell_type": "code",
      "metadata": {
        "id": "5TZPPgeKs3v6"
      },
      "source": [
        "from pyspark.ml.feature import OneHotEncoder\n",
        "onehotencoder_qualification_vector = OneHotEncoder(inputCol=\"month\", outputCol=\"month_one\")\n",
        "df11 = onehotencoder_qualification_vector.fit(data_with_probability).transform(data_with_probability)\n",
        "\n",
        "onehotencoder_qualification_vector = OneHotEncoder(inputCol=\"Violation_Location\", outputCol=\"Violation_Location_one\")\n",
        "df12 = onehotencoder_qualification_vector.fit(df11).transform(df11)\n",
        "\n",
        "onehotencoder_qualification_vector = OneHotEncoder(inputCol=\"Violation_Code\", outputCol=\"Violation_Code_one\")\n",
        "df13 = onehotencoder_qualification_vector.fit(df12).transform(df12)\n",
        "\n",
        "onehotencoder_qualification_vector = OneHotEncoder(inputCol=\"day\", outputCol=\"day_one\")\n",
        "df14 = onehotencoder_qualification_vector.fit(df13).transform(df13)\n",
        "\n",
        "onehotencoder_qualification_vector = OneHotEncoder(inputCol=\"year\", outputCol=\"year_one\")\n",
        "df15 = onehotencoder_qualification_vector.fit(df14).transform(df14)\n",
        "\n",
        "onehotencoder_qualification_vector = OneHotEncoder(inputCol=\"Violation_Time_bin\", outputCol=\"Violation_Time_bin_one\")\n",
        "df16 = onehotencoder_qualification_vector.fit(df15).transform(df15)"
      ],
      "execution_count": null,
      "outputs": []
    },
    {
      "cell_type": "code",
      "metadata": {
        "colab": {
          "base_uri": "https://localhost:8080/"
        },
        "id": "QT1PCnUjs8hA",
        "outputId": "a3a2a4b9-5229-459c-8518-4c272705b77b"
      },
      "source": [
        "# Assemble all the features with VectorAssembler\n",
        "required_features = ['year_one','month_one','day_one','Violation_Time_bin_one','Violation_Location_one','Violation_Code_one']\n",
        "\n",
        "from pyspark.ml.feature import VectorAssembler\n",
        "\n",
        "numericCols = [] #['violation_Probability']\n",
        "assemblerInputs = [c  for c in required_features] + numericCols\n",
        "assembler = VectorAssembler(inputCols=assemblerInputs, outputCol='features')\n",
        "\n",
        "transformed_data = assembler.transform(df16)\n",
        "transformed_data.show(5)"
      ],
      "execution_count": null,
      "outputs": [
        {
          "output_type": "stream",
          "text": [
            "+----+-----+---+------------------+------------------+--------------+---------------------+--------------+----------------------+------------------+--------------+-------------------+----------------------+--------------------+\n",
            "|year|month|day|Violation_Time_bin|Violation_Location|Violation_Code|violation_Probability|     month_one|Violation_Location_one|Violation_Code_one|       day_one|           year_one|Violation_Time_bin_one|            features|\n",
            "+----+-----+---+------------------+------------------+--------------+---------------------+--------------+----------------------+------------------+--------------+-------------------+----------------------+--------------------+\n",
            "|2014|    1|  6|                 1|                 1|            45| 0.002298850574712...|(12,[1],[1.0])|       (994,[1],[1.0])|   (99,[45],[1.0])|(31,[6],[1.0])|(2069,[2014],[1.0])|         (3,[1],[1.0])|(3208,[2014,2070,...|\n",
            "|2014|    1|  6|                 1|                 1|            37| 0.016091954022988506|(12,[1],[1.0])|       (994,[1],[1.0])|   (99,[37],[1.0])|(31,[6],[1.0])|(2069,[2014],[1.0])|         (3,[1],[1.0])|(3208,[2014,2070,...|\n",
            "|2014|    1|  6|                 1|                 1|            53| 0.016091954022988506|(12,[1],[1.0])|       (994,[1],[1.0])|   (99,[53],[1.0])|(31,[6],[1.0])|(2069,[2014],[1.0])|         (3,[1],[1.0])|(3208,[2014,2070,...|\n",
            "|2014|    1|  6|                 1|                 1|            24| 0.009195402298850575|(12,[1],[1.0])|       (994,[1],[1.0])|   (99,[24],[1.0])|(31,[6],[1.0])|(2069,[2014],[1.0])|         (3,[1],[1.0])|(3208,[2014,2070,...|\n",
            "|2014|    1|  6|                 1|                 1|            42| 0.011494252873563218|(12,[1],[1.0])|       (994,[1],[1.0])|   (99,[42],[1.0])|(31,[6],[1.0])|(2069,[2014],[1.0])|         (3,[1],[1.0])|(3208,[2014,2070,...|\n",
            "+----+-----+---+------------------+------------------+--------------+---------------------+--------------+----------------------+------------------+--------------+-------------------+----------------------+--------------------+\n",
            "only showing top 5 rows\n",
            "\n"
          ],
          "name": "stdout"
        }
      ]
    },
    {
      "cell_type": "code",
      "metadata": {
        "colab": {
          "base_uri": "https://localhost:8080/"
        },
        "id": "kVYScRRCtDHU",
        "outputId": "d6ec2def-d5e2-425b-a3cf-daa1eb864574"
      },
      "source": [
        "# Split the data\n",
        "(training_data, test_data) = transformed_data.randomSplit([0.8,0.2], seed =2020)\n",
        "print(\"Training Dataset Count: \" + str(training_data.count()))\n",
        "print(\"Test Dataset Count: \" + str(test_data.count()))"
      ],
      "execution_count": null,
      "outputs": [
        {
          "output_type": "stream",
          "text": [
            "Training Dataset Count: 3205995\n",
            "Test Dataset Count: 800419\n"
          ],
          "name": "stdout"
        }
      ]
    },
    {
      "cell_type": "code",
      "metadata": {
        "colab": {
          "base_uri": "https://localhost:8080/"
        },
        "id": "0JS9QTN5tHeT",
        "outputId": "aea17f1e-24ad-43ff-bf33-ac3373fed929"
      },
      "source": [
        "from pyspark.ml.regression import LinearRegression\n",
        "lr = LinearRegression(featuresCol = 'features', labelCol='violation_Probability')\n",
        "lr_model = lr.fit(training_data)\n",
        "print(\"Coefficients: \" + str(lr_model.coefficients))\n",
        "print(\"Intercept: \" + str(lr_model.intercept))"
      ],
      "execution_count": null,
      "outputs": [
        {
          "output_type": "stream",
          "text": [
            "Coefficients: [0.0,0.0,0.0,0.0,0.0,0.0,0.0,0.0,0.0,0.0,0.0,0.0,0.0,0.0,0.0,0.0,0.0,0.0,0.0,0.0,0.0,0.0,0.0,0.0,0.0,0.0,0.0,0.0,0.0,0.0,0.0,0.0,0.0,0.0,0.0,0.0,0.0,0.0,0.0,0.0,0.0,0.0,0.0,0.0,0.0,0.0,0.0,0.0,0.0,0.0,0.0,0.0,0.0,0.0,0.0,0.0,0.0,0.0,0.0,0.0,0.0,0.0,0.0,0.0,0.0,0.0,0.0,0.0,0.0,0.0,0.0,0.0,0.0,0.0,0.0,0.0,0.0,0.0,0.0,0.0,0.0,0.0,0.0,0.0,0.0,0.0,0.0,0.0,0.0,0.0,0.0,0.0,0.0,0.0,0.0,0.0,0.0,0.0,0.0,0.0,0.0,0.0,0.0,0.0,0.0,0.0,0.0,0.0,0.0,0.0,0.0,0.0,0.0,0.0,0.0,0.0,0.0,0.0,0.0,0.0,0.0,0.0,0.0,0.0,0.0,0.0,0.0,0.0,0.0,0.0,0.0,0.0,0.0,0.0,0.0,0.0,0.0,0.0,0.0,0.0,0.0,0.0,0.0,0.0,0.0,0.0,0.0,0.0,0.0,0.0,0.0,0.0,0.0,0.0,0.0,0.0,0.0,0.0,0.0,0.0,0.0,0.0,0.0,0.0,0.0,0.0,0.0,0.0,0.0,0.0,0.0,0.0,0.0,0.0,0.0,0.0,0.0,0.0,0.0,0.0,0.0,0.0,0.0,0.0,0.0,0.0,0.0,0.0,0.0,0.0,0.0,0.0,0.0,0.0,0.0,0.0,0.0,0.0,0.0,0.0,0.0,0.0,0.0,0.0,0.0,0.0,0.0,0.0,0.0,0.0,0.0,0.0,0.0,0.0,0.0,0.0,0.0,0.0,0.0,0.0,0.0,0.0,0.0,0.0,0.0,0.0,0.0,0.0,0.0,0.0,0.0,0.0,0.0,0.0,0.0,0.0,0.0,0.0,0.0,0.0,0.0,0.0,0.0,0.0,0.0,0.0,0.0,0.0,0.0,0.0,0.0,0.0,0.0,0.0,0.0,0.0,0.0,0.0,0.0,0.0,0.0,0.0,0.0,0.0,0.0,0.0,0.0,0.0,0.0,0.0,0.0,0.0,0.0,0.0,0.0,0.0,0.0,0.0,0.0,0.0,0.0,0.0,0.0,0.0,0.0,0.0,0.0,0.0,0.0,0.0,0.0,0.0,0.0,0.0,0.0,0.0,0.0,0.0,0.0,0.0,0.0,0.0,0.0,0.0,0.0,0.0,0.0,0.0,0.0,0.0,0.0,0.0,0.0,0.0,0.0,0.0,0.0,0.0,0.0,0.0,0.0,0.0,0.0,0.0,0.0,0.0,0.0,0.0,0.0,0.0,0.0,0.0,0.0,0.0,0.0,0.0,0.0,0.0,0.0,0.0,0.0,0.0,0.0,0.0,0.0,0.0,0.0,0.0,0.0,0.0,0.0,0.0,0.0,0.0,0.0,0.0,0.0,0.0,0.0,0.0,0.0,0.0,0.0,0.0,0.0,0.0,0.0,0.0,0.0,0.0,0.0,0.0,0.0,0.0,0.0,0.0,0.0,0.0,0.0,0.0,0.0,0.0,0.0,0.0,0.0,0.0,0.0,0.0,0.0,0.0,0.0,0.0,0.0,0.0,0.0,0.0,0.0,0.0,0.0,0.0,0.0,0.0,0.0,0.0,0.0,0.0,0.0,0.0,0.0,0.0,0.0,0.0,0.0,0.0,0.0,0.0,0.0,0.0,0.0,0.0,0.0,0.0,0.0,0.0,0.0,0.0,0.0,0.0,0.0,0.0,0.0,0.0,0.0,0.0,0.0,0.0,0.0,0.0,0.0,0.0,0.0,0.0,0.0,0.0,0.0,0.0,0.0,0.0,0.0,0.0,0.0,0.0,0.0,0.0,0.0,0.0,0.0,0.0,0.0,0.0,0.0,0.0,0.0,0.0,0.0,0.0,0.0,0.0,0.0,0.0,0.0,0.0,0.0,0.0,0.0,0.0,0.0,0.0,0.0,0.0,0.0,0.0,0.0,0.0,0.0,0.0,0.0,0.0,0.0,0.0,0.0,0.0,0.0,0.0,0.0,0.0,0.0,0.0,0.0,0.0,0.0,0.0,0.0,0.0,0.0,0.0,0.0,0.0,0.0,0.0,0.0,0.0,0.0,0.0,0.0,0.0,0.0,0.0,0.0,0.0,0.0,0.0,0.0,0.0,0.0,0.0,0.0,0.0,0.0,0.0,0.0,0.0,0.0,0.0,0.0,0.0,0.0,0.0,0.0,0.0,0.0,0.0,0.0,0.0,0.0,0.0,0.0,0.0,0.0,0.0,0.0,0.0,0.0,0.0,0.0,0.0,0.0,0.0,0.0,0.0,0.0,0.0,0.0,0.0,0.0,0.0,0.0,0.0,0.0,0.0,0.0,0.0,0.0,0.0,0.0,0.0,0.0,0.0,0.0,0.0,0.0,0.0,0.0,0.0,0.0,0.0,0.0,0.0,0.0,0.0,0.0,0.0,0.0,0.0,0.0,0.0,0.0,0.0,0.0,0.0,0.0,0.0,0.0,0.0,0.0,0.0,0.0,0.0,0.0,0.0,0.0,0.0,0.0,0.0,0.0,0.0,0.0,0.0,0.0,0.0,0.0,0.0,0.0,0.0,0.0,0.0,0.0,0.0,0.0,0.0,0.0,0.0,0.0,0.0,0.0,0.0,0.0,0.0,0.0,0.0,0.0,0.0,0.0,0.0,0.0,0.0,0.0,0.0,0.0,0.0,0.0,0.0,0.0,0.0,0.0,0.0,0.0,0.0,0.0,0.0,0.0,0.0,0.0,0.0,0.0,0.0,0.0,0.0,0.0,0.0,0.0,0.0,0.0,0.0,0.0,0.0,0.0,0.0,0.0,0.0,0.0,0.0,0.0,0.0,0.0,0.0,0.0,0.0,0.0,0.0,0.0,0.0,0.0,0.0,0.0,0.0,0.0,0.0,0.0,0.0,0.0,0.0,0.0,0.0,0.0,0.0,0.0,0.0,0.0,0.0,0.0,0.0,0.0,0.0,0.0,0.0,0.0,0.0,0.0,0.0,0.0,0.0,0.0,0.0,0.0,0.0,0.0,0.0,0.0,0.0,0.0,0.0,0.0,0.0,0.0,0.0,0.0,0.0,0.0,0.0,0.0,0.0,0.0,0.0,0.0,0.0,0.0,0.0,0.0,0.0,0.0,0.0,0.0,0.0,0.0,0.0,0.0,0.0,0.0,0.0,0.0,0.0,0.0,0.0,0.0,0.0,0.0,0.0,0.0,0.0,0.0,0.0,0.0,0.0,0.0,0.0,0.0,0.0,0.0,0.0,0.0,0.0,0.0,0.0,0.0,0.0,0.0,0.0,0.0,0.0,0.0,0.0,0.0,0.0,0.0,0.0,0.0,0.0,0.0,0.0,0.0,0.0,0.0,0.0,0.0,0.0,0.0,0.0,0.0,0.0,0.0,0.0,0.0,0.0,0.0,0.0,0.0,0.0,0.0,0.0,0.0,0.0,0.0,0.0,0.0,0.0,0.0,0.0,0.0,0.0,0.0,0.0,0.0,0.0,0.0,0.0,0.0,0.0,0.0,0.0,0.0,0.0,0.0,0.0,0.0,0.0,0.0,0.0,0.0,0.0,0.0,0.0,0.0,0.0,0.0,0.0,0.0,0.0,0.0,0.0,0.0,0.0,0.0,0.0,0.0,0.0,0.0,0.0,0.0,0.0,0.0,0.0,0.0,0.0,0.0,0.0,0.0,0.0,0.0,0.0,0.0,0.0,0.0,0.0,0.0,0.0,0.0,0.0,0.0,0.0,0.0,0.0,0.0,0.0,0.0,0.0,0.0,0.0,0.0,0.0,0.0,0.0,0.0,0.0,0.0,0.0,0.0,0.0,0.0,0.0,0.0,0.0,0.0,0.0,0.0,0.0,0.0,0.0,0.0,0.0,0.0,0.0,0.0,0.0,0.0,0.0,0.0,0.0,0.0,0.0,0.0,0.0,0.0,0.0,0.0,0.0,0.0,0.0,0.0,0.0,0.0,0.0,0.0,0.0,0.0,0.0,0.0,0.0,0.0,0.0,0.0,0.0,0.0,0.0,0.0,0.0,0.0,0.0,0.0,0.0,0.0,0.0,0.0,0.0,0.0,0.0,0.0,0.0,0.0,0.0,0.0,0.0,0.0,0.0,0.0,0.0,0.0,0.0,0.0,0.0,0.0,0.0,0.0,0.0,0.0,0.0,0.0,0.0,0.0,0.0,0.0,0.0,0.0,0.0,0.0,0.0,0.0,0.0,0.0,0.0,0.0,0.0,0.0,0.0,0.0,0.0,0.0,0.0,0.0,0.0,0.0,0.0,0.0,0.0,0.0,0.0,0.0,0.0,0.0,0.0,0.0,0.0,0.0,0.0,0.0,0.0,0.0,0.0,0.0,0.0,0.0,0.0,0.0,0.0,0.0,0.0,0.0,0.0,0.0,0.0,0.0,0.0,0.0,0.0,0.0,0.0,0.0,0.0,0.0,0.0,0.0,0.0,0.0,0.0,0.0,0.0,0.0,0.0,0.0,0.0,0.0,0.0,0.0,0.0,0.0,0.0,0.0,0.0,0.0,0.0,0.0,0.0,0.0,0.0,0.0,0.0,0.0,0.0,0.0,0.0,0.0,0.0,0.0,0.0,0.0,0.0,0.0,0.0,0.0,0.0,0.0,0.0,0.0,0.0,0.0,0.0,0.0,0.0,0.0,0.0,0.0,0.0,0.0,0.0,0.0,0.0,0.0,0.0,0.0,0.0,0.0,0.0,0.0,0.0,0.0,0.0,0.0,0.0,0.0,0.0,0.0,0.0,0.0,0.0,0.0,0.0,0.0,0.0,0.0,0.0,0.0,0.0,0.0,0.0,0.0,0.0,0.0,0.0,0.0,0.0,0.0,0.0,0.0,0.0,0.0,0.0,0.0,0.0,0.0,0.0,0.0,0.0,0.0,0.0,0.0,0.0,0.0,0.0,0.0,0.0,0.0,0.0,0.0,0.0,0.0,0.0,0.0,0.0,0.0,0.0,0.0,0.0,0.0,0.0,0.0,0.0,0.0,0.0,0.0,0.0,0.0,0.0,0.0,0.0,0.0,0.0,0.0,0.0,0.0,0.0,0.0,0.0,0.0,0.0,0.0,0.0,0.0,0.0,0.0,0.0,0.0,0.0,0.0,0.0,0.0,0.0,0.0,0.0,0.0,0.0,0.0,0.0,0.0,0.0,0.0,0.0,0.0,0.0,0.0,0.0,0.0,0.0,0.0,0.0,0.0,0.0,0.0,0.0,0.0,0.0,0.0,0.0,0.0,0.0,0.0,0.0,0.0,0.0,0.0,0.0,0.0,0.0,0.0,0.0,0.0,0.0,0.0,0.0,0.0,0.0,0.0,0.0,0.0,0.0,0.0,0.0,0.0,0.0,0.0,0.0,0.0,0.0,0.0,0.0,0.0,0.0,0.0,0.0,0.0,0.0,0.0,0.0,0.0,0.0,0.0,0.0,0.0,0.0,0.0,0.0,0.0,0.0,0.0,0.0,0.0,0.0,0.0,0.0,0.0,0.0,0.0,0.0,0.0,0.0,0.0,0.0,0.0,0.0,0.0,0.0,0.0,0.0,0.0,0.0,0.0,0.0,0.0,0.0,0.0,0.0,0.0,0.0,0.0,0.0,0.0,0.0,0.0,0.0,0.0,0.0,0.0,0.0,0.0,0.0,0.0,0.0,0.0,0.0,0.0,0.0,0.0,0.0,0.0,0.0,0.0,0.0,0.0,0.0,0.0,0.0,0.0,0.0,0.0,0.0,0.0,0.0,0.0,0.0,0.0,0.0,0.0,0.0,0.0,0.0,0.0,0.0,0.0,0.0,0.0,0.0,0.0,0.0,0.0,0.0,0.0,0.0,0.0,0.0,0.0,0.0,0.0,0.0,0.0,0.0,0.0,0.0,0.0,0.0,0.0,0.0,0.0,0.0,0.0,0.0,0.0,0.0,0.0,0.0,0.0,0.0,0.0,0.0,0.0,0.0,0.0,0.0,0.0,0.0,0.0,0.0,0.0,0.0,0.0,0.0,0.0,0.0,0.0,0.0,0.0,0.0,0.0,0.0,0.0,0.0,0.0,0.0,0.0,0.0,0.0,0.0,0.0,0.0,0.0,0.0,0.0,0.0,0.0,0.0,0.0,0.0,0.0,0.0,0.0,0.0,0.0,0.0,0.0,0.0,0.0,0.0,0.0,0.0,0.0,0.0,0.0,0.0,0.0,0.0,0.0,0.0,0.0,0.0,0.0,0.0,0.0,0.0,0.0,0.0,0.0,0.0,0.0,0.0,0.0,0.0,0.0,0.0,0.0,0.0,0.0,0.0,0.0,0.0,0.0,0.0,0.0,0.0,0.0,0.0,0.0,0.0,0.0,0.0,0.0,0.0,0.0,0.0,0.0,0.0,0.0,0.0,0.0,0.0,0.0,0.0,0.0,0.0,0.0,0.0,0.0,0.0,0.0,0.0,0.0,0.0,0.0,0.0,0.0,0.0,0.0,0.0,0.0,0.0,0.0,0.0,0.0,0.0,0.0,0.0,0.0,0.0,0.0,0.0,0.0,0.0,0.0,0.0,0.0,0.0,0.0,0.0,0.0,0.0,0.0,0.0,0.0,0.0,0.0,0.0,0.0,0.0,0.0,0.0,0.0,0.0,0.0,0.0,0.0,0.0,0.0,0.0,0.0,0.0,0.0,0.0,0.0,0.0,0.0,0.0,0.0,0.0,0.0,0.0,0.0,0.0,0.0,0.0,0.0,0.0,0.0,0.0,0.0,0.0,0.0,0.0,0.0,0.0,0.0,0.0,0.0,0.0,0.0,0.0,0.0,0.0,0.0,0.0,0.0,0.0,0.0,0.0,0.0,0.0,0.0,0.0,0.0,0.0,0.0,0.0,0.0,0.0,0.0,0.0,0.0,0.0,0.0,0.0,0.0,0.0,0.0,0.0,0.0,0.0,0.0,0.0,0.0,0.0,0.0,0.0,0.0,0.0,0.0,0.0,0.0,0.0,0.0,0.0,0.0,0.0,0.0,0.0,0.0,0.0,0.0,0.0,0.0,0.0,0.0,0.0,0.0,0.0,0.0,0.0,0.0,0.0,0.0,0.0,0.0,0.0,0.0,0.0,0.0,0.0,0.0,0.0,0.0,0.0,0.0,0.0,0.0,0.0,0.0,0.0,0.0,0.0,0.0,0.0,0.0,0.0,0.0,0.0,0.0,0.0,0.0,0.0,0.0,0.0,0.0,0.0,0.0,0.0,0.0,0.0,0.0,0.0,0.0,0.0,0.0,0.0,0.0,0.0,0.0,0.0,0.0,0.0,0.0,0.0,0.0,0.0,0.0,0.0,0.0,0.0,0.0,0.0,0.0,0.0,0.0,0.0,0.0,0.0,0.0,0.0,0.0,0.0,0.0,0.0,0.0,0.0,0.0,0.0,0.0,0.0,0.0,0.0,0.0,0.0,0.0,0.0,0.0,0.0,0.0,0.0,0.0,0.0,0.0,0.0,0.0,0.0,0.0,0.0,0.0,0.0,0.0,0.0,0.0,0.0,0.0,0.0,0.0,0.0,0.0,0.0,0.0,0.0,0.0,0.0,0.0,0.0,0.0,0.0,0.0,0.0,0.0,0.0,0.0,0.0,0.0,0.0,0.0,0.0,0.0,0.0,0.0,0.0,0.0,0.0,0.0,0.0,0.0,0.0,0.0,0.0,0.0,0.0,0.0,0.0,0.0,0.0,0.0,0.0,0.0,0.0,0.0,0.0,0.0,0.0,0.0,0.0,0.0,0.0,0.0,0.0,0.0,0.0,0.0,0.0,0.0,0.0,0.0,0.0,0.0,0.0,0.0,0.0,0.0,0.0,0.0,0.0,0.0,0.0,0.0,0.0,0.0,0.0,0.0,0.0,0.0,0.0,0.0,0.0,0.0,0.0,0.0,0.0,0.0,0.0,0.0,0.0,0.0,0.0,0.0,0.0,0.0,0.0,0.0,0.0,0.0,0.0,0.0,0.0,0.0,0.0,0.0,0.0,0.0,0.0,0.0,0.0,0.0,0.0,0.0,0.0,0.0,0.0,0.0,0.0,0.0,0.0,0.0,0.0,0.0,0.0,0.0,0.0,0.0,0.0,0.0,0.0,0.0,0.0,0.0,0.0,0.0,0.0,0.0,0.0,0.0,0.0,0.0,0.0,0.0,0.0,0.0,0.0,0.0,0.0,0.0,0.0,0.0,0.0,0.0,0.0,0.0,0.0,0.0,0.0,0.0,0.0,0.0,0.0,0.0,0.0,0.0,0.0,0.0,0.0,0.0,0.0,0.0,0.0,0.0,0.0,0.0,0.0,0.0,0.0,0.0,0.0,0.0,0.0,0.0,0.0,0.0,0.0,0.0,0.0,0.0,0.0,0.0,0.0,0.0,0.0,0.0,0.0,0.0,0.0,0.0,0.0,0.0,0.0,0.0,0.0,0.0,0.0,0.0,0.0,0.0,0.0,0.0,0.0,0.0,0.0,0.0,0.0,0.0,0.0,0.0,0.0,0.0,0.0,0.0,0.0,0.0,0.0,0.0,0.0,0.0,0.0,0.0,0.0,0.0,0.0,0.0,0.0,0.0,0.0,0.0,0.0,0.0,0.0,0.0,0.0,0.0,0.0,0.0,0.0,0.0,0.0,0.0,0.0,0.0,0.0,0.0,0.0,0.0,0.0,0.0,0.0,0.0,0.0,0.0,0.0,0.0,0.0,-0.8316490052307637,-0.8285278336496223,-0.8244822361884308,-0.8219142283821126,-0.0053968634932914355,-0.009205765911855063,0.00931391453620656,0.02377198838302906,-0.03326064226905632,0.03593513247417438,0.017682477254619775,0.011265558000747706,-0.004063782052065733,-0.03623573560076016,-0.013372789251637759,0.008940145848747104,0.016264310009368132,0.011945711468046133,-0.03770082943607022,-0.10742885561103356,-0.7847151756593045,0.0,0.06255005395540725,0.0,0.0,0.0,0.04639626857109286,0.021261336249718914,0.0,-0.005965660494003084,0.06222483595396988,0.07410587551017128,-0.0028750950249595616,-0.021285029413209703,0.0,0.04791284696149126,-0.14375069550227593,0.049005976040224726,-0.015677522571601973,0.036680979837350976,0.0,-0.07183686422710545,0.0,0.0,0.0,0.0,0.04804092381322438,0.050131256603477406,-0.016731956889725633,-0.05233659806275132,-0.13903536557016538,0.07353342162293965,-0.026794301046424072,0.023312957993512292,-0.12312494010029613,0.0,-0.00438857545308923,-0.008303038719333774,-0.01348071665699389,-0.0131488001373318,-0.012203979846565106,-0.010220335774403498,-0.00744479022972385,-0.010873270122995125,-0.009926586181204552,-0.00983729210882134,-0.00622050308931208,0.0,0.0003982630801084162,-0.002879285528222617,-0.00206664497705108,-0.0002770478772568103,0.0004841525726129393,-0.003355267941235085,-0.00541004576413519,-0.005134986683070683,-0.005756842010097198,-0.005886102775310359,-0.005693951630001045,-0.00470065355459143,-0.0030404194798094473,-0.00394857786379162,-0.0046588995959638765,-0.005450898597940567,-0.005225843593625401,-0.005081956267134623,-0.005129808405951876,-0.005957914008271589,-0.005751225304137797,-0.004751630997080295,-0.004392458918089044,-0.003123049865970258,0.0003307346546427979,0.0026404721094074597,-0.0018399935611472624,-0.004796081302127213,-0.003036949802396515,-0.0041706031501236515,0.03718954363857904,-0.07019710099867246,-0.06486178057159593,0.0,-0.2631813672057894,0.398045375132124,0.5720487105300208,0.5588577712769134,-0.25086978457445985,-0.25483906163073333,-0.24557808225209798,0.5373916514387558,-0.2567269859901617,-0.2615728640520334,0.5563867278226098,0.5091283390435883,-0.2660727185312907,-0.2737599871649277,0.5610328327405685,0.5453194018873522,-0.25573268804899774,-0.2718662480107058,-0.2673761837797005,-0.24964404636709456,0.567081714228224,0.2830168466813751,-0.2391851249110225,-0.2451049069538088,-0.22838870843252881,-0.21583281782720332,0.21920276995530757,-0.23985942306567917,0.5699707257864568,-0.21740436417711384,0.5988041205434448,-0.2284221682344317,-0.24018993141488565,-0.2426490311452551,0.5909166624037211,0.5567571771057483,0.5559371820586887,0.5556227820467581,0.5453605839767602,-0.24681818592549526,-0.2230445502270531,-0.2109248920958505,-0.25712462066609704,-0.25490251973100475,-0.2427862254934373,-0.2571892394428053,-0.2631519702526569,-0.2401496605438246,-0.2558946791342911,-0.24236745877094862,0.5583388731885792,-0.26490054018617853,0.5904413949060898,0.58753079150685,0.5765431629039691,0.5397012876640139,0.5923162533090828,0.5944153464224081,0.5753535187335268,-0.217213368531013,-0.24443759846779883,-0.23222484957593062,-0.23178667372098366,0.5267042482152255,0.5611773867539221,-0.24139856371179808,-0.2608248591511554,-0.2368609629755267,-0.21044292182812374,-0.26362320843143494,-0.22692894881760936,-0.23712571002640132,-0.19770909555131908,0.5597049486496672,-0.24080840421771124,-0.19857325214681484,-0.24658253133822144,-0.2303797760703838,-0.231404305134643,0.5720445416474542,-0.144292285693039,0.5219114724845612,-0.21995563478472827,-0.24963138366644408,0.5952661723149116,0.5726859782490904,0.5356634553015455,-0.23489012783738508,0.5099381647325012,-0.23745895904593042,0.5727319847792937,0.5727469662816463,0.6192385082500491,-0.23285619642074104,0.6046302596177144,0.5488396656982203,0.5739782690689074,0.560611238651336,0.6060391986953092,-0.16237008144123194,-0.16239052524234884,-0.25590393344613344,-0.2612327016309125,-0.24926516236550722,-0.23778184530183588,-0.23089477471426123,-0.2401094205364841,-0.2564792389782074,-0.26468580848477763,-0.2566403685461409,-0.20583932672844968,-0.24351529741538902,-0.20760448046101782,-0.26474746687239853,-0.25697171387043805,0.5534083858003535,0.538153928499334,0.5726275016798712,0.5398744056747925,-0.1836536981728015,-0.13573736277934753,-0.16704452098299558,-0.04514941345195371,0.6084034136132096,0.5924233093518547,0.6538932312438822,0.6146872434442124,0.5107099400398909,0.655716595795391,0.5808289446903562,0.6797869746843151,0.4863358003663999,0.6690264442597694,0.5680836157646462,0.5939386356310888,0.32187585797192236,0.6625043912231421,0.59014158445247,0.5764887760719134,0.6698865763021625,0.5390164492598131,0.5911177923685031,0.6189529396904088,0.555053382182454,0.6420440224338638,0.5321954656882407,0.6377919877834984,0.6830421873068859,0.6250032771868858,0.7032786995424565,0.7320968791628699,0.606879448329055,0.6583708688330849,0.0,0.0,0.7199235920292905,0.6113462364555182,0.0,0.0,0.6546642032536393,0.6059623841435503,0.44072158290192354,0.6164374870481261,0.520748896072975,0.6213833485664495,0.6717213357902327,0.598262253907074,0.5944799053909087,0.6230290472008663,0.6394575569687552,0.6278619618672328,0.5339075252358186,0.6362381773253818,0.631679893367136,0.6069436741839687,0.5631186221996464,0.6262223874453238,0.6549705622659163,0.5382961909368819,0.5672469832253898,0.6273294276869931,0.6269388099404858,0.5221918464629173,0.6807164939581772,0.0,0.0,0.6974184033839441,0.5616054519651427,0.6279170150916435,0.5946159334818565,0.6516918732210502,0.0,0.5691538759123964,0.47511381744845266,0.0,0.0,0.5918215778535088,0.0,0.6378582315012729,0.6810327073288867,0.6635436133408328,0.6006338938758887,0.5140886447852099,0.4700012046077029,0.6743701912613703,0.6671003093054189,0.5559398650609159,0.6168161711309768,0.305599781943158,0.6316938039353026,0.6712691559153684,0.6233617237245108,0.6264984511200388,0.48756029307344867,0.6702886872678457,0.0,0.6918915826829716,0.7284122524767627,0.6653750008574527,0.6120977034700528,0.0,0.6522847841264724,0.24648477350068224,0.7092437970395359,0.3932946875936362,0.6629435835721232,0.7270588856211376,0.6549005786343987,0.0,0.5965404231461245,0.0,0.6303120381079937,0.6589084001774266,0.671009459741811,0.0,0.0,0.6724886046409795,0.0,0.0,0.0,0.6232451257612052,0.6218069559104508,0.5966425638915922,0.6705156789198664,0.5668622349317319,0.6041683580467149,0.0,0.6282295037363589,0.5575134636071009,0.6456567333771024,0.0,0.6590831690385103,0.0,0.0,0.0,0.0,0.0,0.0,0.0,0.4612044043834914,0.6846166881117628,0.5742671637002207,0.6369488511589619,0.0,0.0,0.4782835081220639,0.5794901566642718,0.687816033415022,0.6713598051431549,0.5459185423721843,0.6430009675901671,0.5579590843287481,0.5158712630288682,0.47694666115609474,0.5699363667146188,0.6628332663978006,0.665716752825901,0.0,0.6080584043219808,0.7348685606474766,0.6370625710490744,0.0,0.0,0.6752895178313228,0.0,0.0,0.702877277912906,0.0,0.0,0.0,0.4967435295814601,0.0,0.0,0.0,0.0,0.0,0.0,0.0,0.0,0.6570116116577136,0.6420998984067071,0.638493146680197,0.6064977083529142,0.7064122375148281,0.6733230438303492,0.6818204983105408,0.6130710450176237,0.7122781511278099,0.0,0.6536818591318784,0.5115204617775309,0.5901492351991405,0.5410834614885353,0.6047579568509442,0.0,0.0,0.0,0.6810106523402638,0.6978040553363031,0.0,0.0,0.0,0.6897401209821931,0.0,0.46027523315185914,0.0,0.0,0.6553122657746903,0.7220257114458847,0.6448117951832883,0.0,0.41159089662622733,0.5797821800063395,0.0,0.0,0.0,-0.15895373631831206,0.0,0.0,0.0,0.0,0.6757585122708132,0.7343584109649902,0.0,0.649714975434041,0.0,0.5536086790224533,0.0,0.0,0.593142235227644,0.0,0.5871169881728002,0.0,0.0,0.0,0.0,0.0,0.0,0.0,0.0,0.0,0.4805025085857481,0.0,0.0,0.5338616321904305,0.5654325621062025,0.6621547275423667,0.6682556780486206,0.37331078679781543,0.0,0.641345377346869,0.476278190798108,0.695138393545192,0.0,0.6740031126265521,0.0,0.6693758729082725,0.6700536916654894,0.0,0.0,0.6686704968354786,0.0,0.0,0.0,0.0,0.0,0.0,0.6007809826780423,0.0,0.6697213114293444,0.0,0.0,0.0,0.0,0.0,0.0,0.0,0.0,0.0,0.6120419192317614,0.4610554964379971,0.5140102301452473,0.6945199452629578,0.7278213809617605,0.5575407915967269,0.3402701024653928,0.6132758072535028,0.6199030128415527,0.5913184653756046,0.5583517926100692,0.6704265649682971,0.5796678905370358,0.6261403021792297,0.6680314491549253,0.5394491207904721,0.0,0.6553524500335052,0.577802604408981,0.5558672129354346,0.6408146085077282,0.6079901445654403,0.6226833557611503,0.5654022501046964,0.5484365653598604,0.5598338725022891,0.6347673206509404,0.5697154920438704,0.5600022938564498,0.0,0.6771230742508505,0.6048657703948475,0.4342040990572733,0.5688728550893372,0.6573716523127345,0.0,0.7263007831241776,0.0,0.0,0.0,0.6778730925418456,0.5953032393475084,0.5297295898735417,0.5330195710196345,0.6492211041369504,0.6688731149144769,0.6024029863877076,0.5977480612742511,0.6477010127067724,0.6551404232780227,0.5296222220549524,0.0,0.519058380011103,0.0,0.0,0.0,0.6583819852157233,0.6559766515937915,0.0,0.0,0.47531219334771474,0.5890295424837952,0.5211815703427995,0.6477906589830197,0.0,0.6001978290906361,0.5676992156429757,0.630345056017072,0.6722064748255202,0.6090565627907738,0.5552500247456532,0.5200974234236714,0.4846395809499339,0.6120863747139628,0.0,0.6268135050635336,0.4682387216372319,0.5031789510050918,0.5580944241984391,0.6056489335942787,0.0,0.5636988261985422,0.4577244008111412,0.39060999653213574,0.47096284332271915,0.5995749980603533,0.0,0.6912419552471497,0.0,0.0,0.6211188414337732,0.5902001495965314,0.5514736559406329,0.4661816367350834,0.5644837721494546,0.0,0.0,0.0,0.0,0.0,0.6142823133152807,0.6691473616452651,0.471163091211662,0.5682228972185827,0.5535854379003801,0.7336647596335711,0.5323897731243965,0.6424252432693767,0.0,0.5951632142106061,0.6472088392893897,0.6607954202739909,0.6003685777193158,0.5937371855566286,0.6503798548983671,0.0,0.0,0.0,0.07701694200736928,0.7117879897537583,0.0,0.0,0.0,0.0,0.7203852142421091,0.6682624379966321,0.0,0.0,0.0,0.724224258216204,0.46847728243457604,0.0,0.0,0.0,0.3517884844062893,0.0,0.0,0.6729733618901906,0.0,0.0,0.0,0.3622698825169497,0.0,0.0,0.6552799354725322,0.0,0.0,0.0,0.6758567988995018,0.7335986943920235,0.5738896402987219,0.0,0.4741860032103566,0.0,0.0,0.0,0.0,0.0,0.0,0.0,0.6468961474006836,0.0,0.48069477473553407,0.0,0.0,0.0,0.6296237441699235,0.0,0.0,0.0,0.0,0.0,0.36918427055968955,0.0,0.0,0.0,0.6749513378798683,0.0,0.0,0.0,0.0,0.6032145776941326,0.0,0.7343397880787574,0.7371952375995914,0.0,0.0,0.0,0.0,0.0,0.0,0.0,0.0,0.0,0.0,0.0,0.0,0.0,0.0,0.0,0.7064548744094916,0.627523400086352,0.5922209458038097,0.6745966728858078,0.7224658763385492,0.6344183927551936,0.589833355829848,0.6559146944290944,0.6664569001257887,0.47305995949922897,0.7262333586429449,0.6201570216970473,0.0,0.625064200622403,0.0,0.7500915697180193,0.0,0.6925607232755817,0.660283969729276,0.6096670774717343,0.5981579931436068,0.5897978344180844,0.5859911818567961,0.6046350130281003,0.7248263452659005,0.5619196089889805,0.6464972335379078,0.6495260438358438,0.6104525789908636,0.0,0.6078671338191284,0.0,0.6184359635633352,0.6755722452458357,0.6636983845872352,0.0,0.6666517467054023,0.47816392971477734,0.5509805033195755,0.0,0.0,0.0,0.6546950347284937,0.0,0.6959986154200092,0.4640948090258671,0.6197351223978983,0.606176997098141,0.6058860922341593,0.661297649607806,0.7320083211719731,0.0,0.7423485175709217,0.6317071574046061,0.0,0.0,0.0,0.0,0.0,0.0,0.0,0.6748643910927379,0.5686801155910687,0.6192149057669805,0.0,0.7226437784789743,0.5461499368842926,0.6236470055094133,0.7146292119351475,0.5623888328975651,0.6853368644012955,0.5392749366841234,0.6323986903073024,0.590654257110367,0.0,0.6715680142174903,0.5505418706306002,0.0,0.7195601155332332,0.5627542345960045,0.0,0.6184657527146449,0.0,0.4654955720626,0.6679611996326589,0.7453643928889482,0.3298141033724279,0.6690394384714353,0.6919226532289997,0.0,0.6890795298335013,0.0,0.0,0.0,0.47816392971477734,0.7337400441621811,0.0,0.6601790880779728,0.0,0.0,0.6531981947816861,0.45683166501502953,0.5363864505353136,0.0,0.0,0.7344670694070807,0.6527453182182835,0.580418782667216,0.5569162696759027,0.6502807167969289,0.7120717484195841,0.6252484136699165,0.0,0.4805598177811513,0.6496297941261171,0.6260657462754107,0.6672041322584223,0.6600259483718973,0.6386945974668933,0.6656269888493968,0.7278770564512921,0.5953579172572255,0.6603019709255382,0.6675208183190225,0.0,0.6692838783250858,0.6578838378990699,0.0,0.0,0.0,0.6536432182428834,0.0,0.7318613229819417,0.7358593027720919,0.6735405522151028,0.0,0.0,0.0,0.0,0.0,0.7331301428963658,0.0,0.657164997435209,0.0,0.6428863841471829,0.0,0.0,0.5747176448387137,0.0,0.0,0.6462552128390656,0.0,0.47428895284022676,0.5463676972350503,0.0,0.0,0.0,0.0,0.6474925824075621,0.6614077134443694,0.5997024988819464,0.5241108918806023,0.47595949846747587,0.46394366513115093,0.0,0.0,0.0,0.6602452457722117,0.5557607367103989,0.5959872396566411,0.4672564257825291,0.6093140351780842,0.4732037814519293,0.620276219700931,0.0,0.0,0.5651734588902051,0.27197953951753373,0.0,0.0,0.0,0.6655753597103098,0.5687179615667721,0.5845305715882633,0.6245680928463656,0.0,0.0,0.0,0.0,0.0,0.6945200176719076,0.0,0.0,0.0,0.0,0.0,0.0,0.0,0.0,0.0,0.0,0.67221478567767,0.4175776578197356,0.35819618787036805,0.6695907151855753,0.6144476335903091,0.6562863171699714,0.6638959873943375,0.6677854545529229,0.6276043114384824,0.0,0.6599772923670435,0.644279615700024,0.5388145928913465,0.6625761821570868,0.0,0.0,0.0,0.6639254208074425,0.5414592486530689,0.0,0.0,0.0,0.66600846277911,0.6533665880734074,0.6678924069702388,0.0,0.6018739671155982,0.0,0.0,0.6029755477734109,0.5543833143120517,0.6483060049862157,0.0,0.7134676973052961,0.0,0.0,0.0,0.0,0.0,0.0,0.0,0.6652854959443709,0.47563056828235345,0.0,0.6006462239877876,0.0,0.0,0.0,0.0,0.6309280340118418,0.0,0.4716626036132499,0.7359853449974445,0.0,0.0,0.0,0.0,0.0,0.0,0.6855926370732764,0.6837916963950998,0.6120296539486737,0.0,0.7347940995418504,0.0,0.6681946683441783,0.5408900443738004,0.6679792675503697,0.0,0.5892535827505938,0.7256802286283217,0.0,0.0,0.0,0.0,0.6941153061853053,0.6113134804948526,0.6000071759747788,0.0,0.0,0.6213744312045902,0.0,0.5916711703573589,0.6793488393212607,0.0,0.0,0.46084317708736056,0.6732838657225388,0.0,0.0,0.7420091279631192,0.0,0.0,0.0,0.0,0.6092647758588152,0.0,0.0,0.0,0.5576919014709434,0.6551455487902104,0.6644757935256485,0.6410882219707109,0.0,0.7000280175836056,0.0,0.6752890839014747,0.0,0.0,0.6421005286184803,0.0,0.0,0.5994132193013586,0.0,0.6590647672451354,0.0,0.7109940990989941,0.6627394776342208,0.6151671405122056,0.4747539632186108,0.0,0.0,0.5012155887202989,0.745107065204834,0.6715077499611461,0.0,0.0,0.0,0.0,0.0,0.0,0.0,0.6655609438139323,0.6376016938170598,0.0,0.0,0.0,0.0,0.4755428078349466,0.0,0.0,0.0,0.6467100636925923,0.0,0.0,0.0,0.50704109448297,0.0,0.6695868619048696,0.5610096685744062,0.0,0.6946829610442907,0.0,0.0,0.0,0.0,0.0,0.0,0.0,0.47961157419167166,0.6375707384410416,0.4636779641119141,0.6557088795840683,0.0,0.0,0.5483442877075285,0.0,0.5784014722004759,0.0,0.6575395241875966,0.4805025085857481,0.0,0.6403163754326209,0.0,0.0,0.5219812160872064,0.0,0.0,0.6668240548062261,0.0,0.7119058767277886,0.0,0.685637042412996,0.7029199518223461,0.0,0.0,0.6669409825058285,0.0,0.0,0.6718989871973701,0.0,0.0,0.0,-0.01986433587673613,-0.007216085477213498,-0.015102973642808533,-0.008184425647255338,-0.0023083723750058883,-0.024276937558915232,0.0034863989437413654,-0.038371245183730106,-0.012492565832211533,0.012008047509394314,-0.010307586874325057,-0.010418124288115609,0.027608240862898262,-0.009601605803837978,0.07198137048854304,-0.02083459014892919,0.005012862160765646,6.051163488346875e-05,-0.008107932870802586,0.019156472330628786,0.05469728989031411,0.258543775033159,-0.016424017141113256,-0.010537328514360764,-0.006283101781386036,-0.010003461762458074,-0.01999648125268861,-0.0015465397121654202,-0.011788729971634703,-0.001770090070820614,-0.010099958299811104,0.030497444398175682,-0.007105724489743451,-0.021594222562538606,-0.01851677110743675,-0.0037859451249135723,0.0,0.060367403978330576,0.1408813815109369,-0.003318717751092649,0.0680012394723642,-0.01684856759934858,0.011572948569960908,-0.010487086985721003,-0.019917256097200863,0.005224208517941243,0.06239143864460563,0.05184577859011361,-0.00451523033327663,-0.013531609224508554,-0.00921781147752347,-0.011987317574367192,-0.014430885248824256,-0.01567830460372066,-0.015156137955420533,-0.017381181141564766,-0.0012237248279901422,-0.022570961479690226,-0.022191967818020228,-0.01038104483356135,-0.006243787731762447,-0.022903930952787727,-0.004541775468496312,0.09903044640553088,0.009320665005250405,-0.0045637071698509425,0.012480197631407801,-0.0002982814949569417,-0.0017839852550918878,0.04536083720078943,0.0023694188378565735,0.048803923028287725,-0.014867033281931298,-0.019073056345238773,-0.011992487322856129,-0.024118058391947875,-0.011868483093516109,-0.016735089200508497,0.0708913812225058,-0.0035089586250127477,-0.008618426591706153,-0.006356065990196839,-0.020478942489889167,-0.0073681810456812805,-0.008788004138472779,0.10998797132095199,-0.021255717715545592,-0.02815425894914651,-0.011153325460841848,0.003289264048187487,-0.001098960297373199,-0.007917296260192337,-0.012213785778101864,0.007101476128522787,-0.01924429516557574,-0.0047775999081636445,0.015309032939219478,0.013561181495359603,0.022930581156361554]\n",
            "Intercept: 1.1819718003837834\n"
          ],
          "name": "stdout"
        }
      ]
    },
    {
      "cell_type": "code",
      "metadata": {
        "id": "MKMGqYgFs5v6"
      },
      "source": [
        "#save the model\n",
        "model_path = \"/content/gdrive/My Drive/data/\" + \"TimePredictionsModel\"\n",
        "lr_model.save(model_path)"
      ],
      "execution_count": null,
      "outputs": []
    },
    {
      "cell_type": "code",
      "metadata": {
        "colab": {
          "base_uri": "https://localhost:8080/"
        },
        "id": "v9pkx1zdtKLr",
        "outputId": "e976c111-ddd2-4c29-ed94-cc7b8b6d0d90"
      },
      "source": [
        "lr_predictions = lr_model.transform(test_data)\n",
        "lr_predictions.select(\"prediction\",\"violation_Probability\",\"features\").show(100)"
      ],
      "execution_count": null,
      "outputs": [
        {
          "output_type": "stream",
          "text": [
            "+--------------------+---------------------+--------------------+\n",
            "|          prediction|violation_Probability|            features|\n",
            "+--------------------+---------------------+--------------------+\n",
            "| 0.10808665816314078|                0.125|(3208,[2014,2070,...|\n",
            "| 0.05834560526062749|                  0.1|(3208,[2014,2070,...|\n",
            "| 0.08799305595828644|                  0.5|(3208,[2014,2070,...|\n",
            "| 0.08118185404277645|  0.26436781609195403|(3208,[2014,2070,...|\n",
            "|0.014213345714999104|  0.17011494252873563|(3208,[2014,2070,...|\n",
            "|0.014424692072174672| 0.002298850574712...|(3208,[2014,2070,...|\n",
            "|-0.00278683402013...| 0.011494252873563218|(3208,[2014,2070,...|\n",
            "|0.054561320755022846|  0.08275862068965517|(3208,[2014,2070,...|\n",
            "|  0.1689816049138948|  0.15789473684210525|(3208,[2014,2070,...|\n",
            "| 0.29566785530357875|   0.7034220532319392|(3208,[2014,2070,...|\n",
            "| 0.09749148424875043| 0.011406844106463879|(3208,[2014,2070,...|\n",
            "| 0.10512531974278394| 0.007604562737642...|(3208,[2014,2070,...|\n",
            "| 0.02144577566669903| 0.007604562737642...|(3208,[2014,2070,...|\n",
            "|0.013006021878471996| 0.003802281368821...|(3208,[2014,2070,...|\n",
            "|  0.0600546614267814| 0.003802281368821...|(3208,[2014,2070,...|\n",
            "| 0.09778803743262077| 0.021929824561403508|(3208,[2014,2070,...|\n",
            "| 0.03255341902794573| 0.004385964912280...|(3208,[2014,2070,...|\n",
            "| 0.03430274340383388| 0.004385964912280...|(3208,[2014,2070,...|\n",
            "| 0.09820741866001637|  0.05263157894736842|(3208,[2014,2070,...|\n",
            "| 0.10385443980574416| 0.012987012987012988|(3208,[2014,2070,...|\n",
            "| 0.31795186913098283|   0.5526315789473685|(3208,[2014,2070,...|\n",
            "|0.042559526498475275|  0.02631578947368421|(3208,[2014,2070,...|\n",
            "| 0.04372978949410311|  0.05263157894736842|(3208,[2014,2070,...|\n",
            "|  0.1105764258585682|  0.02857142857142857|(3208,[2014,2070,...|\n",
            "| 0.36410733873096146|  0.02857142857142857|(3208,[2014,2070,...|\n",
            "| 0.17645494492030833|  0.02857142857142857|(3208,[2014,2070,...|\n",
            "|  0.0954494046663652| 0.031818181818181815|(3208,[2014,2070,...|\n",
            "|0.023528545812705692| 0.013636363636363636|(3208,[2014,2070,...|\n",
            "| 0.16434941568875905|  0.07272727272727272|(3208,[2014,2070,...|\n",
            "|0.014680030039349479| 0.004545454545454545|(3208,[2014,2070,...|\n",
            "| 0.11943925759072327| 0.056338028169014086|(3208,[2014,2070,...|\n",
            "| 0.06661435943280902|  0.08450704225352113|(3208,[2014,2070,...|\n",
            "| 0.10984932574678585|   0.2112676056338028|(3208,[2014,2070,...|\n",
            "| 0.13042360184613822| 0.022222222222222223|(3208,[2014,2070,...|\n",
            "| 0.05850274299247871| 0.022222222222222223|(3208,[2014,2070,...|\n",
            "| 0.07195851763828465| 0.037037037037037035|(3208,[2014,2070,...|\n",
            "| 0.10749933519797006| 0.018518518518518517|(3208,[2014,2070,...|\n",
            "|  0.3113458203408148|  0.12962962962962962|(3208,[2014,2070,...|\n",
            "|    0.12080328478002| 0.018518518518518517|(3208,[2014,2070,...|\n",
            "| 0.11519348395226148| 0.037037037037037035|(3208,[2014,2070,...|\n",
            "| 0.15145704496393564|  0.08620689655172414|(3208,[2014,2070,...|\n",
            "| 0.14186711311999822| 0.017241379310344827|(3208,[2014,2070,...|\n",
            "| 0.06748835690102539| 0.017241379310344827|(3208,[2014,2070,...|\n",
            "|  0.2366287379899239|                  0.5|(3208,[2014,2070,...|\n",
            "|-0.00506701403982...| 0.043478260869565216|(3208,[2014,2070,...|\n",
            "| 0.07253583123637952|  0.06521739130434782|(3208,[2014,2070,...|\n",
            "|0.053338514792303116|  0.15217391304347827|(3208,[2014,2070,...|\n",
            "| 0.10042321553859357|                  0.5|(3208,[2014,2070,...|\n",
            "| 0.11241570286144964|                  0.5|(3208,[2014,2070,...|\n",
            "| 0.20256468848055942| 0.043478260869565216|(3208,[2014,2070,...|\n",
            "| 0.13028503649705936|  0.08695652173913043|(3208,[2014,2070,...|\n",
            "| 0.17938724102030412|  0.13043478260869565|(3208,[2014,2070,...|\n",
            "| 0.07594984649201142|  0.11355311355311355|(3208,[2014,2070,...|\n",
            "|0.023124948334097173|  0.04945054945054945|(3208,[2014,2070,...|\n",
            "| 0.14484985751440527|   0.2216117216117216|(3208,[2014,2070,...|\n",
            "|-0.01651046648642085|  0.01098901098901099|(3208,[2014,2070,...|\n",
            "|-0.00481952813500...| 0.016483516483516484|(3208,[2014,2070,...|\n",
            "|0.004894063211922761| 0.012698412698412698|(3208,[2014,2070,...|\n",
            "| 0.06568530381457771| 0.012698412698412698|(3208,[2014,2070,...|\n",
            "|-0.00359756170359...| 0.012698412698412698|(3208,[2014,2070,...|\n",
            "|0.012726390809874921| 0.007042253521126761|(3208,[2014,2070,...|\n",
            "|0.007415247154152205| 0.007042253521126761|(3208,[2014,2070,...|\n",
            "|-0.00427895867374...| 0.007042253521126761|(3208,[2014,2070,...|\n",
            "| 0.10029937608446327|  0.30833333333333335|(3208,[2014,2070,...|\n",
            "|0.022034903814534212| 0.004166666666666667|(3208,[2014,2070,...|\n",
            "| 0.08868540957425086|                0.125|(3208,[2014,2070,...|\n",
            "| 0.09070944424052585|               0.0125|(3208,[2014,2070,...|\n",
            "| 0.11080950846148663|  0.13043478260869565|(3208,[2014,2070,...|\n",
            "| 0.12411345804353657|  0.17391304347826086|(3208,[2014,2070,...|\n",
            "| 0.11850365721577805|  0.30434782608695654|(3208,[2014,2070,...|\n",
            "| 0.10491614159946017| 0.043478260869565216|(3208,[2014,2070,...|\n",
            "| 0.16628893422823032|   0.2857142857142857|(3208,[2014,2070,...|\n",
            "| 0.10359921408866768|  0.07142857142857142|(3208,[2014,2070,...|\n",
            "| 0.37988660482966896|   0.3333333333333333|(3208,[2014,2070,...|\n",
            "| 0.30606440260377654| 0.058823529411764705|(3208,[2014,2070,...|\n",
            "| 0.21117910116244576|  0.08823529411764706|(3208,[2014,2070,...|\n",
            "| 0.30497441333773934| 0.029411764705882353|(3208,[2014,2070,...|\n",
            "| 0.06815647112480439| 0.007751937984496124|(3208,[2014,2070,...|\n",
            "|0.010158485984330223| 0.007751937984496124|(3208,[2014,2070,...|\n",
            "| 0.05659299017476149| 0.031007751937984496|(3208,[2014,2070,...|\n",
            "| 0.02281051132862233| 0.036585365853658534|(3208,[2014,2070,...|\n",
            "|0.017858160802740164|  0.04878048780487805|(3208,[2014,2070,...|\n",
            "| 0.07816505314618727|  0.04878048780487805|(3208,[2014,2070,...|\n",
            "| 0.20719551026563665|  0.21052631578947367|(3208,[2014,2070,...|\n",
            "| 0.19502487182166206|  0.27450980392156865|(3208,[2014,2070,...|\n",
            "| 0.05651290914858165|   0.0392156862745098|(3208,[2014,2070,...|\n",
            "|0.053209714400034525|   0.2857142857142857|(3208,[2014,2071,...|\n",
            "|0.036422660907262205|  0.14285714285714285|(3208,[2014,2071,...|\n",
            "| 0.08285716509769347|  0.14285714285714285|(3208,[2014,2071,...|\n",
            "| 0.07300707983344945| 0.037037037037037035|(3208,[2014,2071,...|\n",
            "| 0.10592465534371875|                 0.02|(3208,[2014,2071,...|\n",
            "|0.033645003360218695|                 0.02|(3208,[2014,2071,...|\n",
            "| 0.08274720788346346|                 0.05|(3208,[2014,2071,...|\n",
            "|0.025155280716703032|                 0.01|(3208,[2014,2071,...|\n",
            "|  0.1842077607446393|  0.26666666666666666|(3208,[2014,2071,...|\n",
            "| 0.13138286258672505|  0.06666666666666667|(3208,[2014,2071,...|\n",
            "|  0.3707701652892552|  0.13333333333333333|(3208,[2014,2071,...|\n",
            "| 0.10300857877857283|  0.06666666666666667|(3208,[2014,2071,...|\n",
            "| 5.73460242083268E-4| 0.007168458781362007|(3208,[2014,2071,...|\n",
            "|0.010235577680804742| 0.007168458781362007|(3208,[2014,2071,...|\n",
            "+--------------------+---------------------+--------------------+\n",
            "only showing top 100 rows\n",
            "\n"
          ],
          "name": "stdout"
        }
      ]
    },
    {
      "cell_type": "code",
      "metadata": {
        "colab": {
          "base_uri": "https://localhost:8080/"
        },
        "id": "KkBzsha9tN2f",
        "outputId": "1d6545e1-dad7-482b-e3be-d8d5d1747aa5"
      },
      "source": [
        "from pyspark.ml.evaluation import RegressionEvaluator\n",
        "lr_evaluator = RegressionEvaluator(predictionCol=\"prediction\", \\\n",
        "                 labelCol=\"violation_Probability\",metricName=\"r2\")\n",
        "print(\"R Squared (R2) on test data = %g\" % lr_evaluator.evaluate(lr_predictions))\n",
        "trainingSummary = lr_model.summary\n",
        "print(\"RMSE: %f\" % trainingSummary.rootMeanSquaredError)\n",
        "print(\"r2: %f\" % trainingSummary.r2)"
      ],
      "execution_count": null,
      "outputs": [
        {
          "output_type": "stream",
          "text": [
            "R Squared (R2) on test data = 0.396989\n",
            "RMSE: 0.115238\n",
            "r2: 0.399310\n"
          ],
          "name": "stdout"
        }
      ]
    },
    {
      "cell_type": "code",
      "metadata": {
        "id": "9QWRT2GUtQSd"
      },
      "source": [
        "dataForGrapgh = lr_predictions.select(\"prediction\",\"violation_Probability\",\"features\")"
      ],
      "execution_count": null,
      "outputs": []
    },
    {
      "cell_type": "code",
      "metadata": {
        "id": "ZJSnu3z7tS_I"
      },
      "source": [
        "dataG =dataForGrapgh.toPandas()"
      ],
      "execution_count": null,
      "outputs": []
    },
    {
      "cell_type": "code",
      "metadata": {
        "colab": {
          "base_uri": "https://localhost:8080/"
        },
        "id": "99BTx8vltXkz",
        "outputId": "063a4048-b161-4b2c-cab1-8fcb8b8d0e06"
      },
      "source": [
        "# Necessary imports: \n",
        "from sklearn.model_selection import cross_val_score, cross_val_predict\n",
        "from sklearn import metrics\n",
        "accuracy = metrics.r2_score(dataG['violation_Probability'], dataG['prediction'])\n",
        "print(\"Cross-Predicted Accuracy:\", accuracy)"
      ],
      "execution_count": null,
      "outputs": [
        {
          "output_type": "stream",
          "text": [
            "Cross-Predicted Accuracy: 0.3969891802453316\n"
          ],
          "name": "stdout"
        }
      ]
    },
    {
      "cell_type": "code",
      "metadata": {
        "colab": {
          "base_uri": "https://localhost:8080/",
          "height": 500
        },
        "id": "41RmZGzvtafc",
        "outputId": "4adcc8b1-0df3-4ac3-fea0-1c148855f99a"
      },
      "source": [
        "from matplotlib import pyplot as plt\n",
        "plt.rcParams[\"figure.figsize\"] = (24, 8)\n",
        "plt.plot(dataG['prediction'][:100], label = \"Pred\")  # Load the 500 data points from prediction with label name 'Pred'\n",
        "plt.plot(dataG['violation_Probability'][:100], label = \"Actual\") "
      ],
      "execution_count": null,
      "outputs": [
        {
          "output_type": "execute_result",
          "data": {
            "text/plain": [
              "[<matplotlib.lines.Line2D at 0x7fd138ae8890>]"
            ]
          },
          "metadata": {
            "tags": []
          },
          "execution_count": 41
        },
        {
          "output_type": "display_data",
          "data": {
            "image/png": "[encoded data removed]",
            "text/plain": [
              "<Figure size 1728x576 with 1 Axes>"
            ]
          },
          "metadata": {
            "tags": [],
            "needs_background": "light"
          }
        }
      ]
    },
    {
      "cell_type": "markdown",
      "metadata": {
        "id": "laRk25yeBZI7"
      },
      "source": [
        "#### 11. Predict probability of causing parking violations which can be occurred in particular locations for particular day of a month.\n",
        "\n",
        "\n",
        "\n"
      ]
    },
    {
      "cell_type": "code",
      "metadata": {
        "id": "EpH9LPmAC_YY"
      },
      "source": [
        "from pyspark.sql.functions import udf,desc\n",
        "from datetime import datetime\n",
        "\n",
        "from pyspark.sql.functions import date_format\n",
        "from pyspark.sql.functions import to_date, date_format\n",
        "from functools import reduce  # For Python 3.x\n",
        "from pyspark.sql import DataFrame\n",
        "from pyspark.ml.linalg import Vectors\n",
        "from pyspark.ml.feature import VectorAssembler\n",
        "\n",
        "from pyspark.ml.feature import OneHotEncoder\n",
        "\n",
        "from pyspark.ml.regression import LinearRegression\n",
        "\n",
        "from sklearn.model_selection import cross_val_score, cross_val_predict\n",
        "from sklearn import metrics\n",
        "\n",
        "from matplotlib import pyplot as plt\n",
        "\n",
        "from pyspark.sql.functions import *"
      ],
      "execution_count": null,
      "outputs": []
    },
    {
      "cell_type": "code",
      "metadata": {
        "id": "ySBzQ2qMBYEo"
      },
      "source": [
        "from pyspark.sql.functions import unix_timestamp, from_unixtime\n",
        "parking2017_Col_change.createOrReplaceTempView(\"parking2017\")\n",
        "parking2016_Col_change.createOrReplaceTempView(\"parking2016\")\n",
        "parking2015_Col_change.createOrReplaceTempView(\"parking2015\")\n",
        "parking2014_Col_change.createOrReplaceTempView(\"parking2014\")"
      ],
      "execution_count": null,
      "outputs": []
    },
    {
      "cell_type": "code",
      "metadata": {
        "id": "TdlxGSr8B25M"
      },
      "source": [
        "parkingtable2017 = spark.sql(\"select Issue_Date,Violation_Location,Violation_Code from parking2017\")\n",
        "parkingtable2016 = spark.sql(\"select Issue_Date,Violation_Location,Violation_Code from parking2016\")\n",
        "parkingtable2015 = spark.sql(\"select Issue_Date,Violation_Location,Violation_Code from parking2015\")\n",
        "parkingtable2014 = spark.sql(\"select Issue_Date,Violation_Location,Violation_Code from parking2014\")"
      ],
      "execution_count": null,
      "outputs": []
    },
    {
      "cell_type": "code",
      "metadata": {
        "id": "qmNqoo6OCZRV",
        "colab": {
          "base_uri": "https://localhost:8080/"
        },
        "outputId": "7046e934-272f-4108-87d3-fa13215fba7f"
      },
      "source": [
        "from pyspark.sql.functions import unix_timestamp, from_unixtime\n",
        "\n",
        "combinedparkingtable2 = parkingtable2017.union(parkingtable2016).union(parkingtable2015).union(parkingtable2014)\n",
        "combinedparkingtable2.show()"
      ],
      "execution_count": null,
      "outputs": [
        {
          "output_type": "stream",
          "text": [
            "+----------+------------------+--------------+\n",
            "|Issue_Date|Violation_Location|Violation_Code|\n",
            "+----------+------------------+--------------+\n",
            "|07/10/2016|              null|             7|\n",
            "|07/08/2016|              null|             7|\n",
            "|08/23/2016|              null|             5|\n",
            "|06/14/2017|                14|            47|\n",
            "|11/21/2016|                13|            69|\n",
            "|06/13/2017|              null|             7|\n",
            "|08/03/2016|                71|            40|\n",
            "|12/21/2016|              null|            36|\n",
            "|11/21/2016|              null|            36|\n",
            "|10/05/2016|              null|             5|\n",
            "|01/11/2017|               106|            78|\n",
            "|09/27/2016|                18|            19|\n",
            "|10/27/2016|              null|            36|\n",
            "|09/30/2016|                44|            21|\n",
            "|02/04/2017|                73|            40|\n",
            "|07/07/2016|               120|            71|\n",
            "|09/24/2016|              null|             7|\n",
            "|01/26/2017|                17|            64|\n",
            "|04/30/2017|                17|            20|\n",
            "|02/03/2017|              null|            36|\n",
            "+----------+------------------+--------------+\n",
            "only showing top 20 rows\n",
            "\n"
          ],
          "name": "stdout"
        }
      ]
    },
    {
      "cell_type": "code",
      "metadata": {
        "id": "ylhC_oqXCdve"
      },
      "source": [
        "combinedparkingtable2=combinedparkingtable2.dropna()"
      ],
      "execution_count": null,
      "outputs": []
    },
    {
      "cell_type": "code",
      "metadata": {
        "id": "CGvSKlU-C4qh"
      },
      "source": [
        "combinedparkingtable2.createOrReplaceTempView(\"combinedparkingtableView2\")"
      ],
      "execution_count": null,
      "outputs": []
    },
    {
      "cell_type": "code",
      "metadata": {
        "id": "mtBteWItC8fe"
      },
      "source": [
        "data_2014 = spark.sql(\"select year(from_unixtime(unix_timestamp(Issue_Date, 'MM/dd/yyy'))) as year,month(from_unixtime(unix_timestamp(Issue_Date, 'MM/dd/yyy'))) as month,day(from_unixtime(unix_timestamp(Issue_Date, 'MM/dd/yyy'))) as day,Violation_Location, Violation_Code , count(*) as frequency from combinedparkingtableView2  Group by year,month,day,Violation_Location, Violation_Code order by year,month,day,Violation_Location,Violation_Code \")\n",
        "data_2014.createOrReplaceTempView(\"data_2014\")\n",
        "data_2014 = spark.sql(\"select year,month,day,Violation_Location,Violation_Code,frequency from data_2014 where year >= 2014 \")\n",
        "\n"
      ],
      "execution_count": null,
      "outputs": []
    },
    {
      "cell_type": "code",
      "metadata": {
        "id": "58trHveaDFgq"
      },
      "source": [
        "data_2014_day = spark.sql(\"select year(from_unixtime(unix_timestamp(Issue_Date, 'MM/dd/yyy'))) as year,month(from_unixtime(unix_timestamp(Issue_Date, 'MM/dd/yyy'))) as month,day(from_unixtime(unix_timestamp(Issue_Date, 'MM/dd/yyy'))) as day,Violation_Location,count(*) as totalViolation from combinedparkingtableView2  Group by year,month,day,Violation_Location order by year,month,day,Violation_Location \")\n",
        "data_2014_day.createOrReplaceTempView(\"data_2014_day\")\n",
        "data_2014_day= spark.sql(\"select year,month,day,Violation_Location,totalViolation from data_2014_day where year >= 2014 \")\n"
      ],
      "execution_count": null,
      "outputs": []
    },
    {
      "cell_type": "code",
      "metadata": {
        "id": "2dYCqepqDMp4"
      },
      "source": [
        "import pyspark.sql.functions as F\n",
        "from pyspark.sql.functions import round, col\n",
        "df_2014 = data_2014.join(data_2014_day, (data_2014.Violation_Location == data_2014_day.Violation_Location) & (data_2014.year == data_2014_day.year)& (data_2014.month == data_2014_day.month) & (data_2014_day.day == data_2014_day.day))\\\n",
        "    .withColumn(\"violation_probability\", round(F.col(\"frequency\") / F.col(\"totalViolation\"), 5))\\\n",
        "    .drop(data_2014_day.totalViolation).drop(data_2014.frequency).drop(data_2014_day.Violation_Location).drop(data_2014_day.month).drop(data_2014_day.day).drop(data_2014_day.year)\n",
        "\n",
        "\n",
        "#df_2015.show()"
      ],
      "execution_count": null,
      "outputs": []
    },
    {
      "cell_type": "code",
      "metadata": {
        "id": "MergCVsVDS7o"
      },
      "source": [
        "full_df = df_2014"
      ],
      "execution_count": null,
      "outputs": []
    },
    {
      "cell_type": "code",
      "metadata": {
        "id": "MNnwA-W1DVwX",
        "colab": {
          "base_uri": "https://localhost:8080/"
        },
        "outputId": "dc07060c-060b-4cc6-b411-8c51601883bb"
      },
      "source": [
        "from pyspark.sql.functions import countDistinct\n",
        "df2=full_df.select(countDistinct(\"Violation_Location\"))\n",
        "df2.show()"
      ],
      "execution_count": null,
      "outputs": [
        {
          "output_type": "stream",
          "text": [
            "+----------------------------------+\n",
            "|count(DISTINCT Violation_Location)|\n",
            "+----------------------------------+\n",
            "|                               661|\n",
            "+----------------------------------+\n",
            "\n"
          ],
          "name": "stdout"
        }
      ]
    },
    {
      "cell_type": "code",
      "metadata": {
        "id": "AfM36uqiDYyA"
      },
      "source": [
        "day_encoded = OneHotEncoder(inputCol=\"day\", outputCol=\"day_one\")\n",
        "df_buck = day_encoded.fit(full_df).transform(full_df)\n",
        "\n",
        "location_encoded = OneHotEncoder(inputCol=\"Violation_Location\", outputCol=\"Violation_Location_one\")\n",
        "df_buck1 = location_encoded.fit(df_buck).transform(df_buck)\n",
        "\n",
        "code_encoded = OneHotEncoder(inputCol=\"Violation_Code\", outputCol=\"Violation_Code_one\")\n",
        "df_buck2 = code_encoded.fit(df_buck1).transform(df_buck1)"
      ],
      "execution_count": null,
      "outputs": []
    },
    {
      "cell_type": "code",
      "metadata": {
        "id": "1pm9TZaUDiPC"
      },
      "source": [
        "#for training data\n",
        "#assembler = VectorAssembler(inputCols=[\"day_one\",\"month_one\",\"Violation_Location_one\",\"week_one\",\"Violation_Code_one\"], outputCol=\"features\")\n",
        "# Assemble all the features with VectorAssembler\n",
        "required_features = [\"year\",\"month\",\"day_one\",\"Violation_Location_one\",\"Violation_Code_one\"]\n",
        "\n",
        "from pyspark.ml.feature import VectorAssembler\n",
        "\n",
        "numericCols = [] #['prob']\n",
        "assemblerInputs = [c  for c in required_features] + numericCols\n",
        "assembler = VectorAssembler(inputCols=assemblerInputs, outputCol='features')\n",
        "\n",
        "transformed_data = assembler.transform(df_buck2)"
      ],
      "execution_count": null,
      "outputs": []
    },
    {
      "cell_type": "code",
      "metadata": {
        "id": "5fY3yWPEDp8S"
      },
      "source": [
        "(training_data, test_data) = transformed_data.randomSplit([0.8,0.2], seed =2020)"
      ],
      "execution_count": null,
      "outputs": []
    },
    {
      "cell_type": "code",
      "metadata": {
        "id": "djf8XBcqDtsg",
        "colab": {
          "base_uri": "https://localhost:8080/"
        },
        "outputId": "9be2ca6f-f78a-400c-ec6a-98f713abc5c8"
      },
      "source": [
        "lr = LinearRegression(featuresCol = 'features', labelCol='violation_probability')\n",
        "lr_model = lr.fit(training_data)\n",
        "print(\"Coefficients: \" + str(lr_model.coefficients))\n",
        "print(\"Intercept: \" + str(lr_model.intercept))"
      ],
      "execution_count": null,
      "outputs": [
        {
          "output_type": "stream",
          "text": [
            "Coefficients: [0.009199549948034355,0.0007121834758366491,0.0,0.00043891759462972885,-0.001373657626029045,-0.0012541678576756916,0.0009234904346694903,0.0007424948972180504,-0.0008608249973083394,-0.001287253171153631,-0.0015896548280358727,-0.001993229177387437,-0.00230404098544258,-0.0013051131599843384,-0.0019100418242700677,-0.0018078659191576938,-0.001058737827023118,-0.0015482714878441717,-0.0013249172606016179,-0.0009946135216185753,0.00020705370346498368,-0.0008100777510756564,-0.0014841745062684792,-0.0023105194208989997,-0.0023394500454352526,-0.0015520103092155132,-0.0016083058720089657,0.0006854011389667825,0.0015418526123608662,-0.0008504570020884737,-0.0017651277843882434,-0.0003909038591258999,-0.0012688237753391803,0.0,-0.9240308961564747,-0.3435724841999254,-0.1373415812582218,-0.19867175134175163,-0.9242477698765481,-0.9224864703347101,-0.9193796993369054,-0.20606491433469465,-0.9223784910594371,-0.9261115158021718,-0.18508710241164344,-0.23908763183936743,-0.9265774030577572,-0.9270517435651728,-0.2167588957371557,-0.2121010126533382,-0.925805320378434,-0.9249206991735345,-0.924294616812751,-0.9242319104842271,-0.1246997498030856,-0.49203315653338237,-0.9177319609239523,-0.9206819350075863,-0.9156747450318397,-0.9142501050015637,-0.5195649876298322,-0.9181852802980892,-0.09538167883092336,-0.9121969201227698,-0.03955246096816231,-0.9115411681101112,-0.9141485841698411,-0.916272279526041,-0.028359620494770373,-0.1200200461630433,-0.0804303222258213,-0.056784918040548554,-0.09040197069758417,-0.9182677390741879,-0.9148373469262916,-0.903477563805414,-0.9179847451065992,-0.9173975789336524,-0.9177698027947454,-0.9185823781815852,-0.9189492905892632,-0.9175085443996448,-0.9185526013589267,-0.9155353308435923,-0.05501334966452816,-0.9184643420972274,-0.050078948884532924,-0.08459441579541221,-0.022500998177996227,-0.09785846492199271,-0.08416797590607633,-0.031073280968717094,-0.021806162725515558,-0.9125937201552088,-0.9158087780919519,-0.9149788652537489,-0.9136374506656344,-0.1083220641375968,-0.12213323704988116,-0.9139045303703134,-0.9158531453742454,-0.9142451856299804,-0.906635010908343,-0.9147591877142172,-0.9109665125444493,-0.9146052877369033,-0.9059965602500687,-0.17345351021509361,-0.9122528689668871,-0.9062551806515456,-0.9148942026582492,-0.9147016339012901,-0.9147959808176814,-0.09218521810045564,-0.884242188423532,-0.14713814300363298,-0.9121744290192724,-0.9190164342916415,-0.0535122275079496,-0.10594323626617985,-0.1836609840733296,-0.9171915428528106,-0.19354938803058727,-0.9156979948367066,-0.07162260735756355,-0.029366746375506417,0.007578327758493365,-0.9172926777038084,-0.04044480220571817,-0.08887618899674576,-0.02641831133289203,-0.08979856084099458,-0.05249400017631537,-0.8999899534677733,-0.8985736459732313,-0.9187108393728994,-0.9196740234053696,-0.9176083703571971,-0.9148759168726266,-0.9135197296284926,-0.9154445411330363,-0.9200802542260184,-0.9210363145654175,-0.9198586728431454,-0.9057525330639938,-0.9180357151998874,-0.9075784812331663,-0.9207396387034971,-0.9233885755465733,-0.1299497544253008,-0.12789118629535642,-0.11630247104911531,-0.1614324299942909,-0.8977470569472813,-0.8832384051512431,-0.8919838375959595,-0.8442719397617755,0.0017980822387004627,-0.007841455830087201,0.01990791556241277,-0.00720205038582196,-0.12235832910834964,0.019931756112612577,-0.06434805919495716,0.06913111082554875,-0.2941210282463998,-0.0020601803179671383,-0.018745658439072867,0.06975920240809252,-0.3116220538309451,0.0391506649438644,-0.04960475057484487,0.0,0.06106613245789641,-0.01906806058924781,-0.013024260153262307,0.00029911300991379054,-0.06773335951080493,0.062552163287549,-0.0894451219928383,0.03724298960517608,0.05527824341433399,0.0067483455077262154,0.06767234741589905,0.06717009117676269,0.06068837215609894,0.0006973303059012156,0.0,0.0,0.07285935963972878,0.0054275160626958115,0.0,0.0,0.017896165300572874,-0.011283402595741301,-0.17637630374644592,0.016025087718633212,-0.09586533300116998,-0.03731629235919288,0.03734137191683987,-0.007185645894895833,-0.027459075533168283,0.03496164328475527,0.020236811810128548,0.01705721055606402,-0.14701190764452257,-0.025962057712576755,0.006479121297695513,-0.0020437141805288855,-0.14362911611722182,-0.006801501420143454,0.020724580756354884,-0.060982744936833116,-0.08683093124124897,-0.021964666970601964,0.03241515710976199,-0.036530938091724016,0.0437637043189655,0.0,0.0,0.03930962502667263,-0.07897859494011528,0.04290154129377314,0.04292053105754462,-0.004273382392561247,0.0,-0.07207894113034478,-0.14298775168074046,0.0,0.0,0.06347260107883039,0.0,0.05643423642034169,0.05950659267064434,0.02391492365524089,0.0018771354105727002,-0.13744411190953976,-0.13799056946373464,0.06475286830672837,0.02923724556345757,-0.0404328523481153,-0.012125241063736468,-0.07572090412020178,0.04523775556369131,0.046517517466810286,0.020669978710047318,0.03942436095948877,-0.020368292347544677,0.01440284794353595,0.0,0.04145461937520519,0.05836929793953005,0.038339071370266764,-0.0014475140809875663,0.0,-0.0030115578679013404,-0.32158428226241315,-0.16430674350542585,-0.2686985409609808,0.03680334904792587,0.0638279641589418,-0.19743661588723913,0.0,0.022905275850196537,0.0,0.08255261324382447,-0.1360172587154028,-0.050379948985029704,0.0,0.0,0.0,0.0,0.0,0.0,0.01737152430514191,0.013972156267517478,-0.07173130688224091,0.0032894534339116387,0.0013873814815987592,-0.011118266342827856,0.012508831857897458,0.007095696353991416,0.0722062646911673,0.034535247433162,0.0,0.022880796172675782,0.0,0.0,0.0,0.0,0.0,0.0,0.0,0.0,0.029459790166211954,-0.028936447411217644,-0.0035834650695643466,0.0,0.0,-0.13335893393937617,0.008276919622209429,0.006959265511382519,-0.0024023762616531526,-0.021179923457653283,0.01174191516641019,-0.0792772227676943,-0.07010868535195737,-0.13724210987384827,-0.03300551384128792,0.009530452551584575,0.05597963082937248,0.0,0.02966561453297918,0.06997760441882488,-0.010142293980193286,0.0,0.03753424608395752,0.013690658167871609,0.0,0.0,0.03752615172010723,0.0,0.0,0.0,0.04201535911145189,0.0,0.0,0.0,0.0,0.0,0.0,0.0,0.0,0.019645824714017483,0.018535530644861253,-0.013566989576597065,0.008723721135274707,0.05051332570949819,0.04425566710495136,0.021607921320710963,0.030392540336148167,0.07174952248594156,0.013732049597053783,0.03812877758437628,0.01152719054728722,-0.0076950685679264205,-0.012958581781993704,0.032315012690194544,0.0,0.0,0.07656517680502997,0.024279456030289234,0.040098189254522916,0.0,0.0,0.0,-0.31491371971560905,0.0,0.0,-0.02146693352358215,0.0,0.02795903124188275,0.0,-0.12160035787410095,0.06591758556788857,-0.1194075589726704,-0.012453769629634322,0.0,0.0,0.0,-0.02722192736404861,0.0,0.0,0.0,0.0,0.014619770889709734,0.06723849874372925,0.0,-0.002315971143159546,0.0,0.004236140584175469,0.0,0.0,0.0020132189369184874,0.0,0.008012924907320047,0.0011972399274404956,0.0,0.0,0.0,0.0,0.0,0.0,0.0,0.0,-0.13296897121998852,0.0,0.0,0.07388822814628809,-0.14664360744134583,0.03661243442910326,0.03218331418297907,-0.13197010760244055,0.0,-0.06173041468666977,-0.13471076890603328,0.07139731401430333,0.0,0.0429928512709985,0.0,0.0,0.0,0.0,0.0,-0.3041139210729436,0.0,0.08247865010914246,0.0,0.0,0.0,0.0,0.04043129541466125,0.0,0.001991770798896069,0.0,0.0,0.0,0.0,0.0,0.0,-0.13875838969992313,0.0,0.0,-5.6706849334497056e-05,-0.14050348477146818,-0.14576465417508452,-0.02146758929441806,-0.13606408817874616,-0.08163668596443328,-0.3973479457657319,0.008787594340935144,-0.012321890778874843,-0.008818277877433476,-0.11894206808243973,0.03260571260029529,-0.06562501432361365,0.0009540728226246054,-0.020653025981143436,-0.20075216988234143,0.0,0.024316396026078615,-0.08538202114898036,-0.06401363892214099,-0.16544446378966118,0.02135213807088127,-0.019273403718551806,-0.0724277391213366,-0.12184124308426127,-0.16460266014006655,0.03372811542481562,-0.06680548373199771,-0.19404936426936625,0.0,0.03872120829355181,0.0053566861875951445,-0.07426562252360648,-0.11384705665770385,0.008035719598901498,0.0,0.07165829011921541,0.0,0.0,0.0,-0.06857853117408247,-0.011534843539028823,-0.08574957550482953,-0.08634976950294006,0.01743905172723123,0.04170057252001846,-0.004103685135539885,-0.052774885619659505,0.017895065469115373,0.03311682363928062,-0.18265514986353346,0.0,-0.12269608822524054,0.0,0.0,0.044904026644256516,0.0,0.0,0.0,0.0,-0.14177475553199712,-0.022970257669476055,-0.16015300420831005,0.028032770256095473,0.06779085945558488,-0.019904766076453913,-0.07441516632603437,-0.00513665449351375,-0.10541126493237002,-0.021386138406367907,-0.10284914199308229,-0.18817334476569847,-0.14621497000367958,-0.13562526712058082,0.0,-0.041752728411582125,-0.24178560374612712,-0.21217301071802797,-0.0449942356332142,0.003320269855905069,0.07117541124804647,-0.14392679308515197,-0.03909682978439242,-0.282476861925784,-0.25240352818925993,0.014399931150742938,0.0,0.025201921728645833,0.0,0.006277475239269687,-0.033870019770471396,-0.007265746358336506,0.011085874573172535,-0.03780899029427698,-0.007587973414583062,0.0,0.0,0.0,0.0,0.0,0.027336393361234616,-0.005743093015630089,-0.1392593665730097,-0.03847010162886735,0.07396326835346669,0.07107529006948736,-0.06697328756097959,-0.020065810606799853,0.0,0.0712599020817274,0.0,0.00023244631572527086,0.007713824805667035,0.01323313550337193,-0.015105505491289407,0.0,0.0,0.0,-0.47659182989920335,0.04468783101772103,0.0,0.0,0.0,0.0,0.06267434493247762,0.0059656869789232484,0.0,0.0,0.0,0.0,-0.1553942086367913,0.0,0.007839874414157804,0.0,-0.4670785870434543,0.0,0.0,0.004465071273229774,0.0,0.0,0.003858038346331882,-0.14817647791302252,0.0,0.0,0.02796979609470927,0.0,0.0,0.0,0.013137003641505902,0.07737369791977528,0.009367455487210116,0.0,-0.1436168278037972,0.0,0.0,0.0,0.0,0.0,0.0,0.0,0.05071562379088459,0.0,-0.13197010760244055,0.0,0.0,0.0,0.03132333875180482,0.0,0.0,0.0,0.009935532347101475,0.0,-0.13530754258256913,0.0,0.0,0.0,0.0,0.0,0.0,0.0,0.0,-0.0413549359467285,0.0,0.059216108754511096,0.0,0.0,0.0,0.0,0.0,0.0,0.0,0.0,0.0,0.0,0.0,0.0,0.0,0.0,0.0,0.0,0.036698534371628656,0.04780158133931025,-0.05234081832127793,0.04618687881381191,0.08172851234419157,0.012769869116174549,-0.13479242213783482,0.05234674897103978,0.008657703901997271,-0.044566795547426805,0.07038619127471032,0.06733386604314229,0.0,-0.021842244687895165,0.014462963265928245,0.08099918541826102,0.0,0.052130271332495606,-0.004503289456962619,0.004086466719062019,0.0401725807218734,0.0018546836875899767,0.0,-0.03758563913142899,0.06384895338920436,0.03902014519239714,0.05330305528309771,-0.014570294027843683,0.051987456973282116,0.0,-0.010768679755938699,0.0,0.01839835000378201,0.0137341704394796,0.056050296241041325,0.0,0.005200435618930256,-0.13341322270947645,-0.0008446245944744437,0.0,0.0,0.0,0.032115473351089045,0.0,0.04340420007045257,-0.14757931111512465,0.013715434883717499,0.0018344041791575917,0.013467334672190127,0.0424342431979944,0.0777124904953337,0.0,0.07661528002845347,0.0815105840298671,0.013732049597053783,0.0,0.0,0.0,0.0,0.0,0.0,0.03587210004003418,-0.008084677023588583,0.06781715984249928,0.0,0.06831289158602001,-0.08805339427366352,-0.022102151579263877,0.031868982328712735,0.009338103441607648,0.002969737143329501,-0.09809859969061537,0.03973805580251123,-0.010424130975402401,0.0,0.079992385897237,-0.04969878624270464,0.0,0.0,-0.04547646076104856,0.0,0.033013326380901084,0.0,-0.052253179843415175,0.010396735459278243,0.07925712828372501,-0.24601204458154738,0.0017214690193587297,0.058540937169586,0.004515939351922636,0.026733333594348062,0.0,0.0,0.0,-0.03292007678535539,0.06649209623688233,0.0,0.0,0.0,0.0,0.00625158690828439,-0.2522326114185295,-0.13768636136338291,0.0,0.0,0.07847867084776781,-0.006017478234399368,-0.061275149035794375,-0.003713710437117535,0.0660179755692778,0.06001821696660513,0.03903502995349761,0.0,-0.13196347508248196,0.028479900141058553,0.07133211540437852,0.00027645087570093383,0.0028256245728352962,0.014048119794260835,0.008074439542323673,0.0686506160861133,0.03590273839070974,-0.004693910562246993,0.009389990267948508,0.0,0.04014785659656317,0.006414537177278215,0.0,0.0,0.0,0.061497011600934945,0.0,0.0,0.08406816180024955,0.015158549990704715,0.0,0.0,0.0,0.0,0.0,0.0420999324061281,-0.012193059307224804,0.03764602253412895,0.0,0.01115564371964462,0.0,0.0,0.0013717590297824946,-0.011909235670241646,0.0,0.04185351860215794,0.0,-0.13815630168521742,-0.0009071392400184142,0.0,0.0,0.0,0.0,0.0,0.00036747480274415024,-0.03381915674509205,0.015158549990704715,-0.13749421513301083,-0.14991361594773556,0.0,0.0,-0.13697417158767772,0.0,0.012025120104690841,0.006378457314024528,0.005203352411737225,-0.30940329417444695,-0.1430038651952771,-0.016699288171616894,0.0,0.0,-0.35387516494899207,-0.17018784801034093,0.008411270980683776,0.0,0.0,0.01121902699581778,-0.00425718037840277,0.04198207725516501,0.0021249362380589077,0.0,0.0,0.0,0.0,0.0,0.06155323522317799,0.0,0.0,0.0,0.0,0.0,0.0,0.0,0.0,0.0,0.0,0.027855932230818076,-0.4337817372852621,-0.22352115259619212,-0.05939574312238002,0.02756419209941095,-0.0016677076208224469,-0.05886342882933349,0.04190246833734777,0.06431580193151143,0.0,0.05650110818534293,0.04994780355461428,-0.06634541596177938,0.07222140297213324,0.0,0.0,0.0,0.0019882210786105452,-0.02091832188186696,0.0,0.0,0.0,0.024221454530404134,0.06297291322441881,0.0036323600650638886,0.06966766750296836,-0.14361072199099686,0.0,0.0,-0.015224537221222346,0.0,0.05217467502403763,0.0,0.049720126444639974,0.0,0.0,0.0,0.0,0.0,0.0,0.0,-0.005341457185489069,-0.13961488813154296,0.0,-0.07071973142531995,0.0,0.0,0.0,0.0,0.08055751886753552,0.0,-0.13606983558165425,0.0,0.0,0.0,0.0,0.0,0.0,0.0,-0.04087822920554945,0.013523450320985632,0.06874978959205391,0.0,0.052865238816984135,0.0,0.0038950829747383827,-0.04444133872438957,0.007823063351319834,0.0014773165289726567,-0.007977936133996843,0.07746760125302089,0.0,0.0,0.0,0.0,0.0,-0.0036768328567055603,-0.0069744360129016265,0.0,0.0,-0.00935935376780125,0.0,-0.16461173489742784,0.025096368856418614,0.0,0.0,-0.14142631019157356,0.07528281332112448,0.0,0.0,0.07333169894602373,0.0,0.0,0.0,0.0,0.07045280542381094,0.0,0.0,0.0,0.0030837043665946605,0.07406466535493994,0.005228129127550795,0.04963079094649184,0.0,0.05483485493554489,0.0,0.0,0.0,0.07489778294467829,0.033124327872333464,0.0,0.0,0.0,-0.005193820183784348,0.011463380614414959,0.0,0.0757136292426085,0.03026010769502508,-5.299513566765986e-06,-0.1359096305973415,0.0,0.0,-0.29820167517444013,0.06903691147552586,-0.005451404087643746,0.012794645832003078,0.0,0.0,0.0,0.0,0.0,0.0,-0.009868258126219834,0.015011096114161439,0.0,0.0,0.0,0.0,-0.14408796587122652,0.0,0.0,0.0,0.0350951477293886,0.0,0.0,0.0,-0.07759546989901363,0.0,0.009461031785560022,0.016327180170349596,0.0,0.06893507093027076,0.0,0.0,0.0,0.0,0.0,0.0,0.0,-0.13339660799613104,0.02337393511944932,-0.14906279432988012,0.002469827521790392,0.0,0.0,-0.07890818448938468,-0.15033354545179153,0.04246170735219835,0.0,0.010154486005496777,-0.13296897121998852,0.0,0.006336647743898938,0.0,0.07131617597280969,-0.10134339438698471,0.0,-0.14221936393912654,0.008765445060768392,0.0,0.0,0.0,0.04551669952633025,-0.12874230459738426,0.0,0.0,0.0069554434911611104,0.0,0.0,0.0,0.0,0.0,0.0,-0.013740187823324207,-0.005166779703172703,-0.005948846123167364,-0.005113218164384183,0.0007862912851902856,-0.004756934478917543,-0.0026761400756795902,-0.020799017375859045,-0.0031956592437483266,0.007301014877860057,-0.0008849331837588829,-0.005179503972258173,0.007505192760372614,0.0007237185875357168,0.07829022970624266,-0.003773991509873804,0.011398960083055507,0.005847799944863923,-0.0016085869098059556,0.030575032478039724,0.06951184245607481,0.21571876260337242,-0.008375886648107678,-0.005839097953305695,-0.0008763339775697219,-0.007772648148421852,-0.008354683081242327,0.0003026125867323287,0.005627712964649051,-0.007759240114084065,-0.00848312881056198,0.0355520106209717,0.0004288547232949785,-0.013668887784635864,0.0071030793118584306,-0.0010108734143775035,0.0,0.06257911103694232,0.1335790781515716,0.0024468516657608305,0.06692652725793721,-0.0064757901165723684,0.017588762304557845,-0.005966983422767189,-0.0015201853225030961,0.012588317874154702,0.06859146958193384,0.06116435308584291,0.0035937277923940828,-0.004734882740697372,0.0030855485458319886,-0.0004724621838737141,-0.005701848947833769,-0.004202716659234707,0.009578965096289973,-0.0041756691632466696,-0.0025016244956766157,0.0011023616706202005,-0.007158276228002041,-0.00395532528254147,-0.00032200375882423523,-0.007136946449333345,-0.001996384985676797,0.00960606690218996,0.012592380573225308,-0.006250956849937909,0.005686512707625986,0.0024367629668605203,0.000744030195168811,0.05085139154094788,0.023091437121966003,0.07201841504261564,-0.0059313463854506875,-0.007481704075010043,0.004583976095773468,-0.010674286911887685,-0.0010867821941620173,-0.0033886983976925754,0.008407767239311654,-0.0007847734243410314,-0.003039518691103674,-0.002069998948025786,-0.005527216686091409,-2.9350971412550095e-05,3.0601193850383046e-05,0.022279649332497854,0.0054255529026328644,-0.00034122214164900044,-0.0026875604485555784,0.0007991213714650128,0.004974547051773865,-0.003986636524318632,-0.005390944638920994,-0.004036521204181387,-0.011263784317912416,0.000796699773667846,-0.0021090659678746166,0.009854322976343468,0.006710268913024254]\n",
            "Intercept: -17.611475919327475\n"
          ],
          "name": "stdout"
        }
      ]
    },
    {
      "cell_type": "code",
      "metadata": {
        "id": "NupVhibvDziH",
        "colab": {
          "base_uri": "https://localhost:8080/"
        },
        "outputId": "4ea1d694-62b3-4614-83bc-679d68a144a3"
      },
      "source": [
        "lr_predictions = lr_model.transform(test_data)\n",
        "lr_predictions.select(\"prediction\",\"violation_probability\",\"features\").show(100)"
      ],
      "execution_count": null,
      "outputs": [
        {
          "output_type": "stream",
          "text": [
            "+--------------------+---------------------+--------------------+\n",
            "|          prediction|violation_probability|            features|\n",
            "+--------------------+---------------------+--------------------+\n",
            "| 0.02969370166169938|              0.07258|(1126,[0,1,3,104,...|\n",
            "| 0.01118624063550655|              0.01613|(1126,[0,1,3,104,...|\n",
            "|0.018751570341478896|                0.125|(1126,[0,1,7,155,...|\n",
            "|  0.0342962840301233|                 0.25|(1126,[0,1,7,155,...|\n",
            "| 0.03259878570383634|                 0.25|(1126,[0,1,7,155,...|\n",
            "|0.037061857398999365|              0.00152|(1126,[0,1,8,103,...|\n",
            "|  0.6897697205270319|                  1.0|(1126,[0,1,8,45,1...|\n",
            "| 0.07010131635995975|              0.03951|(1126,[0,1,8,103,...|\n",
            "|-0.00606009093137061|              0.00318|(1126,[0,1,10,77,...|\n",
            "|-0.00524607266982...|              0.01274|(1126,[0,1,10,77,...|\n",
            "|-0.00188672524354...|              0.00318|(1126,[0,1,10,77,...|\n",
            "|0.020422275060361983|              0.00318|(1126,[0,1,10,77,...|\n",
            "| 0.21355876382634165|              0.13814|(1126,[0,1,13,76,...|\n",
            "|  0.0647665284809058|              0.05706|(1126,[0,1,13,76,...|\n",
            "| 0.06643147080490053|              0.03303|(1126,[0,1,13,76,...|\n",
            "|0.003526513930594888|                0.003|(1126,[0,1,13,76,...|\n",
            "|0.020931438344934605|              0.02703|(1126,[0,1,13,76,...|\n",
            "| 0.06913584118976246|              0.05304|(1126,[0,1,15,123...|\n",
            "|-0.00785770534131...|              0.00129|(1126,[0,1,15,123...|\n",
            "|-0.00750437495813...|              0.00151|(1126,[0,1,17,148...|\n",
            "|-0.00421325975247...|              0.00452|(1126,[0,1,17,148...|\n",
            "|-0.00827944972874306|              0.00753|(1126,[0,1,17,148...|\n",
            "|-0.01200970420410...|              0.00151|(1126,[0,1,17,148...|\n",
            "|-0.01528869161987...|              0.00151|(1126,[0,1,17,148...|\n",
            "|-0.01084650623597...|              0.00151|(1126,[0,1,17,148...|\n",
            "|-0.01179362406918...|              0.00151|(1126,[0,1,17,148...|\n",
            "|-0.00109671863184...|              0.00452|(1126,[0,1,17,148...|\n",
            "| 0.07962949485649418|               0.0634|(1126,[0,1,19,112...|\n",
            "| 0.21705802775362315|              0.55908|(1126,[0,1,19,112...|\n",
            "|0.008049534063275132|              0.00576|(1126,[0,1,19,112...|\n",
            "| 0.07963114619097311|              0.08247|(1126,[0,1,21,95,...|\n",
            "| 0.03191594896276939|              0.15464|(1126,[0,1,21,95,...|\n",
            "| 0.06754831415970841|              0.17742|(1126,[0,1,21,123...|\n",
            "| 0.06921325648370313|              0.06452|(1126,[0,1,21,123...|\n",
            "|  0.0042155146941667|              0.01613|(1126,[0,1,21,123...|\n",
            "|0.005924892580502217|              0.01031|(1126,[0,1,21,95,...|\n",
            "|0.005205762997544383|              0.03226|(1126,[0,1,21,123...|\n",
            "|-0.01005250001011504|              0.03226|(1126,[0,1,21,123...|\n",
            "|0.008051185397754068|              0.02062|(1126,[0,1,21,95,...|\n",
            "| -0.0124072153315673|              0.00196|(1126,[0,1,23,34,...|\n",
            "|-0.00336375614295...|               0.0609|(1126,[0,1,23,34,...|\n",
            "|-0.01568734620439116|              0.00196|(1126,[0,1,23,34,...|\n",
            "|0.008377206216739097|              0.00982|(1126,[0,1,23,34,...|\n",
            "| 0.01387988103414628|              0.00196|(1126,[0,1,23,34,...|\n",
            "|-8.03788848507736E-4|              0.01572|(1126,[0,1,23,34,...|\n",
            "| 0.08314329072882032|                0.125|(1126,[0,1,24,134...|\n",
            "| 0.07562650302569907|              0.02162|(1126,[0,1,26,61,...|\n",
            "|0.008735233402511255|              0.00541|(1126,[0,1,26,61,...|\n",
            "|0.003184073264318...|              0.02162|(1126,[0,1,26,61,...|\n",
            "|0.027911305797495345|              0.16216|(1126,[0,1,26,61,...|\n",
            "| 0.06592774290138692|              0.21081|(1126,[0,1,26,61,...|\n",
            "|4.218218652880523E-4|              0.00541|(1126,[0,1,26,61,...|\n",
            "|-0.00263312548669...|              0.00541|(1126,[0,1,26,61,...|\n",
            "|0.031347448638413766|              0.04878|(1126,[0,1,3,81,1...|\n",
            "| 0.23542607719015862|              0.00855|(1126,[0,1,3,134,...|\n",
            "|0.022144077553644337|              0.04274|(1126,[0,1,3,134,...|\n",
            "| 0.02045134478195365|              0.02564|(1126,[0,1,3,134,...|\n",
            "|-0.00114629612327...|                  0.2|(1126,[0,1,4,127,...|\n",
            "|0.022267144757517343|              0.02857|(1126,[0,1,4,127,...|\n",
            "| 0.07361088350934963|              0.48571|(1126,[0,1,4,138,...|\n",
            "|0.010000235706044691|              0.01905|(1126,[0,1,4,138,...|\n",
            "| 0.06375797527609706|              0.03226|(1126,[0,1,15,52,...|\n",
            "|-0.00828527361653...|                0.002|(1126,[0,1,19,38,...|\n",
            "|-0.00155254048791...|              0.02405|(1126,[0,1,19,38,...|\n",
            "|-0.00841121384715...|                0.002|(1126,[0,1,19,38,...|\n",
            "|0.055178770604165095|              0.05411|(1126,[0,1,19,38,...|\n",
            "|-0.01336732385554...|                0.002|(1126,[0,1,19,38,...|\n",
            "|0.001007426806534...|              0.01002|(1126,[0,1,19,38,...|\n",
            "|-0.01292755711886...|                0.002|(1126,[0,1,19,38,...|\n",
            "|-0.00736973923892...|              0.00401|(1126,[0,1,19,38,...|\n",
            "|0.001466029700488...|              0.00556|(1126,[0,1,22,147...|\n",
            "| 0.05819734079256733|              0.18465|(1126,[0,1,22,147...|\n",
            "| 0.12919730790719797|               0.2792|(1126,[0,1,22,147...|\n",
            "| 0.06254475701356199|              0.06007|(1126,[0,1,22,147...|\n",
            "|-7.88042451979720...|              0.00222|(1126,[0,1,22,147...|\n",
            "|-0.00129622169854...|               0.0178|(1126,[0,1,22,147...|\n",
            "|-0.00470377400320...|              0.00222|(1126,[0,1,22,147...|\n",
            "| 0.06763664479824172|              0.07675|(1126,[0,1,22,147...|\n",
            "|0.004025996994936776|              0.00667|(1126,[0,1,22,147...|\n",
            "|-0.00742128893547...|              0.00111|(1126,[0,1,22,147...|\n",
            "|0.003883247833087...|              0.00463|(1126,[0,1,23,80,...|\n",
            "|-0.00269404845723642|              0.00463|(1126,[0,1,23,80,...|\n",
            "|-0.00429410102234...|              0.00926|(1126,[0,1,23,80,...|\n",
            "| 0.07613573880301416|              0.05111|(1126,[0,1,27,57,...|\n",
            "| 0.06986392413938702|              0.03066|(1126,[0,1,27,57,...|\n",
            "|-0.00212388970938...|              0.01193|(1126,[0,1,27,57,...|\n",
            "| 0.13049040988885707|              0.13491|(1126,[0,1,29,141...|\n",
            "| 0.06550280131921582|              0.01012|(1126,[0,1,29,141...|\n",
            "|5.050595296793858E-4|              0.02024|(1126,[0,1,29,141...|\n",
            "|-0.00311801923412...|              0.00675|(1126,[0,1,29,141...|\n",
            "|0.003621600650308...|              0.01012|(1126,[0,1,29,141...|\n",
            "|0.008023334864070364|              0.00431|(1126,[0,1,6,144,...|\n",
            "|  0.0134031800530785|              0.00431|(1126,[0,1,6,144,...|\n",
            "|0.006588237362571192|              0.00862|(1126,[0,1,6,144,...|\n",
            "|  0.0221329510512156|              0.05603|(1126,[0,1,6,144,...|\n",
            "|0.013755785005752585|              0.00862|(1126,[0,1,6,144,...|\n",
            "|  0.7579638780115694|              0.66667|(1126,[0,1,20,45,...|\n",
            "| 0.07426118962119688|              0.04255|(1126,[0,1,25,108...|\n",
            "| 0.07676776220774073|              0.17021|(1126,[0,1,25,108...|\n",
            "|0.001360648767430...|              0.01064|(1126,[0,1,25,108...|\n",
            "+--------------------+---------------------+--------------------+\n",
            "only showing top 100 rows\n",
            "\n"
          ],
          "name": "stdout"
        }
      ]
    },
    {
      "cell_type": "code",
      "metadata": {
        "id": "8UZYbuPYD4Lb"
      },
      "source": [
        "dataForGrapgh = lr_predictions.select(\"prediction\",\"violation_probability\",\"features\")"
      ],
      "execution_count": null,
      "outputs": []
    },
    {
      "cell_type": "code",
      "metadata": {
        "id": "FoWj3DFXEJzf"
      },
      "source": [
        "dataG =dataForGrapgh.toPandas()"
      ],
      "execution_count": null,
      "outputs": []
    },
    {
      "cell_type": "code",
      "metadata": {
        "id": "fEqAZCRsELHV",
        "colab": {
          "base_uri": "https://localhost:8080/"
        },
        "outputId": "3da5eb55-6780-4c45-c6e4-3a6e97a76539"
      },
      "source": [
        "# Necessary imports: \n",
        "accuracy = metrics.r2_score(dataG['violation_probability'], dataG['prediction'])\n",
        "print(\"Cross-Predicted Accuracy:\", accuracy)"
      ],
      "execution_count": null,
      "outputs": [
        {
          "output_type": "stream",
          "text": [
            "Cross-Predicted Accuracy: 0.5457364595350402\n"
          ],
          "name": "stdout"
        }
      ]
    },
    {
      "cell_type": "code",
      "metadata": {
        "id": "mwGkfKBiERTZ",
        "colab": {
          "base_uri": "https://localhost:8080/",
          "height": 500
        },
        "outputId": "4cb3542b-2589-47fa-be77-5cffe8b1c887"
      },
      "source": [
        "plt.rcParams[\"figure.figsize\"] = (24, 8)\n",
        "plt.plot(dataG['prediction'][:100], label = \"Pred\")  # Load the 500 data points from prediction with label name 'Pred'\n",
        "plt.plot(dataG['violation_probability'][:100], label = \"Actual\")"
      ],
      "execution_count": null,
      "outputs": [
        {
          "output_type": "execute_result",
          "data": {
            "text/plain": [
              "[<matplotlib.lines.Line2D at 0x7f3e137d97d0>]"
            ]
          },
          "metadata": {
            "tags": []
          },
          "execution_count": 26
        },
        {
          "output_type": "display_data",
          "data": {
            "image/png": "[encoded data removed]",
            "text/plain": [
              "<Figure size 1728x576 with 1 Axes>"
            ]
          },
          "metadata": {
            "tags": [],
            "needs_background": "light"
          }
        }
      ]
    }
  ]
}